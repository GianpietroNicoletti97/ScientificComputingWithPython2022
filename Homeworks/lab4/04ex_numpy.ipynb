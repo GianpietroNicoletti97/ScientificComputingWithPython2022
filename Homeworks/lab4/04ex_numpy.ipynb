{
 "cells": [
  {
   "cell_type": "markdown",
   "metadata": {},
   "source": [
    "**Name-Surname:** Gianpietro Nicoletti <br>\n",
    "**ID**: 2053042"
   ]
  },
  {
   "cell_type": "markdown",
   "metadata": {},
   "source": [
    "1\\. **Reductions**\n",
    "\n",
    "Find the total mean, and the mean for each row and column of the following matrix:\n",
    "\n",
    "```python\n",
    "m = np.arange(12).reshape((3,4))\n",
    "```"
   ]
  },
  {
   "cell_type": "code",
   "execution_count": 1,
   "metadata": {},
   "outputs": [],
   "source": [
    "import numpy as np\n",
    "import math as mt\n",
    "import matplotlib.pyplot as plt\n",
    "import timeit"
   ]
  },
  {
   "cell_type": "code",
   "execution_count": 2,
   "metadata": {},
   "outputs": [],
   "source": [
    "BOLD = '\\033[1m'\n",
    "END = '\\033[0m'"
   ]
  },
  {
   "cell_type": "code",
   "execution_count": 3,
   "metadata": {},
   "outputs": [
    {
     "name": "stdout",
     "output_type": "stream",
     "text": [
      "[[ 0  1  2  3]\n",
      " [ 4  5  6  7]\n",
      " [ 8  9 10 11]]\n",
      "\u001b[1m \n",
      "Row mean: \u001b[0m [1.5 5.5 9.5]\n",
      "\u001b[1m \n",
      "Comumn mean: \u001b[0m [4. 5. 6. 7.]\n",
      "\u001b[1m \n",
      "Total mean: \u001b[0m 5.5\n"
     ]
    }
   ],
   "source": [
    "m = np.arange(12).reshape((3,4))\n",
    "\n",
    "row_mean = m.mean(axis = 1)\n",
    "column_mean = m.mean(axis = 0)\n",
    "tot_mean = m.mean()\n",
    "\n",
    "print(m)\n",
    "print(BOLD,\"\\nRow mean:\",END, row_mean)\n",
    "print(BOLD,\"\\nComumn mean:\",END, column_mean)\n",
    "print(BOLD,\"\\nTotal mean:\",END, tot_mean)"
   ]
  },
  {
   "cell_type": "markdown",
   "metadata": {},
   "source": [
    "2\\. **Outer product**\n",
    "\n",
    "Find the outer product of the following vectors:\n",
    "\n",
    "```python\n",
    "u = np.array([1, 3, 5, 7])\n",
    "v = np.array([2, 4, 6, 8])\n",
    "```\n",
    "\n",
    "Use different methods to do this:\n",
    "\n",
    "   1. Using the function `outer` in numpy\n",
    "   2. Using a nested `for` loop or a list comprehension\n",
    "   3. Using numpy broadcasting operations"
   ]
  },
  {
   "cell_type": "code",
   "execution_count": 4,
   "metadata": {},
   "outputs": [
    {
     "name": "stdout",
     "output_type": "stream",
     "text": [
      "u =  [1 3 5 7]\n",
      "\n",
      "v =  [2 4 6 8]\n",
      "\u001b[1m \n",
      "Outer product with np.outer\n",
      " \u001b[0m\n",
      "[[ 2  4  6  8]\n",
      " [ 6 12 18 24]\n",
      " [10 20 30 40]\n",
      " [14 28 42 56]]\n",
      "\u001b[1m \n",
      "Outer product with for loop\n",
      " \u001b[0m\n",
      "[[ 2.  4.  6.  8.]\n",
      " [ 6. 12. 18. 24.]\n",
      " [10. 20. 30. 40.]\n",
      " [14. 28. 42. 56.]]\n",
      "\u001b[1m \n",
      "Outer product with broadcasting\n",
      " \u001b[0m\n",
      "[[ 2  6 10 14]\n",
      " [ 4 12 20 28]\n",
      " [ 6 18 30 42]\n",
      " [ 8 24 40 56]]\n"
     ]
    }
   ],
   "source": [
    "u = np.array([1, 3, 5, 7])\n",
    "v = np.array([2, 4, 6, 8])\n",
    "\n",
    "print(\"u = \",u)\n",
    "print(\"\\nv = \",v)\n",
    "outer_np = np.outer(u,v)\n",
    "\n",
    "print(BOLD,\"\\nOuter product with np.outer\\n\",END)\n",
    "print(outer_np)\n",
    "\n",
    "print(BOLD,\"\\nOuter product with for loop\\n\",END)\n",
    "\n",
    "outer_for = np.zeros((u.shape[0],v.shape[0]))\n",
    "\n",
    "for i in range(u.shape[0]):\n",
    "    for j in range(v.shape[0]):\n",
    "        outer_for[i][j]=u[i]*v[j]\n",
    "        \n",
    "print(outer_for)\n",
    "print(BOLD,\"\\nOuter product with broadcasting\\n\",END)\n",
    "\n",
    "outer_broadcasting = u*v.reshape(v.shape[0],1)\n",
    "\n",
    "print(outer_broadcasting)\n"
   ]
  },
  {
   "cell_type": "markdown",
   "metadata": {},
   "source": [
    "3\\. **Matrix masking**\n",
    "\n",
    "Create a 10 by 6 matrix of float random numbers, distributed between 0 and 3 according to a flat distribution.\n",
    "\n",
    "After creating the matrix, set all entries $< 0.3$ to zero using a mask."
   ]
  },
  {
   "cell_type": "code",
   "execution_count": 5,
   "metadata": {},
   "outputs": [
    {
     "name": "stdout",
     "output_type": "stream",
     "text": [
      "\u001b[1m Random matrix\n",
      " \u001b[0m [[1.17964916 2.52802069 2.20678871 2.559595   2.67410873 2.33710568]\n",
      " [1.03009778 1.04128871 1.93079828 0.97933996 0.4282122  2.02062492]\n",
      " [0.59619436 0.7520702  2.75945912 0.85107292 0.07608343 2.00337716]\n",
      " [1.40664679 2.86087403 0.48613902 0.58527422 1.26632233 1.02952946]\n",
      " [0.50759228 2.66670727 1.26337158 0.19695959 1.66867173 1.23375681]\n",
      " [2.31556885 0.35690774 0.08085957 1.60077871 0.36774773 2.42084081]\n",
      " [1.23908591 0.34997153 1.48895739 0.97615892 1.19815249 1.90181535]\n",
      " [0.75276448 0.46023928 1.66932477 1.20885024 2.66571864 2.91750643]\n",
      " [1.87311958 2.29141789 0.88883875 2.4027627  1.35195199 2.0525458 ]\n",
      " [2.60124375 0.51596543 2.74788847 1.73036156 2.3963205  0.99207241]]\n",
      "\u001b[1m \n",
      "\n",
      "Mask for value < 3\n",
      " \u001b[0m [[False False False False False False]\n",
      " [False False False False False False]\n",
      " [False False False False  True False]\n",
      " [False False False False False False]\n",
      " [False False False  True False False]\n",
      " [False False  True False False False]\n",
      " [False False False False False False]\n",
      " [False False False False False False]\n",
      " [False False False False False False]\n",
      " [False False False False False False]]\n",
      "\u001b[1m \n",
      "\n",
      "Zero after masking\n",
      " \u001b[0m [[1.17964916 2.52802069 2.20678871 2.559595   2.67410873 2.33710568]\n",
      " [1.03009778 1.04128871 1.93079828 0.97933996 0.4282122  2.02062492]\n",
      " [0.59619436 0.7520702  2.75945912 0.85107292 0.         2.00337716]\n",
      " [1.40664679 2.86087403 0.48613902 0.58527422 1.26632233 1.02952946]\n",
      " [0.50759228 2.66670727 1.26337158 0.         1.66867173 1.23375681]\n",
      " [2.31556885 0.35690774 0.         1.60077871 0.36774773 2.42084081]\n",
      " [1.23908591 0.34997153 1.48895739 0.97615892 1.19815249 1.90181535]\n",
      " [0.75276448 0.46023928 1.66932477 1.20885024 2.66571864 2.91750643]\n",
      " [1.87311958 2.29141789 0.88883875 2.4027627  1.35195199 2.0525458 ]\n",
      " [2.60124375 0.51596543 2.74788847 1.73036156 2.3963205  0.99207241]]\n"
     ]
    }
   ],
   "source": [
    "rand = np.random.uniform(0,3,(10,6)) \n",
    "rand_mask = rand < 0.3\n",
    "print(BOLD,\"Random matrix\\n\",END,rand)\n",
    "print(BOLD,\"\\n\\nMask for value < 3\\n\",END,rand_mask)\n",
    "\n",
    "rand[rand_mask] = 0\n",
    "print(BOLD,\"\\n\\nZero after masking\\n\",END,rand)"
   ]
  },
  {
   "cell_type": "markdown",
   "metadata": {},
   "source": [
    "4\\. **Trigonometric functions**\n",
    "\n",
    "Use `np.linspace` to create an array of 100 numbers between $0$ and $2\\pi$ (inclusive).\n",
    "\n",
    "  * Extract every 10th element using the slice notation\n",
    "  * Reverse the array using the slice notation\n",
    "  * Extract elements where the absolute difference between the `sin` and `cos` functions evaluated for that element is $< 0.1$\n",
    "  * **Optional**: make a plot showing the sin and cos functions and indicate where they are close"
   ]
  },
  {
   "cell_type": "code",
   "execution_count": 11,
   "metadata": {
    "scrolled": false
   },
   "outputs": [
    {
     "name": "stdout",
     "output_type": "stream",
     "text": [
      "\u001b[1m Vector:\n",
      " \u001b[0m [0.         0.06346652 0.12693304 0.19039955 0.25386607 0.31733259\n",
      " 0.38079911 0.44426563 0.50773215 0.57119866 0.63466518 0.6981317\n",
      " 0.76159822 0.82506474 0.88853126 0.95199777 1.01546429 1.07893081\n",
      " 1.14239733 1.20586385 1.26933037 1.33279688 1.3962634  1.45972992\n",
      " 1.52319644 1.58666296 1.65012947 1.71359599 1.77706251 1.84052903\n",
      " 1.90399555 1.96746207 2.03092858 2.0943951  2.15786162 2.22132814\n",
      " 2.28479466 2.34826118 2.41172769 2.47519421 2.53866073 2.60212725\n",
      " 2.66559377 2.72906028 2.7925268  2.85599332 2.91945984 2.98292636\n",
      " 3.04639288 3.10985939 3.17332591 3.23679243 3.30025895 3.36372547\n",
      " 3.42719199 3.4906585  3.55412502 3.61759154 3.68105806 3.74452458\n",
      " 3.8079911  3.87145761 3.93492413 3.99839065 4.06185717 4.12532369\n",
      " 4.1887902  4.25225672 4.31572324 4.37918976 4.44265628 4.5061228\n",
      " 4.56958931 4.63305583 4.69652235 4.75998887 4.82345539 4.88692191\n",
      " 4.95038842 5.01385494 5.07732146 5.14078798 5.2042545  5.26772102\n",
      " 5.33118753 5.39465405 5.45812057 5.52158709 5.58505361 5.64852012\n",
      " 5.71198664 5.77545316 5.83891968 5.9023862  5.96585272 6.02931923\n",
      " 6.09278575 6.15625227 6.21971879 6.28318531]\n",
      "\u001b[1m \n",
      "\n",
      "Vector every ten element:\n",
      " \u001b[0m [0.         0.63466518 1.26933037 1.90399555 2.53866073 3.17332591\n",
      " 3.8079911  4.44265628 5.07732146 5.71198664]\n",
      "\u001b[1m \n",
      "\n",
      "Vector reversed:\n",
      " \u001b[0m [6.28318531 6.21971879 6.15625227 6.09278575 6.02931923 5.96585272\n",
      " 5.9023862  5.83891968 5.77545316 5.71198664 5.64852012 5.58505361\n",
      " 5.52158709 5.45812057 5.39465405 5.33118753 5.26772102 5.2042545\n",
      " 5.14078798 5.07732146 5.01385494 4.95038842 4.88692191 4.82345539\n",
      " 4.75998887 4.69652235 4.63305583 4.56958931 4.5061228  4.44265628\n",
      " 4.37918976 4.31572324 4.25225672 4.1887902  4.12532369 4.06185717\n",
      " 3.99839065 3.93492413 3.87145761 3.8079911  3.74452458 3.68105806\n",
      " 3.61759154 3.55412502 3.4906585  3.42719199 3.36372547 3.30025895\n",
      " 3.23679243 3.17332591 3.10985939 3.04639288 2.98292636 2.91945984\n",
      " 2.85599332 2.7925268  2.72906028 2.66559377 2.60212725 2.53866073\n",
      " 2.47519421 2.41172769 2.34826118 2.28479466 2.22132814 2.15786162\n",
      " 2.0943951  2.03092858 1.96746207 1.90399555 1.84052903 1.77706251\n",
      " 1.71359599 1.65012947 1.58666296 1.52319644 1.45972992 1.3962634\n",
      " 1.33279688 1.26933037 1.20586385 1.14239733 1.07893081 1.01546429\n",
      " 0.95199777 0.88853126 0.82506474 0.76159822 0.6981317  0.63466518\n",
      " 0.57119866 0.50773215 0.44426563 0.38079911 0.31733259 0.25386607\n",
      " 0.19039955 0.12693304 0.06346652 0.        ]\n",
      "\u001b[1m \n",
      "\n",
      "Vector with condition:\n",
      " \u001b[0m [0.76159822 0.82506474 3.87145761 3.93492413]\n"
     ]
    },
    {
     "data": {
      "image/png": "[encoded data removed]",
      "text/plain": [
       "<Figure size 576x432 with 1 Axes>"
      ]
     },
     "metadata": {
      "needs_background": "light"
     },
     "output_type": "display_data"
    }
   ],
   "source": [
    "\n",
    "vect = np.linspace(0,2*mt.pi,100)\n",
    "\n",
    "print(BOLD,\"Vector:\\n\",END,vect)\n",
    "\n",
    "print(BOLD,\"\\n\\nVector every ten element:\\n\",END,vect[0:100:10])\n",
    "\n",
    "print(BOLD,\"\\n\\nVector reversed:\\n\",END, vect[::-1])\n",
    "\n",
    "print(BOLD,\"\\n\\nVector with condition:\\n\",END, vect[abs(np.sin(vect)-np.cos(vect))<0.1])\n",
    "\n",
    "plt.figure(figsize=(8, 6))\n",
    "#dotted style to see the point used to build the curves\n",
    "plt.plot(vect,np.sin(vect), linestyle = \"dotted\")\n",
    "plt.plot(vect,np.cos(vect),linestyle = \"dotted\") \n",
    "plt.vlines(vect[abs(np.sin(vect)-np.cos(vect))<0.1],-1,1) #point where they are close\n",
    "plt.show()"
   ]
  },
  {
   "cell_type": "markdown",
   "metadata": {},
   "source": [
    "5\\. **Matrices**\n",
    "\n",
    "Create a matrix that shows the 10 by 10 multiplication table.\n",
    "\n",
    " * Find the trace of the matrix\n",
    " * Extract the anti-diagonal matrix (this should be ```array([10, 18, 24, 28, 30, 30, 28, 24, 18, 10])```)\n",
    " * Extract the diagonal offset by 1 upwards (this should be ```array([ 2,  6, 12, 20, 30, 42, 56, 72, 90])```)"
   ]
  },
  {
   "cell_type": "code",
   "execution_count": 16,
   "metadata": {},
   "outputs": [
    {
     "name": "stdout",
     "output_type": "stream",
     "text": [
      "\u001b[1m Matrix\n",
      " \u001b[0m [[  1   2   3   4   5   6   7   8   9  10]\n",
      " [  2   4   6   8  10  12  14  16  18  20]\n",
      " [  3   6   9  12  15  18  21  24  27  30]\n",
      " [  4   8  12  16  20  24  28  32  36  40]\n",
      " [  5  10  15  20  25  30  35  40  45  50]\n",
      " [  6  12  18  24  30  36  42  48  54  60]\n",
      " [  7  14  21  28  35  42  49  56  63  70]\n",
      " [  8  16  24  32  40  48  56  64  72  80]\n",
      " [  9  18  27  36  45  54  63  72  81  90]\n",
      " [ 10  20  30  40  50  60  70  80  90 100]]\n",
      "\u001b[1m \n",
      "\n",
      "Trace: \u001b[0m385\n",
      "\u001b[1m \n",
      "\n",
      "Antidiagonal:  \u001b[0m [10 18 24 28 30 30 28 24 18 10]\n",
      "\u001b[1m \n",
      "\n",
      "Diagonal with offset 1 upwards:  \u001b[0m [ 2  6 12 20 30 42 56 72 90]\n"
     ]
    }
   ],
   "source": [
    "ten_matrix = np.arange(1,11)*np.arange(1,11).reshape(10,1)\n",
    "\n",
    "print(BOLD,\"Matrix\\n\",END,ten_matrix)\n",
    "\n",
    "print(BOLD,\"\\n\\nTrace: \"+END + str(ten_matrix.trace()))\n",
    "\n",
    "print(BOLD,\"\\n\\nAntidiagonal: \",END, np.flip(ten_matrix,axis=0).diagonal()) #antidiagonal = diagonal of the matrix rotated\n",
    "\n",
    "print(BOLD,\"\\n\\nDiagonal with offset 1 upwards: \",END,np.diagonal(ten_matrix,1))"
   ]
  },
  {
   "cell_type": "markdown",
   "metadata": {},
   "source": [
    "6\\. **Broadcasting**\n",
    "\n",
    "Use broadcasting to create a grid of distances.\n",
    "\n",
    "Route 66 crosses the following cities in the US: Chicago, Springfield, Saint-Louis, Tulsa, Oklahoma City, Amarillo, Santa Fe, Albuquerque, Flagstaff, Los Angeles.\n",
    "\n",
    "The corresponding positions in miles are: 0, 198, 303, 736, 871, 1175, 1475, 1544, 1913, 2448\n",
    "\n",
    "  * Build a 2D grid of distances among each city along Route 66\n",
    "  * Convert the distances in km"
   ]
  },
  {
   "cell_type": "code",
   "execution_count": 8,
   "metadata": {},
   "outputs": [
    {
     "name": "stdout",
     "output_type": "stream",
     "text": [
      "\u001b[1m Distances in miles:\n",
      " \u001b[0m [   0  198  303  736  871 1175 1475 1544 1913 2448]\n",
      "(10, 1)\n",
      "\u001b[1m \n",
      "\n",
      "Distances grid in miles:\n",
      " \u001b[0m [[   0.  198.  303.  736.  871. 1175. 1475. 1544. 1913. 2448.]\n",
      " [ 198.    0.  105.  538.  673.  977. 1277. 1346. 1715. 2250.]\n",
      " [ 303.  105.    0.  433.  568.  872. 1172. 1241. 1610. 2145.]\n",
      " [ 736.  538.  433.    0.  135.  439.  739.  808. 1177. 1712.]\n",
      " [ 871.  673.  568.  135.    0.  304.  604.  673. 1042. 1577.]\n",
      " [1175.  977.  872.  439.  304.    0.  300.  369.  738. 1273.]\n",
      " [1475. 1277. 1172.  739.  604.  300.    0.   69.  438.  973.]\n",
      " [1544. 1346. 1241.  808.  673.  369.   69.    0.  369.  904.]\n",
      " [1913. 1715. 1610. 1177. 1042.  738.  438.  369.    0.  535.]\n",
      " [2448. 2250. 2145. 1712. 1577. 1273.  973.  904.  535.    0.]]\n",
      "\u001b[1m \n",
      "\n",
      "Distances grid in km (rounded to one decimal)\n",
      " \u001b[0m [[   0.   318.7  487.6 1184.5 1401.7 1891.  2373.8 2484.8 3078.7 3939.7]\n",
      " [ 318.7    0.   169.   865.8 1083.1 1572.3 2055.1 2166.2 2760.  3621. ]\n",
      " [ 487.6  169.     0.   696.8  914.1 1403.3 1886.2 1997.2 2591.  3452. ]\n",
      " [1184.5  865.8  696.8    0.   217.3  706.5 1189.3 1300.4 1894.2 2755.2]\n",
      " [1401.7 1083.1  914.1  217.3    0.   489.2  972.  1083.1 1676.9 2537.9]\n",
      " [1891.  1572.3 1403.3  706.5  489.2    0.   482.8  593.8 1187.7 2048.7]\n",
      " [2373.8 2055.1 1886.2 1189.3  972.   482.8    0.   111.   704.9 1565.9]\n",
      " [2484.8 2166.2 1997.2 1300.4 1083.1  593.8  111.     0.   593.8 1454.8]\n",
      " [3078.7 2760.  2591.  1894.2 1676.9 1187.7  704.9  593.8    0.   861. ]\n",
      " [3939.7 3621.  3452.  2755.2 2537.9 2048.7 1565.9 1454.8  861.     0. ]]\n"
     ]
    }
   ],
   "source": [
    "distances = np.array([0,198,303,736,871,1175,1475,1544,1913,2448])\n",
    "\n",
    "print(BOLD,\"Distances in miles:\\n\",END,distances)\n",
    "\n",
    "tmp = distances*np.ones((10,10)) #duplication of the vector over each row of a 10X10 matrix\n",
    "\n",
    "print(distances.reshape((10,1)).shape)\n",
    "\n",
    "dist_grid = np.absolute((tmp - distances.reshape((10,1)))) #broadcasting to compute the differences = distances \n",
    "                                                           #between cities\n",
    "\n",
    "print(BOLD,\"\\n\\nDistances grid in miles:\\n\",END,dist_grid)\n",
    "\n",
    "      \n",
    "print(BOLD,\"\\n\\nDistances grid in km (rounded to one decimal)\\n\",END,np.around(dist_grid/0.621371,decimals=1))"
   ]
  },
  {
   "cell_type": "markdown",
   "metadata": {},
   "source": [
    "7\\. **Prime numbers sieve**\n",
    "\n",
    "Compute the prime numbers in the 0-N (start with N=99) range with a sieve (mask).\n",
    "\n",
    "  * Constract a shape (N,) boolean array, which is the mask\n",
    "  * Identify the multiples of each number starting from 2 and set accordingly the corresponding mask element\n",
    "  * Apply the mask to obtain an array of ordered prime numbers\n",
    "  * Check the performances (with `timeit`); how does it scale with N?\n",
    "  * Implement the optimization suggested in the [sieve of Eratosthenes](https://en.wikipedia.org/wiki/Sieve_of_Eratosthenes)"
   ]
  },
  {
   "cell_type": "code",
   "execution_count": 26,
   "metadata": {},
   "outputs": [],
   "source": [
    "def primeNumbers(N):\n",
    "    \n",
    "    if (N <= 1):\n",
    "        return np.array(0)\n",
    "    \n",
    "    N = N + 1 #i need to consider one number more than the maximum value requested in the below code\n",
    "    \n",
    "    numbers = np.arange(0,N)\n",
    "\n",
    "    mask = np.ones(N,dtype=bool) #suppose all prime number\n",
    "\n",
    "    mask[0],mask[1] = False, False #except 0 and 1\n",
    "\n",
    "    i=2 #start from 2\n",
    "    \n",
    "    while(i<N):\n",
    "\n",
    "        if(mask[i] == False): #not a prime number -> we can not use to check the next numbers\n",
    "            i+=1 #next index\n",
    "            continue #skip iteration\n",
    "\n",
    "        j = i + 1 #start from the next number\n",
    "\n",
    "        while(j<N): \n",
    "\n",
    "            if(mask[j] == True and numbers[j]%numbers[i]==0):#if it is not a multiple of the previous number \n",
    "                                                             #already check (-> possible prime number)\n",
    "                                                             # and it is a multiple of the current prime number:\n",
    "                mask[j] = False#<----------------------------  it is not a prime number \n",
    "\n",
    "            j +=1 \n",
    "            \n",
    "\n",
    "        i+=1 #next index\n",
    "        \n",
    "    return numbers[mask] \n",
    "\n",
    "   \n",
    "\n"
   ]
  },
  {
   "cell_type": "code",
   "execution_count": 30,
   "metadata": {},
   "outputs": [
    {
     "name": "stdout",
     "output_type": "stream",
     "text": [
      "\u001b[1m Prime numbers in 0-99 are:\n",
      " \u001b[0m [ 2  3  5  7 11 13 17 19 23 29 31 37 41 43 47 53 59 61 67 71 73 79 83 89\n",
      " 97] \u001b[1m \n",
      " computed in: \u001b[0m 0.0011679890003506443 seconds \u001b[0m\n"
     ]
    },
    {
     "data": {
      "image/png": "[encoded data removed]",
      "text/plain": [
       "<Figure size 432x288 with 1 Axes>"
      ]
     },
     "metadata": {
      "needs_background": "light"
     },
     "output_type": "display_data"
    }
   ],
   "source": [
    "start = timeit.default_timer() \n",
    "  \n",
    "results = primeNumbers(99)\n",
    "        \n",
    "end = timeit.default_timer() \n",
    "    \n",
    "print(BOLD,\"Prime numbers in 0-99 are:\\n\",END,results,BOLD,\"\\n computed in:\",END,str(end-start)+\" seconds\",END)\n",
    "\n",
    "maximum = [] #empty list to save the N value\n",
    "time = [] #empty list to save the time to compute the prime number\n",
    "\n",
    "for N in range(500): #iteration over N\n",
    "    \n",
    "    maximum.append(N) #save the value\n",
    "    \n",
    "    start = timeit.default_timer()\n",
    "    results = primeNumbers(N)\n",
    "    end = timeit.default_timer() \n",
    "    \n",
    "    time.append(end-start)#append the time\n",
    "    \n",
    "\n",
    "#plot\n",
    "plt.plot(maximum,time)\n",
    "plt.title(\"Prime numbers\")\n",
    "plt.xlabel(\"N\")\n",
    "plt.ylabel(\"Time[s]\")\n",
    "plt.show()    "
   ]
  },
  {
   "cell_type": "code",
   "execution_count": 31,
   "metadata": {},
   "outputs": [],
   "source": [
    "def primeNumbers2(N):\n",
    "    \n",
    "    #initialization as before\n",
    "    N = N + 1 \n",
    "    mask = np.ones(100, dtype=bool)\n",
    "    numbers = np.arange(0,100)\n",
    "\n",
    "    mask[0] = False\n",
    "    mask[1] = False\n",
    "\n",
    "    #the implementation follows the pseudo code in the wikipedia page\n",
    "    for i in range(2,int(mt.sqrt(99))):\n",
    "\n",
    "        if mask[i] == True:\n",
    "\n",
    "            j = i**2\n",
    "            \n",
    "            \n",
    "            while j<=99:\n",
    "\n",
    "                mask[j] = False\n",
    "                j+=i\n",
    "    \n",
    "    \n",
    "    return numbers[mask]   "
   ]
  },
  {
   "cell_type": "code",
   "execution_count": 32,
   "metadata": {},
   "outputs": [
    {
     "name": "stdout",
     "output_type": "stream",
     "text": [
      "\u001b[1m Prime numbers in 0-99 (computed with the optimized method) are:\n",
      " \u001b[0m [ 2  3  5  7 11 13 17 19 23 29 31 37 41 43 47 53 59 61 67 71 73 79 83 89\n",
      " 97] \u001b[1m \n",
      " computed in: \u001b[0m 0.00019909799993911292 seconds \u001b[0m\n"
     ]
    },
    {
     "data": {
      "image/png": "[encoded data removed]",
      "text/plain": [
       "<Figure size 432x288 with 1 Axes>"
      ]
     },
     "metadata": {
      "needs_background": "light"
     },
     "output_type": "display_data"
    }
   ],
   "source": [
    "start = timeit.default_timer()\n",
    "  \n",
    "results = primeNumbers2(99)\n",
    "        \n",
    "end = timeit.default_timer() \n",
    "    \n",
    "print(BOLD,\"Prime numbers in 0-99 (computed with the optimized method) are:\\n\",END, results,BOLD,\"\\n computed in:\",END,str(end-start)+\" seconds\",END)\n",
    "\n",
    "#same as before\n",
    "\n",
    "maximum = [] \n",
    "time = []\n",
    "\n",
    "for N in range(500):\n",
    "    \n",
    "    maximum.append(N)\n",
    "    start = timeit.default_timer()\n",
    "    results = primeNumbers2(N)\n",
    "    end = timeit.default_timer() \n",
    "    \n",
    "    time.append(end-start)\n",
    "    \n",
    "\n",
    "plt.plot(maximum,time)\n",
    "plt.title(\"Prime numbers with optimized method\")\n",
    "plt.xlabel(\"N\")\n",
    "plt.ylabel(\"Time[s]\")\n",
    "plt.show()"
   ]
  },
  {
   "cell_type": "markdown",
   "metadata": {},
   "source": [
    "8\\. **Diffusion using random walk**\n",
    "\n",
    "Consider a simple random walk process: at each step in time, a walker jumps right or left (+1 or -1) with equal probability. The goal is to find the typical distance from the origin of many random walkers after a given amount of time.\n",
    "\n",
    "*Hint*: create a 2D array where each row represents a walker, and each column represents a time step.\n",
    "\n",
    "  * Take 1000 walkers and let them walk for 200 steps\n",
    "  * Use `randint` to create a 2D array of size $walkers \\times steps$ with values -1 or 1\n",
    "  * Calculate the walking distances for each walker (e.g. by summing the elements in each row)\n",
    "  * Take the square of the previously-obtained array (element-wise)\n",
    "  * Compute the mean of the squared distances at each step (i.e. the mean along the columns)\n",
    "  * **Optional**: plot the average distances ($\\sqrt(distance^2)$) as a function of time (step)"
   ]
  },
  {
   "cell_type": "code",
   "execution_count": 41,
   "metadata": {
    "scrolled": false
   },
   "outputs": [
    {
     "name": "stdout",
     "output_type": "stream",
     "text": [
      "\u001b[1m Random walk matrix:\n",
      " \u001b[0m [[-1 -1  1 ... -1  1  1]\n",
      " [-1 -1 -1 ... -1  1  1]\n",
      " [ 1  1 -1 ... -1 -1 -1]\n",
      " ...\n",
      " [-1  1  1 ...  1  1  1]\n",
      " [ 1  1 -1 ...  1  1 -1]\n",
      " [ 1 -1 -1 ...  1 -1  1]]\n",
      "\u001b[1m \n",
      "\n",
      "Distance for each walker:\n",
      " \u001b[0m [-16   4 -30  14   0  -4 -10  -2 -14 -24   2  -4 -12   4  -2   0   2  -4\n",
      " -26  -8  22   6  14  -4 -30 -20 -24 -32   6   6  -4 -36 -12   6  10   8\n",
      " -14  16 -14   2   6  16 -10 -10 -16  14  20  16 -22  20   4  -2  -2 -12\n",
      "  -2  -4   6  12  22   0  20  16   4  16  24   6   4   2 -26  12  20   0\n",
      " -10  -8  10   2  32  14 -20   2  -8   2   2   0  -2   0   8  10  -4   4\n",
      "  -6  -4  -2   4  -6  -6  16  14   4 -10  18   2  20 -42  20 -12  14  30\n",
      " -16 -24  18 -34 -12  -2   6  -8  -2   4   0  18 -18  16   8 -20  12  -6\n",
      "   6  14 -14   2   0  12  10  -8   2 -12  20  28 -12   6  16  -2  -8 -10\n",
      "   0  -4 -38 -10  -2  -6   8 -18   8   2  34   6  20 -30  10 -18   8 -12\n",
      " -18 -26  12  -8  10 -14   0   0  -4  20  12  20   4 -18  -2 -12 -14  12\n",
      "   2  26 -10   0   8   4 -30  24   0   2  20  -8 -10  12  16  10   0 -24\n",
      " -14   0  -4  12   4  -2  -4  16  22 -26  -2 -22  -8   6   8 -14  -2 -26\n",
      "   8   6   0   6  -6   2  26   2  32   2  16   0 -36   0   2  12  -6   8\n",
      "   8   6  -2  12 -10 -26  10 -16   0   0  30   0  10 -10  -4   8   6 -12\n",
      " -20 -14   2  -6 -14  26   4  -2  26   0  -8 -16  22  -4   2  10 -14  12\n",
      "   4 -12   8   6   2 -20  -2 -20  -4   0   2  -6   2 -18 -14  12  12  -2\n",
      "  10  12  32 -12  -4 -24   2  -4 -10 -32  14  -4  -2   8 -20   2   0  -6\n",
      "  16  -8  16  18 -20  36  12  28 -20  -6   2  14   0  -2 -12 -14  20 -22\n",
      "  10   0  22  24  10 -22   2  14   4  -8   2 -20 -12  -4 -14   8  16   6\n",
      "  10   4   6 -38 -20  -4  -4 -16   6 -10  -2  12 -26  22   4  -4   2 -12\n",
      "  22  10   2  -2  -6  -2 -30  24 -10  22  -8  24  -6  30 -20  -8  20  -8\n",
      "  20  12  -4  -4 -38  16  24   6  -6  -4   8   2   2 -36  -6   4   2 -16\n",
      " -12   0  14  -2   6 -26  16   8  16 -24   2 -10  -6   6  -6  14  12 -20\n",
      "  -4   4   6  22  14 -14 -16  10   0  16  14  -2 -16  -2  -4  20   4 -10\n",
      "   6   8  -6   0  26  -6   6  12  26   8  26  32 -18 -26   8   8 -10   0\n",
      "   6   2   0   2  18 -26  24 -18  28 -10  10  -6 -20  10  -6  20  -4   2\n",
      " -10   0 -14 -10   6  -4   4  -4  38 -20  -4   2   2 -14  16  10  12 -12\n",
      " -16  -4  20   0   6   4  10 -12   6  -4   8 -14   2  20 -12  16  -2  -8\n",
      " -14 -16  -8 -18   0  22   6 -10   4   0  14   2   0   0 -10   6 -10 -12\n",
      "  -6   8 -16  10 -14   0  10  -2 -26  -6  12 -32   2 -34  -6   2  -2   4\n",
      " -12  -4  -2   6   6 -12  10  -2   0  22  32  14   4  -2  -4  -8   0 -18\n",
      "  -2 -12  -6  24 -16 -14  -6   0  -6  16   0  -2   0  -2  -8  16 -34  -2\n",
      "  -6   4  -6 -12 -20   8 -14   4  12   6  42  20 -30   4   6  -4 -20   4\n",
      " -28   8 -14 -10   4   8   0 -14 -20  -2  34  14 -18 -16  10 -32  10   2\n",
      "  28 -10  -4  -6  -6 -20 -20  14   4   2  10   0  30  -2  -4  10   4   0\n",
      "  26   4   6 -18   6  -8 -24  -6   0   4  26  24  22  -2  -2  16  16  14\n",
      "  18  -2   2  20   6  10   2   6  16  -6  10   0 -18 -22   8  12  18  14\n",
      "  10  -4 -42  -2 -14  -4  -4  -8  -6  22 -14  -4  -2   4  36  18  12  12\n",
      "  22  18  -6  14   0   2   0  20 -18   4  20 -26   2  -6  -6   2   0   2\n",
      "  -4   4 -12 -12  14  -2  14   4   2 -38  -4  -6   0   0 -16   2 -28  26\n",
      " -12   6  -2   0  28   4 -12  -4  16  26  -8 -16 -10  16  -4  -6  16 -10\n",
      " -18  24  -4   6   0 -18  14  16  12   2  -6 -18   0  14  20  12  14  12\n",
      "  10  -4  10 -24  -4 -16   6   0 -24 -16 -14 -10 -18   2  -2 -28   0  -6\n",
      " -18   8 -16  -4  -2   2 -20 -10   2 -28 -18  -6   2  -2  -2  -2   4 -12\n",
      "   8  -4 -20 -26  -6  -2   8  36  -2  10  26  12  -6 -12  10 -12 -10   4\n",
      " -18  -2  10   0   6  -6 -20 -16   2 -30  -4  -8  16  12   2 -18 -10  -8\n",
      "  12   0  14   0 -22 -16   2 -14 -18  22  10 -20 -14   2 -18   8  22  10\n",
      " -16   2   2 -16  18  32   6  18   2   2  -6 -32   4  -6  10  -4  34  -2\n",
      "  36  -2  -2  -8   8   2  14  14   2  14   0   6 -16  12   2  14  14  32\n",
      "  14 -24 -10 -10   0   0  -8   0  10  20 -10  -6 -12   4 -26 -16  14  20\n",
      "   2 -10 -12 -20 -44 -28   8   0  -2 -10 -18  -2   8   2   2 -16 -28 -16\n",
      "  14  18  16  32 -14 -18  22  16   6 -22  -2 -18 -12 -32  -2  -6 -10   6\n",
      "   0 -22  10   8   8   8  -4 -20  -6   0  16 -22  18  20   4   4  -6  -2\n",
      "   6   4   8   4  42 -16 -14 -16  -2 -22 -18   0 -36   8  22  12 -16   6\n",
      "  26 -12  -6  -2  -4  -2  -6   0  -2   8 -12  26  10   4  -6 -18   0 -16\n",
      "  -2 -26  14  28   4 -12  -4   6  -8  14]\n",
      "\u001b[1m \n",
      "\n",
      "Square distance of previous array:\n",
      " \u001b[0m [ 256   16  900  196    0   16  100    4  196  576    4   16  144   16\n",
      "    4    0    4   16  676   64  484   36  196   16  900  400  576 1024\n",
      "   36   36   16 1296  144   36  100   64  196  256  196    4   36  256\n",
      "  100  100  256  196  400  256  484  400   16    4    4  144    4   16\n",
      "   36  144  484    0  400  256   16  256  576   36   16    4  676  144\n",
      "  400    0  100   64  100    4 1024  196  400    4   64    4    4    0\n",
      "    4    0   64  100   16   16   36   16    4   16   36   36  256  196\n",
      "   16  100  324    4  400 1764  400  144  196  900  256  576  324 1156\n",
      "  144    4   36   64    4   16    0  324  324  256   64  400  144   36\n",
      "   36  196  196    4    0  144  100   64    4  144  400  784  144   36\n",
      "  256    4   64  100    0   16 1444  100    4   36   64  324   64    4\n",
      " 1156   36  400  900  100  324   64  144  324  676  144   64  100  196\n",
      "    0    0   16  400  144  400   16  324    4  144  196  144    4  676\n",
      "  100    0   64   16  900  576    0    4  400   64  100  144  256  100\n",
      "    0  576  196    0   16  144   16    4   16  256  484  676    4  484\n",
      "   64   36   64  196    4  676   64   36    0   36   36    4  676    4\n",
      " 1024    4  256    0 1296    0    4  144   36   64   64   36    4  144\n",
      "  100  676  100  256    0    0  900    0  100  100   16   64   36  144\n",
      "  400  196    4   36  196  676   16    4  676    0   64  256  484   16\n",
      "    4  100  196  144   16  144   64   36    4  400    4  400   16    0\n",
      "    4   36    4  324  196  144  144    4  100  144 1024  144   16  576\n",
      "    4   16  100 1024  196   16    4   64  400    4    0   36  256   64\n",
      "  256  324  400 1296  144  784  400   36    4  196    0    4  144  196\n",
      "  400  484  100    0  484  576  100  484    4  196   16   64    4  400\n",
      "  144   16  196   64  256   36  100   16   36 1444  400   16   16  256\n",
      "   36  100    4  144  676  484   16   16    4  144  484  100    4    4\n",
      "   36    4  900  576  100  484   64  576   36  900  400   64  400   64\n",
      "  400  144   16   16 1444  256  576   36   36   16   64    4    4 1296\n",
      "   36   16    4  256  144    0  196    4   36  676  256   64  256  576\n",
      "    4  100   36   36   36  196  144  400   16   16   36  484  196  196\n",
      "  256  100    0  256  196    4  256    4   16  400   16  100   36   64\n",
      "   36    0  676   36   36  144  676   64  676 1024  324  676   64   64\n",
      "  100    0   36    4    0    4  324  676  576  324  784  100  100   36\n",
      "  400  100   36  400   16    4  100    0  196  100   36   16   16   16\n",
      " 1444  400   16    4    4  196  256  100  144  144  256   16  400    0\n",
      "   36   16  100  144   36   16   64  196    4  400  144  256    4   64\n",
      "  196  256   64  324    0  484   36  100   16    0  196    4    0    0\n",
      "  100   36  100  144   36   64  256  100  196    0  100    4  676   36\n",
      "  144 1024    4 1156   36    4    4   16  144   16    4   36   36  144\n",
      "  100    4    0  484 1024  196   16    4   16   64    0  324    4  144\n",
      "   36  576  256  196   36    0   36  256    0    4    0    4   64  256\n",
      " 1156    4   36   16   36  144  400   64  196   16  144   36 1764  400\n",
      "  900   16   36   16  400   16  784   64  196  100   16   64    0  196\n",
      "  400    4 1156  196  324  256  100 1024  100    4  784  100   16   36\n",
      "   36  400  400  196   16    4  100    0  900    4   16  100   16    0\n",
      "  676   16   36  324   36   64  576   36    0   16  676  576  484    4\n",
      "    4  256  256  196  324    4    4  400   36  100    4   36  256   36\n",
      "  100    0  324  484   64  144  324  196  100   16 1764    4  196   16\n",
      "   16   64   36  484  196   16    4   16 1296  324  144  144  484  324\n",
      "   36  196    0    4    0  400  324   16  400  676    4   36   36    4\n",
      "    0    4   16   16  144  144  196    4  196   16    4 1444   16   36\n",
      "    0    0  256    4  784  676  144   36    4    0  784   16  144   16\n",
      "  256  676   64  256  100  256   16   36  256  100  324  576   16   36\n",
      "    0  324  196  256  144    4   36  324    0  196  400  144  196  144\n",
      "  100   16  100  576   16  256   36    0  576  256  196  100  324    4\n",
      "    4  784    0   36  324   64  256   16    4    4  400  100    4  784\n",
      "  324   36    4    4    4    4   16  144   64   16  400  676   36    4\n",
      "   64 1296    4  100  676  144   36  144  100  144  100   16  324    4\n",
      "  100    0   36   36  400  256    4  900   16   64  256  144    4  324\n",
      "  100   64  144    0  196    0  484  256    4  196  324  484  100  400\n",
      "  196    4  324   64  484  100  256    4    4  256  324 1024   36  324\n",
      "    4    4   36 1024   16   36  100   16 1156    4 1296    4    4   64\n",
      "   64    4  196  196    4  196    0   36  256  144    4  196  196 1024\n",
      "  196  576  100  100    0    0   64    0  100  400  100   36  144   16\n",
      "  676  256  196  400    4  100  144  400 1936  784   64    0    4  100\n",
      "  324    4   64    4    4  256  784  256  196  324  256 1024  196  324\n",
      "  484  256   36  484    4  324  144 1024    4   36  100   36    0  484\n",
      "  100   64   64   64   16  400   36    0  256  484  324  400   16   16\n",
      "   36    4   36   16   64   16 1764  256  196  256    4  484  324    0\n",
      " 1296   64  484  144  256   36  676  144   36    4   16    4   36    0\n",
      "    4   64  144  676  100   16   36  324    0  256    4  676  196  784\n",
      "   16  144   16   36   64  196]\n",
      "\u001b[1m \n",
      "\n",
      "Mean of the square for each time stamp:\n",
      " \u001b[0m [1. 1. 1. 1. 1. 1. 1. 1. 1. 1. 1. 1. 1. 1. 1. 1. 1. 1. 1. 1. 1. 1. 1. 1.\n",
      " 1. 1. 1. 1. 1. 1. 1. 1. 1. 1. 1. 1. 1. 1. 1. 1. 1. 1. 1. 1. 1. 1. 1. 1.\n",
      " 1. 1. 1. 1. 1. 1. 1. 1. 1. 1. 1. 1. 1. 1. 1. 1. 1. 1. 1. 1. 1. 1. 1. 1.\n",
      " 1. 1. 1. 1. 1. 1. 1. 1. 1. 1. 1. 1. 1. 1. 1. 1. 1. 1. 1. 1. 1. 1. 1. 1.\n",
      " 1. 1. 1. 1. 1. 1. 1. 1. 1. 1. 1. 1. 1. 1. 1. 1. 1. 1. 1. 1. 1. 1. 1. 1.\n",
      " 1. 1. 1. 1. 1. 1. 1. 1. 1. 1. 1. 1. 1. 1. 1. 1. 1. 1. 1. 1. 1. 1. 1. 1.\n",
      " 1. 1. 1. 1. 1. 1. 1. 1. 1. 1. 1. 1. 1. 1. 1. 1. 1. 1. 1. 1. 1. 1. 1. 1.\n",
      " 1. 1. 1. 1. 1. 1. 1. 1. 1. 1. 1. 1. 1. 1. 1. 1. 1. 1. 1. 1. 1. 1. 1. 1.\n",
      " 1. 1. 1. 1. 1. 1. 1. 1.]\n"
     ]
    },
    {
     "data": {
      "text/plain": [
       "[<matplotlib.lines.Line2D at 0x7f78bd67ed90>]"
      ]
     },
     "execution_count": 41,
     "metadata": {},
     "output_type": "execute_result"
    },
    {
     "data": {
      "image/png": "[encoded data removed]",
      "text/plain": [
       "<Figure size 576x432 with 1 Axes>"
      ]
     },
     "metadata": {
      "needs_background": "light"
     },
     "output_type": "display_data"
    }
   ],
   "source": [
    "random_walk = np.random.choice(np.array([1,-1]),(1000,200)) #np.random.randint(-1,2,(1000,200)) includes also the 0 \n",
    "print(BOLD,\"Random walk matrix:\\n\",END,random_walk)\n",
    "\n",
    "distances = random_walk.sum(axis = 1)\n",
    "print(BOLD,\"\\n\\nDistance for each walker:\\n\",END,distances)\n",
    "\n",
    "d_square = np.square(distances)\n",
    "print(BOLD,\"\\n\\nSquare distance of previous array:\\n\",END,d_square)\n",
    "\n",
    "mean_steps = np.square(random_walk).mean(axis = 0)\n",
    "print(BOLD,\"\\n\\nMean of the square for each time stamp:\\n\",END, mean_steps)\n",
    "\n",
    "time = np.arange(1,201) #generation of a vector of 200 timestamps\n",
    "\n",
    "mean_distance = random_walk.copy() \n",
    "\n",
    "for i in range(1,200): #compute distance of each walker from the origin at each timestamp\n",
    "    mean_distance[:,i] += mean_distance[:,i-1]\n",
    "    \n",
    "mean_distance = mean_distance.mean(axis=0) #mean distance for each step\n",
    "\n",
    "#plot\n",
    "plt.figure(figsize=(8, 6))\n",
    "plt.title(\"Average distance from origin for each timestamp\")\n",
    "plt.xlabel(\"Timestamp\")\n",
    "plt.ylabel(\"Average distance\")\n",
    "plt.plot(time, mean_distance)"
   ]
  }
 ],
 "metadata": {
  "kernelspec": {
   "display_name": "Python 3 (ipykernel)",
   "language": "python",
   "name": "python3"
  },
  "language_info": {
   "codemirror_mode": {
    "name": "ipython",
    "version": 3
   },
   "file_extension": ".py",
   "mimetype": "text/x-python",
   "name": "python",
   "nbconvert_exporter": "python",
   "pygments_lexer": "ipython3",
   "version": "3.9.12"
  }
 },
 "nbformat": 4,
 "nbformat_minor": 2
}
