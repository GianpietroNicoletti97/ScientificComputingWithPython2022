{
 "cells": [
  {
   "cell_type": "markdown",
   "metadata": {},
   "source": [
    "Gianpietro Nicoletti <br>\n",
    "ID: 2053042"
   ]
  },
  {
   "cell_type": "markdown",
   "metadata": {},
   "source": [
    "1\\. **Reductions**\n",
    "\n",
    "Find the total mean, and the mean for each row and column of the following matrix:\n",
    "\n",
    "```python\n",
    "m = np.arange(12).reshape((3,4))\n",
    "```"
   ]
  },
  {
   "cell_type": "code",
   "execution_count": 1,
   "metadata": {},
   "outputs": [],
   "source": [
    "import numpy as np\n",
    "import math as mt\n",
    "import matplotlib.pyplot as plt\n",
    "import timeit"
   ]
  },
  {
   "cell_type": "code",
   "execution_count": 2,
   "metadata": {},
   "outputs": [
    {
     "name": "stdout",
     "output_type": "stream",
     "text": [
      "[[ 0  1  2  3]\n",
      " [ 4  5  6  7]\n",
      " [ 8  9 10 11]]\n",
      "\n",
      "Row mean: [1.5 5.5 9.5]\n",
      "\n",
      "Comumn mean: [4. 5. 6. 7.]\n",
      "\n",
      "Total mean: 5.5\n"
     ]
    }
   ],
   "source": [
    "m = np.arange(12).reshape((3,4))\n",
    "\n",
    "row_mean = m.mean(axis = 1)\n",
    "column_mean = m.mean(axis = 0)\n",
    "tot_mean = m.mean()\n",
    "\n",
    "print(m)\n",
    "print(\"\\nRow mean:\", row_mean)\n",
    "print(\"\\nComumn mean:\", column_mean)\n",
    "print(\"\\nTotal mean:\", tot_mean)"
   ]
  },
  {
   "cell_type": "markdown",
   "metadata": {},
   "source": [
    "2\\. **Outer product**\n",
    "\n",
    "Find the outer product of the following vectors:\n",
    "\n",
    "```python\n",
    "u = np.array([1, 3, 5, 7])\n",
    "v = np.array([2, 4, 6, 8])\n",
    "```\n",
    "\n",
    "Use different methods to do this:\n",
    "\n",
    "   1. Using the function `outer` in numpy\n",
    "   2. Using a nested `for` loop or a list comprehension\n",
    "   3. Using numpy broadcasting operations"
   ]
  },
  {
   "cell_type": "code",
   "execution_count": 3,
   "metadata": {},
   "outputs": [
    {
     "name": "stdout",
     "output_type": "stream",
     "text": [
      "u =  [1 3 5 7]\n",
      "\n",
      "v =  [2 4 6 8]\n",
      "Outer product with np.outer\n",
      "\n",
      "[[ 2  4  6  8]\n",
      " [ 6 12 18 24]\n",
      " [10 20 30 40]\n",
      " [14 28 42 56]]\n",
      "\n",
      "Outer product with for loop\n",
      "\n",
      "[[ 2.  4.  6.  8.]\n",
      " [ 6. 12. 18. 24.]\n",
      " [10. 20. 30. 40.]\n",
      " [14. 28. 42. 56.]]\n",
      "\n",
      "Outer product with broadcasting\n",
      "\n",
      "[[ 2  6 10 14]\n",
      " [ 4 12 20 28]\n",
      " [ 6 18 30 42]\n",
      " [ 8 24 40 56]]\n"
     ]
    }
   ],
   "source": [
    "u = np.array([1, 3, 5, 7])\n",
    "v = np.array([2, 4, 6, 8])\n",
    "\n",
    "print(\"u = \",u)\n",
    "print(\"\\nv = \",v)\n",
    "outer_np = np.outer(u,v)\n",
    "\n",
    "print(\"Outer product with np.outer\\n\")\n",
    "print(outer_np)\n",
    "\n",
    "print(\"\\nOuter product with for loop\\n\")\n",
    "\n",
    "outer_for = np.zeros((u.shape[0],v.shape[0]))\n",
    "\n",
    "for i in range(u.shape[0]):\n",
    "    for j in range(v.shape[0]):\n",
    "        outer_for[i][j]=u[i]*v[j]\n",
    "        \n",
    "print(outer_for)\n",
    "print(\"\\nOuter product with broadcasting\\n\")\n",
    "\n",
    "outer_broadcasting = u*v.reshape(v.shape[0],1)\n",
    "\n",
    "print(outer_broadcasting)\n"
   ]
  },
  {
   "cell_type": "markdown",
   "metadata": {},
   "source": [
    "3\\. **Matrix masking**\n",
    "\n",
    "Create a 10 by 6 matrix of float random numbers, distributed between 0 and 3 according to a flat distribution.\n",
    "\n",
    "After creating the matrix, set all entries $< 0.3$ to zero using a mask."
   ]
  },
  {
   "cell_type": "code",
   "execution_count": 31,
   "metadata": {},
   "outputs": [
    {
     "name": "stdout",
     "output_type": "stream",
     "text": [
      "Random matrix\n",
      " [[2.59620056e+00 9.76516144e-01 6.75906495e-01 2.64288784e+00\n",
      "  2.81501511e+00 1.17133668e+00]\n",
      " [1.18744716e+00 2.91279248e+00 2.45862027e+00 1.60098476e+00\n",
      "  1.46661453e+00 2.64815933e+00]\n",
      " [1.89855733e+00 2.51355226e+00 5.45367773e-05 1.52834658e+00\n",
      "  8.94539196e-01 2.02691003e+00]\n",
      " [1.51785467e-01 9.76172847e-01 2.62925426e+00 6.67002444e-01\n",
      "  1.30387244e+00 1.39466781e+00]\n",
      " [2.80025212e+00 2.81393416e+00 9.73814156e-01 4.58977374e-01\n",
      "  2.22190961e+00 1.09911651e+00]\n",
      " [1.44664761e+00 4.44872549e-02 9.89454446e-01 2.50904088e+00\n",
      "  4.41679876e-01 2.04326457e+00]\n",
      " [9.47371256e-01 5.65921979e-01 3.09634064e-01 2.54315546e+00\n",
      "  1.73817240e+00 2.62596020e+00]\n",
      " [1.91811584e+00 2.18244701e+00 2.81287301e+00 1.71534837e+00\n",
      "  2.77002610e+00 7.25523361e-01]\n",
      " [2.78364233e+00 1.04515155e+00 8.86117212e-01 1.45556800e+00\n",
      "  2.94240137e+00 1.75751922e+00]\n",
      " [1.53344278e+00 1.70444603e+00 1.58421917e+00 1.36066979e+00\n",
      "  2.78635283e+00 1.46222575e+00]]\n",
      "\n",
      "\n",
      "Mask for value < 3\n",
      " [[False False False False False False]\n",
      " [False False False False False False]\n",
      " [False False  True False False False]\n",
      " [ True False False False False False]\n",
      " [False False False False False False]\n",
      " [False  True False False False False]\n",
      " [False False False False False False]\n",
      " [False False False False False False]\n",
      " [False False False False False False]\n",
      " [False False False False False False]]\n",
      "\n",
      "\n",
      "Zero after masking\n",
      " [[2.59620056 0.97651614 0.67590649 2.64288784 2.81501511 1.17133668]\n",
      " [1.18744716 2.91279248 2.45862027 1.60098476 1.46661453 2.64815933]\n",
      " [1.89855733 2.51355226 0.         1.52834658 0.8945392  2.02691003]\n",
      " [0.         0.97617285 2.62925426 0.66700244 1.30387244 1.39466781]\n",
      " [2.80025212 2.81393416 0.97381416 0.45897737 2.22190961 1.09911651]\n",
      " [1.44664761 0.         0.98945445 2.50904088 0.44167988 2.04326457]\n",
      " [0.94737126 0.56592198 0.30963406 2.54315546 1.7381724  2.6259602 ]\n",
      " [1.91811584 2.18244701 2.81287301 1.71534837 2.7700261  0.72552336]\n",
      " [2.78364233 1.04515155 0.88611721 1.455568   2.94240137 1.75751922]\n",
      " [1.53344278 1.70444603 1.58421917 1.36066979 2.78635283 1.46222575]]\n"
     ]
    }
   ],
   "source": [
    "rand = np.random.uniform(0,3,(10,6)) \n",
    "rand_mask = rand < 0.3\n",
    "print(\"Random matrix\\n\",rand)\n",
    "print(\"\\n\\nMask for value < 3\\n\",rand_mask)\n",
    "\n",
    "rand[rand_mask] = 0\n",
    "print(\"\\n\\nZero after masking\\n\",rand)"
   ]
  },
  {
   "cell_type": "markdown",
   "metadata": {},
   "source": [
    "4\\. **Trigonometric functions**\n",
    "\n",
    "Use `np.linspace` to create an array of 100 numbers between $0$ and $2\\pi$ (inclusive).\n",
    "\n",
    "  * Extract every 10th element using the slice notation\n",
    "  * Reverse the array using the slice notation\n",
    "  * Extract elements where the absolute difference between the `sin` and `cos` functions evaluated for that element is $< 0.1$\n",
    "  * **Optional**: make a plot showing the sin and cos functions and indicate where they are close"
   ]
  },
  {
   "cell_type": "code",
   "execution_count": 32,
   "metadata": {},
   "outputs": [
    {
     "name": "stdout",
     "output_type": "stream",
     "text": [
      "Vector:\n",
      " [0.         0.06346652 0.12693304 0.19039955 0.25386607 0.31733259\n",
      " 0.38079911 0.44426563 0.50773215 0.57119866 0.63466518 0.6981317\n",
      " 0.76159822 0.82506474 0.88853126 0.95199777 1.01546429 1.07893081\n",
      " 1.14239733 1.20586385 1.26933037 1.33279688 1.3962634  1.45972992\n",
      " 1.52319644 1.58666296 1.65012947 1.71359599 1.77706251 1.84052903\n",
      " 1.90399555 1.96746207 2.03092858 2.0943951  2.15786162 2.22132814\n",
      " 2.28479466 2.34826118 2.41172769 2.47519421 2.53866073 2.60212725\n",
      " 2.66559377 2.72906028 2.7925268  2.85599332 2.91945984 2.98292636\n",
      " 3.04639288 3.10985939 3.17332591 3.23679243 3.30025895 3.36372547\n",
      " 3.42719199 3.4906585  3.55412502 3.61759154 3.68105806 3.74452458\n",
      " 3.8079911  3.87145761 3.93492413 3.99839065 4.06185717 4.12532369\n",
      " 4.1887902  4.25225672 4.31572324 4.37918976 4.44265628 4.5061228\n",
      " 4.56958931 4.63305583 4.69652235 4.75998887 4.82345539 4.88692191\n",
      " 4.95038842 5.01385494 5.07732146 5.14078798 5.2042545  5.26772102\n",
      " 5.33118753 5.39465405 5.45812057 5.52158709 5.58505361 5.64852012\n",
      " 5.71198664 5.77545316 5.83891968 5.9023862  5.96585272 6.02931923\n",
      " 6.09278575 6.15625227 6.21971879 6.28318531]\n",
      "\n",
      "\n",
      "Vector every ten element:\n",
      " [0.         0.63466518 1.26933037 1.90399555 2.53866073 3.17332591\n",
      " 3.8079911  4.44265628 5.07732146 5.71198664]\n",
      "\n",
      "\n",
      "Vector reversed:\n",
      " [6.28318531 6.21971879 6.15625227 6.09278575 6.02931923 5.96585272\n",
      " 5.9023862  5.83891968 5.77545316 5.71198664 5.64852012 5.58505361\n",
      " 5.52158709 5.45812057 5.39465405 5.33118753 5.26772102 5.2042545\n",
      " 5.14078798 5.07732146 5.01385494 4.95038842 4.88692191 4.82345539\n",
      " 4.75998887 4.69652235 4.63305583 4.56958931 4.5061228  4.44265628\n",
      " 4.37918976 4.31572324 4.25225672 4.1887902  4.12532369 4.06185717\n",
      " 3.99839065 3.93492413 3.87145761 3.8079911  3.74452458 3.68105806\n",
      " 3.61759154 3.55412502 3.4906585  3.42719199 3.36372547 3.30025895\n",
      " 3.23679243 3.17332591 3.10985939 3.04639288 2.98292636 2.91945984\n",
      " 2.85599332 2.7925268  2.72906028 2.66559377 2.60212725 2.53866073\n",
      " 2.47519421 2.41172769 2.34826118 2.28479466 2.22132814 2.15786162\n",
      " 2.0943951  2.03092858 1.96746207 1.90399555 1.84052903 1.77706251\n",
      " 1.71359599 1.65012947 1.58666296 1.52319644 1.45972992 1.3962634\n",
      " 1.33279688 1.26933037 1.20586385 1.14239733 1.07893081 1.01546429\n",
      " 0.95199777 0.88853126 0.82506474 0.76159822 0.6981317  0.63466518\n",
      " 0.57119866 0.50773215 0.44426563 0.38079911 0.31733259 0.25386607\n",
      " 0.19039955 0.12693304 0.06346652 0.        ]\n",
      "\n",
      "\n",
      "Vector with condition:\n",
      " [0.76159822 0.82506474 3.87145761 3.93492413]\n"
     ]
    },
    {
     "data": {
      "image/png": "[encoded data removed]",
      "text/plain": [
       "<Figure size 576x432 with 1 Axes>"
      ]
     },
     "metadata": {
      "needs_background": "light"
     },
     "output_type": "display_data"
    }
   ],
   "source": [
    "\n",
    "vect = np.linspace(0,2*mt.pi,100)\n",
    "\n",
    "print(\"Vector:\\n\",vect)\n",
    "\n",
    "print(\"\\n\\nVector every ten element:\\n\",vect[0:100:10])\n",
    "\n",
    "print(\"\\n\\nVector reversed:\\n\", vect[::-1])\n",
    "\n",
    "print(\"\\n\\nVector with condition:\\n\", vect[abs(np.sin(vect)-np.cos(vect))<0.1])\n",
    "\n",
    "plt.figure(figsize=(8, 6))\n",
    "plt.plot(vect,np.sin(vect))\n",
    "plt.plot(vect,np.cos(vect))\n",
    "plt.vlines(vect[abs(np.sin(vect)-np.cos(vect))<0.1],-1,1) #point where they are close\n",
    "plt.show()"
   ]
  },
  {
   "cell_type": "markdown",
   "metadata": {},
   "source": [
    "5\\. **Matrices**\n",
    "\n",
    "Create a matrix that shows the 10 by 10 multiplication table.\n",
    "\n",
    " * Find the trace of the matrix\n",
    " * Extract the anti-diagonal matrix (this should be ```array([10, 18, 24, 28, 30, 30, 28, 24, 18, 10])```)\n",
    " * Extract the diagonal offset by 1 upwards (this should be ```array([ 2,  6, 12, 20, 30, 42, 56, 72, 90])```)"
   ]
  },
  {
   "cell_type": "code",
   "execution_count": 33,
   "metadata": {},
   "outputs": [
    {
     "name": "stdout",
     "output_type": "stream",
     "text": [
      "[[  1   2   3   4   5   6   7   8   9  10]\n",
      " [  2   4   6   8  10  12  14  16  18  20]\n",
      " [  3   6   9  12  15  18  21  24  27  30]\n",
      " [  4   8  12  16  20  24  28  32  36  40]\n",
      " [  5  10  15  20  25  30  35  40  45  50]\n",
      " [  6  12  18  24  30  36  42  48  54  60]\n",
      " [  7  14  21  28  35  42  49  56  63  70]\n",
      " [  8  16  24  32  40  48  56  64  72  80]\n",
      " [  9  18  27  36  45  54  63  72  81  90]\n",
      " [ 10  20  30  40  50  60  70  80  90 100]]\n",
      "Trace:  385\n",
      "\n",
      "\n",
      "Antidiagonal:  [10 18 24 28 30 30 28 24 18 10]\n"
     ]
    }
   ],
   "source": [
    "ten_matrix = np.arange(1,11)*np.arange(1,11).reshape(10,1)\n",
    "\n",
    "print(ten_matrix)\n",
    "\n",
    "print(\"Trace: \", ten_matrix.trace())\n",
    "\n",
    "print(\"\\n\\nAntidiagonal: \", np.flip(ten_matrix,axis=0).diagonal()) #antidiagonal = diagonal of the matrix rotated"
   ]
  },
  {
   "cell_type": "markdown",
   "metadata": {},
   "source": [
    "6\\. **Broadcasting**\n",
    "\n",
    "Use broadcasting to create a grid of distances.\n",
    "\n",
    "Route 66 crosses the following cities in the US: Chicago, Springfield, Saint-Louis, Tulsa, Oklahoma City, Amarillo, Santa Fe, Albuquerque, Flagstaff, Los Angeles.\n",
    "\n",
    "The corresponding positions in miles are: 0, 198, 303, 736, 871, 1175, 1475, 1544, 1913, 2448\n",
    "\n",
    "  * Build a 2D grid of distances among each city along Route 66\n",
    "  * Convert the distances in km"
   ]
  },
  {
   "cell_type": "code",
   "execution_count": 36,
   "metadata": {},
   "outputs": [
    {
     "name": "stdout",
     "output_type": "stream",
     "text": [
      "Distances in miles:\n",
      " [   0  198  303  736  871 1175 1475 1544 1913 2448]\n",
      "\n",
      "\n",
      "Distances grid in miles:\n",
      " [[   0.  198.  303.  736.  871. 1175. 1475. 1544. 1913. 2448.]\n",
      " [ 198.    0.  105.  538.  673.  977. 1277. 1346. 1715. 2250.]\n",
      " [ 303.  105.    0.  433.  568.  872. 1172. 1241. 1610. 2145.]\n",
      " [ 736.  538.  433.    0.  135.  439.  739.  808. 1177. 1712.]\n",
      " [ 871.  673.  568.  135.    0.  304.  604.  673. 1042. 1577.]\n",
      " [1175.  977.  872.  439.  304.    0.  300.  369.  738. 1273.]\n",
      " [1475. 1277. 1172.  739.  604.  300.    0.   69.  438.  973.]\n",
      " [1544. 1346. 1241.  808.  673.  369.   69.    0.  369.  904.]\n",
      " [1913. 1715. 1610. 1177. 1042.  738.  438.  369.    0.  535.]\n",
      " [2448. 2250. 2145. 1712. 1577. 1273.  973.  904.  535.    0.]]\n",
      "\n",
      "\n",
      "Distances grid in km:\n",
      " [[   0.          318.65021058  487.63138286 1184.47755045 1401.73905766\n",
      "  1890.97978502 2373.78313439 2484.82790475 3078.67602447 3939.67533084]\n",
      " [ 318.65021058    0.          168.98117228  865.82733987 1083.08884708\n",
      "  1572.32957444 2055.13292381 2166.17769416 2760.02581389 3621.02512026]\n",
      " [ 487.63138286  168.98117228    0.          696.84616759  914.1076748\n",
      "  1403.34840216 1886.15175153 1997.19652188 2591.04464161 3452.04394798]\n",
      " [1184.47755045  865.82733987  696.84616759    0.          217.26150722\n",
      "   706.50223457 1189.30558394 1300.3503543  1894.19847402 2755.19778039]\n",
      " [1401.73905766 1083.08884708  914.1076748   217.26150722    0.\n",
      "   489.24072736  972.04407673 1083.08884708 1676.9369668  2537.93627318]\n",
      " [1890.97978502 1572.32957444 1403.34840216  706.50223457  489.24072736\n",
      "     0.          482.80334937  593.84811972 1187.69623944 2048.69554582]\n",
      " [2373.78313439 2055.13292381 1886.15175153 1189.30558394  972.04407673\n",
      "   482.80334937    0.          111.04477035  704.89289008 1565.89219645]\n",
      " [2484.82790475 2166.17769416 1997.19652188 1300.3503543  1083.08884708\n",
      "   593.84811972  111.04477035    0.          593.84811972 1454.84742609]\n",
      " [3078.67602447 2760.02581389 2591.04464161 1894.19847402 1676.9369668\n",
      "  1187.69623944  704.89289008  593.84811972    0.          860.99930637]\n",
      " [3939.67533084 3621.02512026 3452.04394798 2755.19778039 2537.93627318\n",
      "  2048.69554582 1565.89219645 1454.84742609  860.99930637    0.        ]]\n"
     ]
    }
   ],
   "source": [
    "distances = np.array([0,198,303,736,871,1175,1475,1544,1913,2448])\n",
    "\n",
    "print(\"Distances in miles:\\n\",distances)\n",
    "\n",
    "tmp = distances*np.ones((10,10)) #duplication of the vector over each row of a 10X10 matrix\n",
    "\n",
    "dist_grid = np.absolute((tmp - distances.reshape((10,1)))) #broadcasting to compute the differences = distances \n",
    "                                                           #between cities\n",
    "\n",
    "print(\"\\n\\nDistances grid in miles:\\n\",dist_grid)\n",
    "\n",
    "      \n",
    "print(\"\\n\\nDistances grid in km:\\n\",dist_grid/0.621371)"
   ]
  },
  {
   "cell_type": "markdown",
   "metadata": {},
   "source": [
    "7\\. **Prime numbers sieve**\n",
    "\n",
    "Compute the prime numbers in the 0-N (start with N=99) range with a sieve (mask).\n",
    "\n",
    "  * Constract a shape (N,) boolean array, which is the mask\n",
    "  * Identify the multiples of each number starting from 2 and set accordingly the corresponding mask element\n",
    "  * Apply the mask to obtain an array of ordered prime numbers\n",
    "  * Check the performances (with `timeit`); how does it scale with N?\n",
    "  * Implement the optimization suggested in the [sieve of Eratosthenes](https://en.wikipedia.org/wiki/Sieve_of_Eratosthenes)"
   ]
  },
  {
   "cell_type": "code",
   "execution_count": 37,
   "metadata": {},
   "outputs": [],
   "source": [
    "def primeNumbers(N):\n",
    "    \n",
    "    if (N <= 1):\n",
    "        return np.array(0)\n",
    "    \n",
    "    N = N + 1 #i need to consider one number more than the maximum value requested in the below code\n",
    "    \n",
    "    numbers = np.arange(0,N)\n",
    "\n",
    "    mask = np.ones(N,dtype=bool) #suppose all prime number\n",
    "\n",
    "    mask[0],mask[1] = False, False #except 0 and 1\n",
    "\n",
    "    i=2 #start from 2\n",
    "    \n",
    "    while(i<N):\n",
    "\n",
    "        if(mask[i] == False): #not a prime number -> we can not use to check the next numbers\n",
    "            i+=1 #next index\n",
    "            continue #skip iteration\n",
    "\n",
    "        j = i + 1 #start from the next number\n",
    "\n",
    "        while(j<N): \n",
    "\n",
    "            if(mask[j] == True and numbers[j]%numbers[i]==0):#if it is not a multiple of the previous number \n",
    "                                                             #already check (-> possible prime number)\n",
    "                                                             # and it is a multiple of the current prime number\n",
    "\n",
    "                mask[j] = False #it is not a prime number \n",
    "\n",
    "\n",
    "            j +=1\n",
    "\n",
    "            #else mask[j]==False it is a position of a number multiple of a prime number seen before\n",
    "\n",
    "        i+=1 #next index\n",
    "        \n",
    "    return numbers[mask] \n",
    "\n",
    "   \n",
    "\n"
   ]
  },
  {
   "cell_type": "code",
   "execution_count": 38,
   "metadata": {},
   "outputs": [
    {
     "name": "stdout",
     "output_type": "stream",
     "text": [
      "Prime numbers in 0-99 are:\n",
      " [ 2  3  5  7 11 13 17 19 23 29 31 37 41 43 47 53 59 61 67 71 73 79 83 89\n",
      " 97] \n",
      " computed in: 0.0022073160000672942 seconds\n"
     ]
    },
    {
     "data": {
      "image/png": "[encoded data removed]",
      "text/plain": [
       "<Figure size 432x288 with 1 Axes>"
      ]
     },
     "metadata": {
      "needs_background": "light"
     },
     "output_type": "display_data"
    }
   ],
   "source": [
    "start = timeit.default_timer() \n",
    "  \n",
    "results = primeNumbers(99)\n",
    "        \n",
    "end = timeit.default_timer() \n",
    "    \n",
    "print(\"Prime numbers in 0-99 are:\\n\", results,\"\\n computed in:\",end-start,\"seconds\")\n",
    "\n",
    "maximum = [] #empty list to save the N value\n",
    "time = [] #empty list to save the time to compute the prime number\n",
    "\n",
    "for N in range(500): #iteration over N\n",
    "    \n",
    "    maximum.append(N) #save the value\n",
    "    \n",
    "    start = timeit.default_timer()\n",
    "    results = primeNumbers(N)\n",
    "    end = timeit.default_timer() \n",
    "    \n",
    "    time.append(end-start)#append the time\n",
    "    \n",
    "\n",
    "#plot\n",
    "plt.plot(maximum,time)\n",
    "plt.title(\"Prime numbers\")\n",
    "plt.xlabel(\"N\")\n",
    "plt.ylabel(\"Time[s]\")\n",
    "plt.show()    "
   ]
  },
  {
   "cell_type": "code",
   "execution_count": 39,
   "metadata": {},
   "outputs": [],
   "source": [
    "def primeNumbers2(N):\n",
    "    \n",
    "    #initialization as before\n",
    "    N = N + 1 \n",
    "    mask = np.ones(100, dtype=bool)\n",
    "    numbers = np.arange(0,100)\n",
    "\n",
    "    mask[0] = False\n",
    "    mask[1] = False\n",
    "\n",
    "    #the implementation follows the pseudo code in the wikipedia page\n",
    "    for i in range(2,int(mt.sqrt(99))):\n",
    "\n",
    "        if mask[i] == True:\n",
    "\n",
    "            j = i**2\n",
    "            while j<=99:\n",
    "\n",
    "                mask[j] = False\n",
    "                j+=i\n",
    "    \n",
    "    return numbers[mask]   "
   ]
  },
  {
   "cell_type": "code",
   "execution_count": 40,
   "metadata": {},
   "outputs": [
    {
     "name": "stdout",
     "output_type": "stream",
     "text": [
      "Prime numbers in 0-99 (computed with the optimized method) are:\n",
      " [ 2  3  5  7 11 13 17 19 23 29 31 37 41 43 47 53 59 61 67 71 73 79 83 89\n",
      " 97] \n",
      " computed in: 0.00017446199990445166 seconds\n"
     ]
    },
    {
     "data": {
      "image/png": "[encoded data removed]",
      "text/plain": [
       "<Figure size 432x288 with 1 Axes>"
      ]
     },
     "metadata": {
      "needs_background": "light"
     },
     "output_type": "display_data"
    }
   ],
   "source": [
    "start = timeit.default_timer()\n",
    "  \n",
    "results = primeNumbers2(99)\n",
    "        \n",
    "end = timeit.default_timer() \n",
    "    \n",
    "print(\"Prime numbers in 0-99 (computed with the optimized method) are:\\n\", results,\"\\n computed in:\",end-start,\"seconds\")\n",
    "\n",
    "#same as before\n",
    "\n",
    "maximum = [] \n",
    "time = []\n",
    "\n",
    "for N in range(500):\n",
    "    \n",
    "    maximum.append(N)\n",
    "    start = timeit.default_timer()\n",
    "    results = primeNumbers2(N)\n",
    "    end = timeit.default_timer() \n",
    "    \n",
    "    time.append(end-start)\n",
    "    \n",
    "\n",
    "plt.plot(maximum,time)\n",
    "plt.title(\"Prime numbers with optimized method\")\n",
    "plt.xlabel(\"N\")\n",
    "plt.ylabel(\"Time[s]\")\n",
    "plt.show()"
   ]
  },
  {
   "cell_type": "markdown",
   "metadata": {},
   "source": [
    "8\\. **Diffusion using random walk**\n",
    "\n",
    "Consider a simple random walk process: at each step in time, a walker jumps right or left (+1 or -1) with equal probability. The goal is to find the typical distance from the origin of many random walkers after a given amount of time.\n",
    "\n",
    "*Hint*: create a 2D array where each row represents a walker, and each column represents a time step.\n",
    "\n",
    "  * Take 1000 walkers and let them walk for 200 steps\n",
    "  * Use `randint` to create a 2D array of size $walkers \\times steps$ with values -1 or 1\n",
    "  * Calculate the walking distances for each walker (e.g. by summing the elements in each row)\n",
    "  * Take the square of the previously-obtained array (element-wise)\n",
    "  * Compute the mean of the squared distances at each step (i.e. the mean along the columns)\n",
    "  * **Optional**: plot the average distances ($\\sqrt(distance^2)$) as a function of time (step)"
   ]
  },
  {
   "cell_type": "code",
   "execution_count": 41,
   "metadata": {
    "scrolled": false
   },
   "outputs": [
    {
     "name": "stdout",
     "output_type": "stream",
     "text": [
      "Random walk matrix:\n",
      " [[ 1 -1 -1 ...  1 -1  1]\n",
      " [ 1 -1  1 ... -1  1 -1]\n",
      " [ 1  1  1 ...  1  1  1]\n",
      " ...\n",
      " [-1  1  1 ... -1 -1  1]\n",
      " [-1 -1  1 ... -1  1 -1]\n",
      " [-1  1 -1 ...  1  1  1]]\n",
      "\n",
      "\n",
      "Distance for each walker:\n",
      " [-14   4  30  16 -20   6  -8  -4   8 -12  12   8   6  -4  14  10 -26 -28\n",
      " -16  -2  -2   6  26  12  -8   0   6   0   6 -26  16   4   8  30  14   4\n",
      "   4  -8   0  -6  -4  -2  -6  14  14  12 -10  10  16   8   8  -6   8  22\n",
      "   4 -26   8  16  10  16  10  -8   6  -2   4  20 -40   2  -8   4  16 -20\n",
      "  10   4  -4   4  12 -10  22 -34  18   8  22 -16   4 -22   6 -18  24 -22\n",
      "  -2  30  36 -22  -4  12  14 -12 -28 -26   2  12  -2  14  -4 -24  32   2\n",
      "   6   8  -2  -6  10 -22  -8  -4  -2  14  18   6  -4 -24  16  20 -14  14\n",
      " -16   4 -28  -6  -6  24  16 -24   0 -10   4   0  30   8 -16   0   0  -4\n",
      "  -8   2 -20  -2  10   4   8  14  -8   8  14  -2 -14   8  10  -4   6   4\n",
      " -12  -2  -2   0  28  20  20   2  22   4 -16   6  12  18   2   4  12 -18\n",
      "  10   0  12  18  32   2  30  -4  24 -24   8   2  32   8   8   0  22   4\n",
      "  -4  -4  -8   2  -6  10 -22  -2   0   0  18   4  14  10   2   2  10  -8\n",
      "  -2  36   2   4  26  14   2  46  36  14   2 -10  -8  -2  16  -8   0 -24\n",
      "   2  12 -36  20  28  32  -8 -10  -6 -24  36   0   4  10  -8 -22  14 -26\n",
      "   6  10   2  24 -16   2 -12  -2  -4  16  -4   8  22 -18  -2  -4  20   4\n",
      "   6  14  -4   8  -2   0 -12 -14 -12  -2  -2  16  -6  -4   0  14 -12  -4\n",
      "  -2  18 -36  -4  16   2  -8  -2 -14   8   4  12   4  -2 -12   8   6 -14\n",
      " -16  22   0 -10 -10  -6  -6  10 -16  18  12  -6 -14   4 -12  -6   6 -20\n",
      "   0  16   0  -8  18  12  12 -32  14  -6  -4  -6  12   6  14  24 -18  -8\n",
      " -22 -40  22   2  -4  34 -12   6   0  -8 -10  -8   8 -10  -8 -10  16 -38\n",
      " -16   8  -4  28  12  22 -12   0 -16  12  10   0  -8   8  44   4   8  -4\n",
      "  -2 -26  26  12 -16  10 -34   8  10   6  18 -18   2  -6 -44  -2 -18  14\n",
      "  -4 -14  -4   4  -2  16 -12  12  14 -10   2 -32  12  22 -10   0  22 -18\n",
      "  -8   4  -8   0  -8 -16  -4 -20   6 -10 -18  -8   8  12  -4 -20   2  20\n",
      "   6  16 -10   0  12  -2   8 -24 -12  18   6  -2 -20 -24  22  -8 -20   2\n",
      " -30 -20  14 -12   4 -14 -20  14  -2  -4  12  -2  16 -12  -4  -6 -10 -12\n",
      "   4  14  12  14   2  -4 -24 -12  -6   6  10  -2  -8  -6   0 -10  10  -8\n",
      " -28   0  14  -2  18  -2   2  -6  -6 -18  18   2  10 -14  -4   0   2 -20\n",
      " -24  20  -6  20  -2  18   4 -16 -22 -14   8  18  -2  22   4  16 -18 -18\n",
      "   8  -4  10  32  10   6   4  -2  18  -2  -4   0   8 -10 -20   2   8  10\n",
      "  10  -2  10  -8 -26 -28   4  22 -16   6   6  22  -6  34  -8  -4   8  26\n",
      "   2 -26   0  12  14   0   0  12  -4  14 -10 -10  12  -8   4  10   4   6\n",
      "   2  -4  12  -6 -28  -4  14 -12  20 -22   6 -14  -4  10  12   4  -2   2\n",
      "   2  10  22   4  12  18 -12 -26   2  -4  14   0  28  -2   2 -10  -2  -6\n",
      " -16  14  10  18 -20  18 -24  14  20  22 -12   6 -30  -4 -18   0  14   2\n",
      "  14  18  16  20 -10  -4  34   2   4 -22 -26 -16  -4  -4  26  10  -4  -6\n",
      "  10  26   2   6  -6  28   8  -2  -8   6  -4 -18  12  12  -4  -8  -8  30\n",
      " -16  14  10   0 -12 -26  -2  -6   0   8 -26   6  -2 -14   0 -26  12 -16\n",
      "   8   8   4  -2 -18  -4  -8   0  -4  16  -4  14  16 -44  16 -12  16  -4\n",
      "  -6 -12   0 -24  26  20 -18 -14 -12 -16 -14   8  -8  -4 -12 -22  -4   4\n",
      " -18   0  10  14  -6  18  -4   4   0   0   6 -10   8 -28   0  14   2 -12\n",
      "  12  -6   6   4  20  -6  12   0 -18   4  10   0 -14  20 -10 -18   2  -6\n",
      "  -6  18  12  22 -10  -2 -16   2  -8  10  12   8 -12 -32  28 -22 -28 -14\n",
      "  22 -26  12  16  -6 -12  14  12 -14   6  20 -10  12  16  42 -10 -28  -4\n",
      "  10  38 -12   4   2   6   8 -14  16  20  -4 -24  -8  20  12 -18 -12   6\n",
      " -12  22   8 -18  10   0  -2   4  -6  -4 -16   0 -14 -18   0  -4 -10 -10\n",
      "  14  18  -2  14 -20   6  -4 -10  -2  16  24  -2 -10   6 -24 -12  12 -12\n",
      "  22  16  14  32   2  -6 -22  -6  -4  18  -4  -8 -26   6   6  -6   8 -18\n",
      "   6   6 -14 -12   6   6  14  14  -8 -22  22  18   4   6 -12  16  -8   2\n",
      "   2 -18   4   4 -14   0  20  14  12  -2   2 -12  10 -22  -2   6  -6  -2\n",
      "  -8  -4 -20 -24  10 -12   8 -20  -6  12  -2   4   0   2   0  10 -10  14\n",
      "   2 -14 -14  -6   0 -16  12  12   4  10  -4  -8  14 -18  10 -26 -14  -6\n",
      "  20   6  10  28   8  20   8 -14  26   6 -12  20   0  12 -10   4 -10   4\n",
      "   8  36 -14  16  -6  -4 -22 -16  -8 -10   4   0  -8 -16 -14  10 -12 -22\n",
      "  -8   4 -18  16  10 -20   2  -6   8 -16  18  -2  14  -6   0   4  18  22\n",
      "  14   4  20 -10   6   6  12 -10  12  10]\n",
      "\n",
      "\n",
      "Square distance for each walker:\n",
      " [ 196   16  900  256  400   36   64   16   64  144  144   64   36   16\n",
      "  196  100  676  784  256    4    4   36  676  144   64    0   36    0\n",
      "   36  676  256   16   64  900  196   16   16   64    0   36   16    4\n",
      "   36  196  196  144  100  100  256   64   64   36   64  484   16  676\n",
      "   64  256  100  256  100   64   36    4   16  400 1600    4   64   16\n",
      "  256  400  100   16   16   16  144  100  484 1156  324   64  484  256\n",
      "   16  484   36  324  576  484    4  900 1296  484   16  144  196  144\n",
      "  784  676    4  144    4  196   16  576 1024    4   36   64    4   36\n",
      "  100  484   64   16    4  196  324   36   16  576  256  400  196  196\n",
      "  256   16  784   36   36  576  256  576    0  100   16    0  900   64\n",
      "  256    0    0   16   64    4  400    4  100   16   64  196   64   64\n",
      "  196    4  196   64  100   16   36   16  144    4    4    0  784  400\n",
      "  400    4  484   16  256   36  144  324    4   16  144  324  100    0\n",
      "  144  324 1024    4  900   16  576  576   64    4 1024   64   64    0\n",
      "  484   16   16   16   64    4   36  100  484    4    0    0  324   16\n",
      "  196  100    4    4  100   64    4 1296    4   16  676  196    4 2116\n",
      " 1296  196    4  100   64    4  256   64    0  576    4  144 1296  400\n",
      "  784 1024   64  100   36  576 1296    0   16  100   64  484  196  676\n",
      "   36  100    4  576  256    4  144    4   16  256   16   64  484  324\n",
      "    4   16  400   16   36  196   16   64    4    0  144  196  144    4\n",
      "    4  256   36   16    0  196  144   16    4  324 1296   16  256    4\n",
      "   64    4  196   64   16  144   16    4  144   64   36  196  256  484\n",
      "    0  100  100   36   36  100  256  324  144   36  196   16  144   36\n",
      "   36  400    0  256    0   64  324  144  144 1024  196   36   16   36\n",
      "  144   36  196  576  324   64  484 1600  484    4   16 1156  144   36\n",
      "    0   64  100   64   64  100   64  100  256 1444  256   64   16  784\n",
      "  144  484  144    0  256  144  100    0   64   64 1936   16   64   16\n",
      "    4  676  676  144  256  100 1156   64  100   36  324  324    4   36\n",
      " 1936    4  324  196   16  196   16   16    4  256  144  144  196  100\n",
      "    4 1024  144  484  100    0  484  324   64   16   64    0   64  256\n",
      "   16  400   36  100  324   64   64  144   16  400    4  400   36  256\n",
      "  100    0  144    4   64  576  144  324   36    4  400  576  484   64\n",
      "  400    4  900  400  196  144   16  196  400  196    4   16  144    4\n",
      "  256  144   16   36  100  144   16  196  144  196    4   16  576  144\n",
      "   36   36  100    4   64   36    0  100  100   64  784    0  196    4\n",
      "  324    4    4   36   36  324  324    4  100  196   16    0    4  400\n",
      "  576  400   36  400    4  324   16  256  484  196   64  324    4  484\n",
      "   16  256  324  324   64   16  100 1024  100   36   16    4  324    4\n",
      "   16    0   64  100  400    4   64  100  100    4  100   64  676  784\n",
      "   16  484  256   36   36  484   36 1156   64   16   64  676    4  676\n",
      "    0  144  196    0    0  144   16  196  100  100  144   64   16  100\n",
      "   16   36    4   16  144   36  784   16  196  144  400  484   36  196\n",
      "   16  100  144   16    4    4    4  100  484   16  144  324  144  676\n",
      "    4   16  196    0  784    4    4  100    4   36  256  196  100  324\n",
      "  400  324  576  196  400  484  144   36  900   16  324    0  196    4\n",
      "  196  324  256  400  100   16 1156    4   16  484  676  256   16   16\n",
      "  676  100   16   36  100  676    4   36   36  784   64    4   64   36\n",
      "   16  324  144  144   16   64   64  900  256  196  100    0  144  676\n",
      "    4   36    0   64  676   36    4  196    0  676  144  256   64   64\n",
      "   16    4  324   16   64    0   16  256   16  196  256 1936  256  144\n",
      "  256   16   36  144    0  576  676  400  324  196  144  256  196   64\n",
      "   64   16  144  484   16   16  324    0  100  196   36  324   16   16\n",
      "    0    0   36  100   64  784    0  196    4  144  144   36   36   16\n",
      "  400   36  144    0  324   16  100    0  196  400  100  324    4   36\n",
      "   36  324  144  484  100    4  256    4   64  100  144   64  144 1024\n",
      "  784  484  784  196  484  676  144  256   36  144  196  144  196   36\n",
      "  400  100  144  256 1764  100  784   16  100 1444  144   16    4   36\n",
      "   64  196  256  400   16  576   64  400  144  324  144   36  144  484\n",
      "   64  324  100    0    4   16   36   16  256    0  196  324    0   16\n",
      "  100  100  196  324    4  196  400   36   16  100    4  256  576    4\n",
      "  100   36  576  144  144  144  484  256  196 1024    4   36  484   36\n",
      "   16  324   16   64  676   36   36   36   64  324   36   36  196  144\n",
      "   36   36  196  196   64  484  484  324   16   36  144  256   64    4\n",
      "    4  324   16   16  196    0  400  196  144    4    4  144  100  484\n",
      "    4   36   36    4   64   16  400  576  100  144   64  400   36  144\n",
      "    4   16    0    4    0  100  100  196    4  196  196   36    0  256\n",
      "  144  144   16  100   16   64  196  324  100  676  196   36  400   36\n",
      "  100  784   64  400   64  196  676   36  144  400    0  144  100   16\n",
      "  100   16   64 1296  196  256   36   16  484  256   64  100   16    0\n",
      "   64  256  196  100  144  484   64   16  324  256  100  400    4   36\n",
      "   64  256  324    4  196   36    0   16  324  484  196   16  400  100\n",
      "   36   36  144  100  144  100]\n",
      "\n",
      "\n",
      "Mean for each time stamp:\n",
      " 0.704\n"
     ]
    },
    {
     "data": {
      "text/plain": [
       "[<matplotlib.lines.Line2D at 0x7fa040bc4bb0>]"
      ]
     },
     "execution_count": 41,
     "metadata": {},
     "output_type": "execute_result"
    },
    {
     "data": {
      "image/png": "[encoded data removed]",
      "text/plain": [
       "<Figure size 576x432 with 1 Axes>"
      ]
     },
     "metadata": {
      "needs_background": "light"
     },
     "output_type": "display_data"
    }
   ],
   "source": [
    "random_walk = np.random.choice(np.array([1,-1]),(1000,200)) #np.random.randint(-1,2,(1000,200)) includes also the 0 \n",
    "print(\"Random walk matrix:\\n\",random_walk)\n",
    "\n",
    "distances = random_walk.sum(axis = 1)\n",
    "print(\"\\n\\nDistance for each walker:\\n\",distances)\n",
    "\n",
    "d_square = np.square(distances)\n",
    "print(\"\\n\\nSquare distance for each walker:\\n\",d_square)\n",
    "\n",
    "mean_steps = distances.mean(axis = 0)\n",
    "print(\"\\n\\nMean for each time stamp:\\n\", mean_steps)\n",
    "\n",
    "time = np.arange(1,201) #generation of a vector of 200 timestamp\n",
    "\n",
    "mean_distance = random_walk.copy() \n",
    "\n",
    "for i in range(1,200): #compute distance of each walker from the origin\n",
    "    mean_distance[:,i] += mean_distance[:,i-1]\n",
    "    \n",
    "mean_distance = mean_distance.mean(axis=0) #mean distance for each step\n",
    "\n",
    "#plot\n",
    "plt.figure(figsize=(8, 6))\n",
    "plt.title(\"Average distance\")\n",
    "plt.xlabel(\"Timestamp\")\n",
    "plt.ylabel(\"Average distance\")\n",
    "plt.plot(time, mean_distance)"
   ]
  }
 ],
 "metadata": {
  "kernelspec": {
   "display_name": "Python 3 (ipykernel)",
   "language": "python",
   "name": "python3"
  },
  "language_info": {
   "codemirror_mode": {
    "name": "ipython",
    "version": 3
   },
   "file_extension": ".py",
   "mimetype": "text/x-python",
   "name": "python",
   "nbconvert_exporter": "python",
   "pygments_lexer": "ipython3",
   "version": "3.9.12"
  }
 },
 "nbformat": 4,
 "nbformat_minor": 2
}
