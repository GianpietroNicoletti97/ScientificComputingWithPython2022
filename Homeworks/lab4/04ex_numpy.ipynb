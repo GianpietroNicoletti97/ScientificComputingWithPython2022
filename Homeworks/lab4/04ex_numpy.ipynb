{
 "cells": [
  {
   "cell_type": "markdown",
   "metadata": {},
   "source": [
    "Gianpietro Nicoletti <br>\n",
    "ID: 2053042"
   ]
  },
  {
   "cell_type": "markdown",
   "metadata": {},
   "source": [
    "1\\. **Reductions**\n",
    "\n",
    "Find the total mean, and the mean for each row and column of the following matrix:\n",
    "\n",
    "```python\n",
    "m = np.arange(12).reshape((3,4))\n",
    "```"
   ]
  },
  {
   "cell_type": "code",
   "execution_count": 1,
   "metadata": {},
   "outputs": [],
   "source": [
    "import numpy as np\n",
    "import math as mt\n",
    "import matplotlib.pyplot as plt"
   ]
  },
  {
   "cell_type": "code",
   "execution_count": 2,
   "metadata": {},
   "outputs": [
    {
     "name": "stdout",
     "output_type": "stream",
     "text": [
      "[[ 0  1  2  3]\n",
      " [ 4  5  6  7]\n",
      " [ 8  9 10 11]]\n",
      "\n",
      "Row mean: [1.5 5.5 9.5]\n",
      "\n",
      "Comumn mean: [4. 5. 6. 7.]\n",
      "\n",
      "Total mean: 5.5\n"
     ]
    }
   ],
   "source": [
    "\n",
    "m = np.arange(12).reshape((3,4))\n",
    "\n",
    "row_mean = m.mean(axis = 1)\n",
    "column_mean = m.mean(axis = 0)\n",
    "\n",
    "tot_mean = m.mean()\n",
    "print(m)\n",
    "print(\"\\nRow mean:\", row_mean)\n",
    "print(\"\\nComumn mean:\", column_mean)\n",
    "print(\"\\nTotal mean:\", tot_mean)"
   ]
  },
  {
   "cell_type": "markdown",
   "metadata": {},
   "source": [
    "2\\. **Outer product**\n",
    "\n",
    "Find the outer product of the following vectors:\n",
    "\n",
    "```python\n",
    "u = np.array([1, 3, 5, 7])\n",
    "v = np.array([2, 4, 6, 8])\n",
    "```\n",
    "\n",
    "Use different methods to do this:\n",
    "\n",
    "   1. Using the function `outer` in numpy\n",
    "   2. Using a nested `for` loop or a list comprehension\n",
    "   3. Using numpy broadcasting operations"
   ]
  },
  {
   "cell_type": "code",
   "execution_count": 3,
   "metadata": {},
   "outputs": [
    {
     "name": "stdout",
     "output_type": "stream",
     "text": [
      "u =  [1 3 5 7]\n",
      "\n",
      "v =  [2 4 6 8]\n",
      "Outer product with np.outer\n",
      "\n",
      "[[ 2  4  6  8]\n",
      " [ 6 12 18 24]\n",
      " [10 20 30 40]\n",
      " [14 28 42 56]]\n",
      "\n",
      "Outer product with for loop\n",
      "\n",
      "[[ 2.  4.  6.  8.]\n",
      " [ 6. 12. 18. 24.]\n",
      " [10. 20. 30. 40.]\n",
      " [14. 28. 42. 56.]]\n",
      "\n",
      "Outer product with broadcasting\n",
      "\n",
      "[[ 2  6 10 14]\n",
      " [ 4 12 20 28]\n",
      " [ 6 18 30 42]\n",
      " [ 8 24 40 56]]\n"
     ]
    }
   ],
   "source": [
    "u = np.array([1, 3, 5, 7])\n",
    "v = np.array([2, 4, 6, 8])\n",
    "\n",
    "print(\"u = \",u)\n",
    "print(\"\\nv = \",v)\n",
    "outer_np = np.outer(u,v)\n",
    "\n",
    "print(\"Outer product with np.outer\\n\")\n",
    "print(outer_np)\n",
    "\n",
    "print(\"\\nOuter product with for loop\\n\")\n",
    "\n",
    "outer_for = np.zeros((u.shape[0],v.shape[0]))\n",
    "\n",
    "for i in range(u.shape[0]):\n",
    "    for j in range(v.shape[0]):\n",
    "        outer_for[i][j]=u[i]*v[j]\n",
    "        \n",
    "print(outer_for)\n",
    "print(\"\\nOuter product with broadcasting\\n\")\n",
    "\n",
    "outer_broadcasting = u*v.reshape(v.shape[0],1)\n",
    "\n",
    "print(outer_broadcasting)\n"
   ]
  },
  {
   "cell_type": "markdown",
   "metadata": {},
   "source": [
    "3\\. **Matrix masking**\n",
    "\n",
    "Create a 10 by 6 matrix of float random numbers, distributed between 0 and 3 according to a flat distribution.\n",
    "\n",
    "After creating the matrix, set all entries $< 0.3$ to zero using a mask."
   ]
  },
  {
   "cell_type": "code",
   "execution_count": 4,
   "metadata": {},
   "outputs": [
    {
     "name": "stdout",
     "output_type": "stream",
     "text": [
      "Random matrix\n",
      " [[0.75036472 2.92775709 1.39742342 0.03379294 1.00123796 1.49890878]\n",
      " [0.68663025 0.67065188 2.38078565 0.45651535 1.02224542 1.27306261]\n",
      " [1.76029538 2.43544686 1.46993411 1.16598244 2.49240114 0.23540519]\n",
      " [2.11991698 1.91541778 2.23478541 2.84677227 1.9543504  1.01781815]\n",
      " [1.57533701 2.91125195 2.55033138 2.27175542 0.30080308 1.80352661]\n",
      " [2.75925836 2.96935478 0.11326275 0.22294943 1.39335459 2.47226678]\n",
      " [1.73909515 2.24138338 2.14835667 1.39404411 1.47250202 0.12155573]\n",
      " [2.36589181 0.68065143 2.26472942 0.9369541  1.48137714 1.67204529]\n",
      " [2.27604788 0.93066962 2.09837821 1.36458649 1.71152062 2.73224158]\n",
      " [0.1694923  0.04815511 1.05610726 2.88712896 1.00279595 2.65419198]]\n",
      "\n",
      "\n",
      "Mask for value < 3\n",
      " [[False False False  True False False]\n",
      " [False False False False False False]\n",
      " [False False False False False  True]\n",
      " [False False False False False False]\n",
      " [False False False False False False]\n",
      " [False False  True  True False False]\n",
      " [False False False False False  True]\n",
      " [False False False False False False]\n",
      " [False False False False False False]\n",
      " [ True  True False False False False]]\n",
      "\n",
      "\n",
      "Zero after masking\n",
      " [[0.75036472 2.92775709 1.39742342 0.         1.00123796 1.49890878]\n",
      " [0.68663025 0.67065188 2.38078565 0.45651535 1.02224542 1.27306261]\n",
      " [1.76029538 2.43544686 1.46993411 1.16598244 2.49240114 0.        ]\n",
      " [2.11991698 1.91541778 2.23478541 2.84677227 1.9543504  1.01781815]\n",
      " [1.57533701 2.91125195 2.55033138 2.27175542 0.30080308 1.80352661]\n",
      " [2.75925836 2.96935478 0.         0.         1.39335459 2.47226678]\n",
      " [1.73909515 2.24138338 2.14835667 1.39404411 1.47250202 0.        ]\n",
      " [2.36589181 0.68065143 2.26472942 0.9369541  1.48137714 1.67204529]\n",
      " [2.27604788 0.93066962 2.09837821 1.36458649 1.71152062 2.73224158]\n",
      " [0.         0.         1.05610726 2.88712896 1.00279595 2.65419198]]\n"
     ]
    }
   ],
   "source": [
    "rand = np.random.uniform(0,3,(10,6)) \n",
    "rand_mask = rand < 0.3\n",
    "print(\"Random matrix\\n\",rand)\n",
    "print(\"\\n\\nMask for value < 3\\n\",rand_mask)\n",
    "\n",
    "rand[rand_mask] = 0\n",
    "print(\"\\n\\nZero after masking\\n\",rand)"
   ]
  },
  {
   "cell_type": "markdown",
   "metadata": {},
   "source": [
    "4\\. **Trigonometric functions**\n",
    "\n",
    "Use `np.linspace` to create an array of 100 numbers between $0$ and $2\\pi$ (inclusive).\n",
    "\n",
    "  * Extract every 10th element using the slice notation\n",
    "  * Reverse the array using the slice notation\n",
    "  * Extract elements where the absolute difference between the `sin` and `cos` functions evaluated for that element is $< 0.1$\n",
    "  * **Optional**: make a plot showing the sin and cos functions and indicate where they are close"
   ]
  },
  {
   "cell_type": "code",
   "execution_count": 5,
   "metadata": {},
   "outputs": [
    {
     "name": "stdout",
     "output_type": "stream",
     "text": [
      "Vector:\n",
      " [0.         0.06346652 0.12693304 0.19039955 0.25386607 0.31733259\n",
      " 0.38079911 0.44426563 0.50773215 0.57119866 0.63466518 0.6981317\n",
      " 0.76159822 0.82506474 0.88853126 0.95199777 1.01546429 1.07893081\n",
      " 1.14239733 1.20586385 1.26933037 1.33279688 1.3962634  1.45972992\n",
      " 1.52319644 1.58666296 1.65012947 1.71359599 1.77706251 1.84052903\n",
      " 1.90399555 1.96746207 2.03092858 2.0943951  2.15786162 2.22132814\n",
      " 2.28479466 2.34826118 2.41172769 2.47519421 2.53866073 2.60212725\n",
      " 2.66559377 2.72906028 2.7925268  2.85599332 2.91945984 2.98292636\n",
      " 3.04639288 3.10985939 3.17332591 3.23679243 3.30025895 3.36372547\n",
      " 3.42719199 3.4906585  3.55412502 3.61759154 3.68105806 3.74452458\n",
      " 3.8079911  3.87145761 3.93492413 3.99839065 4.06185717 4.12532369\n",
      " 4.1887902  4.25225672 4.31572324 4.37918976 4.44265628 4.5061228\n",
      " 4.56958931 4.63305583 4.69652235 4.75998887 4.82345539 4.88692191\n",
      " 4.95038842 5.01385494 5.07732146 5.14078798 5.2042545  5.26772102\n",
      " 5.33118753 5.39465405 5.45812057 5.52158709 5.58505361 5.64852012\n",
      " 5.71198664 5.77545316 5.83891968 5.9023862  5.96585272 6.02931923\n",
      " 6.09278575 6.15625227 6.21971879 6.28318531]\n",
      "\n",
      "\n",
      "Vector every ten element:\n",
      " [0.         0.63466518 1.26933037 1.90399555 2.53866073 3.17332591\n",
      " 3.8079911  4.44265628 5.07732146 5.71198664]\n",
      "\n",
      "\n",
      "Vector reversed:\n",
      " [6.28318531 6.21971879 6.15625227 6.09278575 6.02931923 5.96585272\n",
      " 5.9023862  5.83891968 5.77545316 5.71198664 5.64852012 5.58505361\n",
      " 5.52158709 5.45812057 5.39465405 5.33118753 5.26772102 5.2042545\n",
      " 5.14078798 5.07732146 5.01385494 4.95038842 4.88692191 4.82345539\n",
      " 4.75998887 4.69652235 4.63305583 4.56958931 4.5061228  4.44265628\n",
      " 4.37918976 4.31572324 4.25225672 4.1887902  4.12532369 4.06185717\n",
      " 3.99839065 3.93492413 3.87145761 3.8079911  3.74452458 3.68105806\n",
      " 3.61759154 3.55412502 3.4906585  3.42719199 3.36372547 3.30025895\n",
      " 3.23679243 3.17332591 3.10985939 3.04639288 2.98292636 2.91945984\n",
      " 2.85599332 2.7925268  2.72906028 2.66559377 2.60212725 2.53866073\n",
      " 2.47519421 2.41172769 2.34826118 2.28479466 2.22132814 2.15786162\n",
      " 2.0943951  2.03092858 1.96746207 1.90399555 1.84052903 1.77706251\n",
      " 1.71359599 1.65012947 1.58666296 1.52319644 1.45972992 1.3962634\n",
      " 1.33279688 1.26933037 1.20586385 1.14239733 1.07893081 1.01546429\n",
      " 0.95199777 0.88853126 0.82506474 0.76159822 0.6981317  0.63466518\n",
      " 0.57119866 0.50773215 0.44426563 0.38079911 0.31733259 0.25386607\n",
      " 0.19039955 0.12693304 0.06346652 0.        ]\n",
      "\n",
      "\n",
      "Vector with condition:\n",
      " [0.76159822 0.82506474 3.87145761 3.93492413]\n"
     ]
    },
    {
     "data": {
      "image/png": "[encoded data removed]",
      "text/plain": [
       "<Figure size 432x288 with 1 Axes>"
      ]
     },
     "metadata": {
      "needs_background": "light"
     },
     "output_type": "display_data"
    }
   ],
   "source": [
    "\n",
    "vect = np.linspace(0,2*mt.pi,100)\n",
    "\n",
    "print(\"Vector:\\n\",vect)\n",
    "\n",
    "print(\"\\n\\nVector every ten element:\\n\",vect[0:100:10])\n",
    "\n",
    "print(\"\\n\\nVector reversed:\\n\", vect[::-1])\n",
    "\n",
    "print(\"\\n\\nVector with condition:\\n\", vect[abs(np.sin(vect)-np.cos(vect))<0.1])\n",
    "\n",
    "plt.plot(np.sin(vect))\n",
    "plt.plot(np.cos(vect))\n",
    "\n",
    "plt.show()"
   ]
  },
  {
   "cell_type": "markdown",
   "metadata": {},
   "source": [
    "5\\. **Matrices**\n",
    "\n",
    "Create a matrix that shows the 10 by 10 multiplication table.\n",
    "\n",
    " * Find the trace of the matrix\n",
    " * Extract the anti-diagonal matrix (this should be ```array([10, 18, 24, 28, 30, 30, 28, 24, 18, 10])```)\n",
    " * Extract the diagonal offset by 1 upwards (this should be ```array([ 2,  6, 12, 20, 30, 42, 56, 72, 90])```)"
   ]
  },
  {
   "cell_type": "code",
   "execution_count": 6,
   "metadata": {},
   "outputs": [
    {
     "name": "stdout",
     "output_type": "stream",
     "text": [
      "[[  1   2   3   4   5   6   7   8   9  10]\n",
      " [  2   4   6   8  10  12  14  16  18  20]\n",
      " [  3   6   9  12  15  18  21  24  27  30]\n",
      " [  4   8  12  16  20  24  28  32  36  40]\n",
      " [  5  10  15  20  25  30  35  40  45  50]\n",
      " [  6  12  18  24  30  36  42  48  54  60]\n",
      " [  7  14  21  28  35  42  49  56  63  70]\n",
      " [  8  16  24  32  40  48  56  64  72  80]\n",
      " [  9  18  27  36  45  54  63  72  81  90]\n",
      " [ 10  20  30  40  50  60  70  80  90 100]]\n",
      "Trace:  385\n",
      "\n",
      "\n",
      "Antidiagonal:  [10 18 24 28 30 30 28 24 18 10]\n"
     ]
    }
   ],
   "source": [
    "ten_matrix = np.arange(1,11)*np.arange(1,11).reshape(10,1)\n",
    "\n",
    "print(ten_matrix)\n",
    "\n",
    "print(\"Trace: \", ten_matrix.trace())\n",
    "\n",
    "print(\"\\n\\nAntidiagonal: \", np.flip(ten_matrix,axis=0).diagonal())"
   ]
  },
  {
   "cell_type": "markdown",
   "metadata": {},
   "source": [
    "6\\. **Broadcasting**\n",
    "\n",
    "Use broadcasting to create a grid of distances.\n",
    "\n",
    "Route 66 crosses the following cities in the US: Chicago, Springfield, Saint-Louis, Tulsa, Oklahoma City, Amarillo, Santa Fe, Albuquerque, Flagstaff, Los Angeles.\n",
    "\n",
    "The corresponding positions in miles are: 0, 198, 303, 736, 871, 1175, 1475, 1544, 1913, 2448\n",
    "\n",
    "  * Build a 2D grid of distances among each city along Route 66\n",
    "  * Convert the distances in km"
   ]
  },
  {
   "cell_type": "code",
   "execution_count": 49,
   "metadata": {},
   "outputs": [
    {
     "name": "stdout",
     "output_type": "stream",
     "text": [
      "Distances in miles:\n",
      " [   0  198  303  736  871 1175 1475 1544 1913 2448]\n",
      "\n",
      "\n",
      "Distances grid in miles:\n",
      " [[   0.  198.  303.  736.  871. 1175. 1475. 1544. 1913. 2448.]\n",
      " [ 198.    0.  105.  538.  673.  977. 1277. 1346. 1715. 2250.]\n",
      " [ 303.  105.    0.  433.  568.  872. 1172. 1241. 1610. 2145.]\n",
      " [ 736.  538.  433.    0.  135.  439.  739.  808. 1177. 1712.]\n",
      " [ 871.  673.  568.  135.    0.  304.  604.  673. 1042. 1577.]\n",
      " [1175.  977.  872.  439.  304.    0.  300.  369.  738. 1273.]\n",
      " [1475. 1277. 1172.  739.  604.  300.    0.   69.  438.  973.]\n",
      " [1544. 1346. 1241.  808.  673.  369.   69.    0.  369.  904.]\n",
      " [1913. 1715. 1610. 1177. 1042.  738.  438.  369.    0.  535.]\n",
      " [2448. 2250. 2145. 1712. 1577. 1273.  973.  904.  535.    0.]]\n",
      "\n",
      "\n",
      "Distances grid in km:\n",
      " [[   0.          318.65021058  487.63138286 1184.47755045 1401.73905766\n",
      "  1890.97978502 2373.78313439 2484.82790475 3078.67602447 3939.67533084]\n",
      " [ 318.65021058    0.          168.98117228  865.82733987 1083.08884708\n",
      "  1572.32957444 2055.13292381 2166.17769416 2760.02581389 3621.02512026]\n",
      " [ 487.63138286  168.98117228    0.          696.84616759  914.1076748\n",
      "  1403.34840216 1886.15175153 1997.19652188 2591.04464161 3452.04394798]\n",
      " [1184.47755045  865.82733987  696.84616759    0.          217.26150722\n",
      "   706.50223457 1189.30558394 1300.3503543  1894.19847402 2755.19778039]\n",
      " [1401.73905766 1083.08884708  914.1076748   217.26150722    0.\n",
      "   489.24072736  972.04407673 1083.08884708 1676.9369668  2537.93627318]\n",
      " [1890.97978502 1572.32957444 1403.34840216  706.50223457  489.24072736\n",
      "     0.          482.80334937  593.84811972 1187.69623944 2048.69554582]\n",
      " [2373.78313439 2055.13292381 1886.15175153 1189.30558394  972.04407673\n",
      "   482.80334937    0.          111.04477035  704.89289008 1565.89219645]\n",
      " [2484.82790475 2166.17769416 1997.19652188 1300.3503543  1083.08884708\n",
      "   593.84811972  111.04477035    0.          593.84811972 1454.84742609]\n",
      " [3078.67602447 2760.02581389 2591.04464161 1894.19847402 1676.9369668\n",
      "  1187.69623944  704.89289008  593.84811972    0.          860.99930637]\n",
      " [3939.67533084 3621.02512026 3452.04394798 2755.19778039 2537.93627318\n",
      "  2048.69554582 1565.89219645 1454.84742609  860.99930637    0.        ]]\n"
     ]
    }
   ],
   "source": [
    "distances = np.array([0,198,303,736,871,1175,1475,1544,1913,2448])\n",
    "\n",
    "print(\"Distances in miles:\\n\",distances)\n",
    "\n",
    "tmp = distances*np.ones((10,10))\n",
    "\n",
    "dist_grid = np.absolute((tmp - distances.reshape((10,1))))\n",
    "\n",
    "print(\"\\n\\nDistances grid in miles:\\n\",dist_grid)\n",
    "\n",
    "      \n",
    "print(\"\\n\\nDistances grid in km:\\n\",dist_grid/0.621371)"
   ]
  },
  {
   "cell_type": "markdown",
   "metadata": {},
   "source": [
    "7\\. **Prime numbers sieve**\n",
    "\n",
    "Compute the prime numbers in the 0-N (start with N=99) range with a sieve (mask).\n",
    "\n",
    "  * Constract a shape (N,) boolean array, which is the mask\n",
    "  * Identify the multiples of each number starting from 2 and set accordingly the corresponding mask element\n",
    "  * Apply the mask to obtain an array of ordered prime numbers\n",
    "  * Check the performances (with `timeit`); how does it scale with N?\n",
    "  * Implement the optimization suggested in the [sieve of Eratosthenes](https://en.wikipedia.org/wiki/Sieve_of_Eratosthenes)"
   ]
  },
  {
   "cell_type": "code",
   "execution_count": 73,
   "metadata": {},
   "outputs": [
    {
     "name": "stdout",
     "output_type": "stream",
     "text": [
      "Prime number in 0-99 are:\n",
      " [ 2  3  5  7 11 13 17 19 23 29 31 37 41 43 47 53 59 61 67 71 73 79 83 89\n",
      " 97]\n"
     ]
    }
   ],
   "source": [
    "numbers = np.arange(0,100)\n",
    "\n",
    "mask = np.ones(100,dtype=bool) #suppose all prime number\n",
    "\n",
    "mask[0],mask[1] = False, False #except 0 and 1\n",
    "\n",
    "i=2 #start from 2\n",
    "\n",
    "while(i<100):\n",
    "    \n",
    "    if(mask[i] == False): #not a prime number -> we can not use to check the next numbers\n",
    "        i+=1 #next index\n",
    "        continue #skip iteration\n",
    "    \n",
    "    j = i + 1 #start from the next number\n",
    "    \n",
    "    while(j<100): \n",
    "        \n",
    "        if(mask[j] == True and numbers[j]%numbers[i]==0):#if it is not a multiple of the previous number \n",
    "                                                         #already check (-> possible prime number)\n",
    "                                                         # and it is a multiple of the current prime number\n",
    "                    \n",
    "            mask[j] = False #it is not a prime number \n",
    "        \n",
    "        \n",
    "        j +=1\n",
    "        \n",
    "        #else mask[j]==False it is a position of a number multiple of a prime number seen before\n",
    "        \n",
    "    i+=1 #next index\n",
    "                    \n",
    "        \n",
    "\n",
    "print(\"Prime numbers in 0-99 are:\\n\", numbers[mask])\n",
    "        \n",
    "    \n",
    "    \n",
    "    \n",
    "    "
   ]
  },
  {
   "cell_type": "markdown",
   "metadata": {},
   "source": [
    "8\\. **Diffusion using random walk**\n",
    "\n",
    "Consider a simple random walk process: at each step in time, a walker jumps right or left (+1 or -1) with equal probability. The goal is to find the typical distance from the origin of many random walkers after a given amount of time.\n",
    "\n",
    "*Hint*: create a 2D array where each row represents a walker, and each column represents a time step.\n",
    "\n",
    "  * Take 1000 walkers and let them walk for 200 steps\n",
    "  * Use `randint` to create a 2D array of size $walkers \\times steps$ with values -1 or 1\n",
    "  * Calculate the walking distances for each walker (e.g. by summing the elements in each row)\n",
    "  * Take the square of the previously-obtained array (element-wise)\n",
    "  * Compute the mean of the squared distances at each step (i.e. the mean along the columns)\n",
    "  * **Optional**: plot the average distances ($\\sqrt(distance^2)$) as a function of time (step)"
   ]
  },
  {
   "cell_type": "code",
   "execution_count": null,
   "metadata": {},
   "outputs": [],
   "source": []
  }
 ],
 "metadata": {
  "kernelspec": {
   "display_name": "Python 3 (ipykernel)",
   "language": "python",
   "name": "python3"
  },
  "language_info": {
   "codemirror_mode": {
    "name": "ipython",
    "version": 3
   },
   "file_extension": ".py",
   "mimetype": "text/x-python",
   "name": "python",
   "nbconvert_exporter": "python",
   "pygments_lexer": "ipython3",
   "version": "3.9.12"
  }
 },
 "nbformat": 4,
 "nbformat_minor": 2
}
