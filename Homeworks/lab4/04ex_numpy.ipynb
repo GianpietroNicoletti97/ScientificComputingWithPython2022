{
 "cells": [
  {
   "cell_type": "markdown",
   "metadata": {},
   "source": [
    "Gianpietro Nicoletti <br>\n",
    "ID: 2053042"
   ]
  },
  {
   "cell_type": "markdown",
   "metadata": {},
   "source": [
    "1\\. **Reductions**\n",
    "\n",
    "Find the total mean, and the mean for each row and column of the following matrix:\n",
    "\n",
    "```python\n",
    "m = np.arange(12).reshape((3,4))\n",
    "```"
   ]
  },
  {
   "cell_type": "code",
   "execution_count": 1,
   "metadata": {},
   "outputs": [],
   "source": [
    "import numpy as np\n",
    "import math as mt\n",
    "import matplotlib.pyplot as plt\n",
    "import timeit"
   ]
  },
  {
   "cell_type": "code",
   "execution_count": 2,
   "metadata": {},
   "outputs": [
    {
     "name": "stdout",
     "output_type": "stream",
     "text": [
      "[[ 0  1  2  3]\n",
      " [ 4  5  6  7]\n",
      " [ 8  9 10 11]]\n",
      "\n",
      "Row mean: [1.5 5.5 9.5]\n",
      "\n",
      "Comumn mean: [4. 5. 6. 7.]\n",
      "\n",
      "Total mean: 5.5\n"
     ]
    }
   ],
   "source": [
    "\n",
    "m = np.arange(12).reshape((3,4))\n",
    "\n",
    "row_mean = m.mean(axis = 1)\n",
    "column_mean = m.mean(axis = 0)\n",
    "\n",
    "tot_mean = m.mean()\n",
    "print(m)\n",
    "print(\"\\nRow mean:\", row_mean)\n",
    "print(\"\\nComumn mean:\", column_mean)\n",
    "print(\"\\nTotal mean:\", tot_mean)"
   ]
  },
  {
   "cell_type": "markdown",
   "metadata": {},
   "source": [
    "2\\. **Outer product**\n",
    "\n",
    "Find the outer product of the following vectors:\n",
    "\n",
    "```python\n",
    "u = np.array([1, 3, 5, 7])\n",
    "v = np.array([2, 4, 6, 8])\n",
    "```\n",
    "\n",
    "Use different methods to do this:\n",
    "\n",
    "   1. Using the function `outer` in numpy\n",
    "   2. Using a nested `for` loop or a list comprehension\n",
    "   3. Using numpy broadcasting operations"
   ]
  },
  {
   "cell_type": "code",
   "execution_count": 3,
   "metadata": {},
   "outputs": [
    {
     "name": "stdout",
     "output_type": "stream",
     "text": [
      "u =  [1 3 5 7]\n",
      "\n",
      "v =  [2 4 6 8]\n",
      "Outer product with np.outer\n",
      "\n",
      "[[ 2  4  6  8]\n",
      " [ 6 12 18 24]\n",
      " [10 20 30 40]\n",
      " [14 28 42 56]]\n",
      "\n",
      "Outer product with for loop\n",
      "\n",
      "[[ 2.  4.  6.  8.]\n",
      " [ 6. 12. 18. 24.]\n",
      " [10. 20. 30. 40.]\n",
      " [14. 28. 42. 56.]]\n",
      "\n",
      "Outer product with broadcasting\n",
      "\n",
      "[[ 2  6 10 14]\n",
      " [ 4 12 20 28]\n",
      " [ 6 18 30 42]\n",
      " [ 8 24 40 56]]\n"
     ]
    }
   ],
   "source": [
    "u = np.array([1, 3, 5, 7])\n",
    "v = np.array([2, 4, 6, 8])\n",
    "\n",
    "print(\"u = \",u)\n",
    "print(\"\\nv = \",v)\n",
    "outer_np = np.outer(u,v)\n",
    "\n",
    "print(\"Outer product with np.outer\\n\")\n",
    "print(outer_np)\n",
    "\n",
    "print(\"\\nOuter product with for loop\\n\")\n",
    "\n",
    "outer_for = np.zeros((u.shape[0],v.shape[0]))\n",
    "\n",
    "for i in range(u.shape[0]):\n",
    "    for j in range(v.shape[0]):\n",
    "        outer_for[i][j]=u[i]*v[j]\n",
    "        \n",
    "print(outer_for)\n",
    "print(\"\\nOuter product with broadcasting\\n\")\n",
    "\n",
    "outer_broadcasting = u*v.reshape(v.shape[0],1)\n",
    "\n",
    "print(outer_broadcasting)\n"
   ]
  },
  {
   "cell_type": "markdown",
   "metadata": {},
   "source": [
    "3\\. **Matrix masking**\n",
    "\n",
    "Create a 10 by 6 matrix of float random numbers, distributed between 0 and 3 according to a flat distribution.\n",
    "\n",
    "After creating the matrix, set all entries $< 0.3$ to zero using a mask."
   ]
  },
  {
   "cell_type": "code",
   "execution_count": 4,
   "metadata": {},
   "outputs": [
    {
     "name": "stdout",
     "output_type": "stream",
     "text": [
      "Random matrix\n",
      " [[0.75036472 2.92775709 1.39742342 0.03379294 1.00123796 1.49890878]\n",
      " [0.68663025 0.67065188 2.38078565 0.45651535 1.02224542 1.27306261]\n",
      " [1.76029538 2.43544686 1.46993411 1.16598244 2.49240114 0.23540519]\n",
      " [2.11991698 1.91541778 2.23478541 2.84677227 1.9543504  1.01781815]\n",
      " [1.57533701 2.91125195 2.55033138 2.27175542 0.30080308 1.80352661]\n",
      " [2.75925836 2.96935478 0.11326275 0.22294943 1.39335459 2.47226678]\n",
      " [1.73909515 2.24138338 2.14835667 1.39404411 1.47250202 0.12155573]\n",
      " [2.36589181 0.68065143 2.26472942 0.9369541  1.48137714 1.67204529]\n",
      " [2.27604788 0.93066962 2.09837821 1.36458649 1.71152062 2.73224158]\n",
      " [0.1694923  0.04815511 1.05610726 2.88712896 1.00279595 2.65419198]]\n",
      "\n",
      "\n",
      "Mask for value < 3\n",
      " [[False False False  True False False]\n",
      " [False False False False False False]\n",
      " [False False False False False  True]\n",
      " [False False False False False False]\n",
      " [False False False False False False]\n",
      " [False False  True  True False False]\n",
      " [False False False False False  True]\n",
      " [False False False False False False]\n",
      " [False False False False False False]\n",
      " [ True  True False False False False]]\n",
      "\n",
      "\n",
      "Zero after masking\n",
      " [[0.75036472 2.92775709 1.39742342 0.         1.00123796 1.49890878]\n",
      " [0.68663025 0.67065188 2.38078565 0.45651535 1.02224542 1.27306261]\n",
      " [1.76029538 2.43544686 1.46993411 1.16598244 2.49240114 0.        ]\n",
      " [2.11991698 1.91541778 2.23478541 2.84677227 1.9543504  1.01781815]\n",
      " [1.57533701 2.91125195 2.55033138 2.27175542 0.30080308 1.80352661]\n",
      " [2.75925836 2.96935478 0.         0.         1.39335459 2.47226678]\n",
      " [1.73909515 2.24138338 2.14835667 1.39404411 1.47250202 0.        ]\n",
      " [2.36589181 0.68065143 2.26472942 0.9369541  1.48137714 1.67204529]\n",
      " [2.27604788 0.93066962 2.09837821 1.36458649 1.71152062 2.73224158]\n",
      " [0.         0.         1.05610726 2.88712896 1.00279595 2.65419198]]\n"
     ]
    }
   ],
   "source": [
    "rand = np.random.uniform(0,3,(10,6)) \n",
    "rand_mask = rand < 0.3\n",
    "print(\"Random matrix\\n\",rand)\n",
    "print(\"\\n\\nMask for value < 3\\n\",rand_mask)\n",
    "\n",
    "rand[rand_mask] = 0\n",
    "print(\"\\n\\nZero after masking\\n\",rand)"
   ]
  },
  {
   "cell_type": "markdown",
   "metadata": {},
   "source": [
    "4\\. **Trigonometric functions**\n",
    "\n",
    "Use `np.linspace` to create an array of 100 numbers between $0$ and $2\\pi$ (inclusive).\n",
    "\n",
    "  * Extract every 10th element using the slice notation\n",
    "  * Reverse the array using the slice notation\n",
    "  * Extract elements where the absolute difference between the `sin` and `cos` functions evaluated for that element is $< 0.1$\n",
    "  * **Optional**: make a plot showing the sin and cos functions and indicate where they are close"
   ]
  },
  {
   "cell_type": "code",
   "execution_count": 5,
   "metadata": {},
   "outputs": [
    {
     "name": "stdout",
     "output_type": "stream",
     "text": [
      "Vector:\n",
      " [0.         0.06346652 0.12693304 0.19039955 0.25386607 0.31733259\n",
      " 0.38079911 0.44426563 0.50773215 0.57119866 0.63466518 0.6981317\n",
      " 0.76159822 0.82506474 0.88853126 0.95199777 1.01546429 1.07893081\n",
      " 1.14239733 1.20586385 1.26933037 1.33279688 1.3962634  1.45972992\n",
      " 1.52319644 1.58666296 1.65012947 1.71359599 1.77706251 1.84052903\n",
      " 1.90399555 1.96746207 2.03092858 2.0943951  2.15786162 2.22132814\n",
      " 2.28479466 2.34826118 2.41172769 2.47519421 2.53866073 2.60212725\n",
      " 2.66559377 2.72906028 2.7925268  2.85599332 2.91945984 2.98292636\n",
      " 3.04639288 3.10985939 3.17332591 3.23679243 3.30025895 3.36372547\n",
      " 3.42719199 3.4906585  3.55412502 3.61759154 3.68105806 3.74452458\n",
      " 3.8079911  3.87145761 3.93492413 3.99839065 4.06185717 4.12532369\n",
      " 4.1887902  4.25225672 4.31572324 4.37918976 4.44265628 4.5061228\n",
      " 4.56958931 4.63305583 4.69652235 4.75998887 4.82345539 4.88692191\n",
      " 4.95038842 5.01385494 5.07732146 5.14078798 5.2042545  5.26772102\n",
      " 5.33118753 5.39465405 5.45812057 5.52158709 5.58505361 5.64852012\n",
      " 5.71198664 5.77545316 5.83891968 5.9023862  5.96585272 6.02931923\n",
      " 6.09278575 6.15625227 6.21971879 6.28318531]\n",
      "\n",
      "\n",
      "Vector every ten element:\n",
      " [0.         0.63466518 1.26933037 1.90399555 2.53866073 3.17332591\n",
      " 3.8079911  4.44265628 5.07732146 5.71198664]\n",
      "\n",
      "\n",
      "Vector reversed:\n",
      " [6.28318531 6.21971879 6.15625227 6.09278575 6.02931923 5.96585272\n",
      " 5.9023862  5.83891968 5.77545316 5.71198664 5.64852012 5.58505361\n",
      " 5.52158709 5.45812057 5.39465405 5.33118753 5.26772102 5.2042545\n",
      " 5.14078798 5.07732146 5.01385494 4.95038842 4.88692191 4.82345539\n",
      " 4.75998887 4.69652235 4.63305583 4.56958931 4.5061228  4.44265628\n",
      " 4.37918976 4.31572324 4.25225672 4.1887902  4.12532369 4.06185717\n",
      " 3.99839065 3.93492413 3.87145761 3.8079911  3.74452458 3.68105806\n",
      " 3.61759154 3.55412502 3.4906585  3.42719199 3.36372547 3.30025895\n",
      " 3.23679243 3.17332591 3.10985939 3.04639288 2.98292636 2.91945984\n",
      " 2.85599332 2.7925268  2.72906028 2.66559377 2.60212725 2.53866073\n",
      " 2.47519421 2.41172769 2.34826118 2.28479466 2.22132814 2.15786162\n",
      " 2.0943951  2.03092858 1.96746207 1.90399555 1.84052903 1.77706251\n",
      " 1.71359599 1.65012947 1.58666296 1.52319644 1.45972992 1.3962634\n",
      " 1.33279688 1.26933037 1.20586385 1.14239733 1.07893081 1.01546429\n",
      " 0.95199777 0.88853126 0.82506474 0.76159822 0.6981317  0.63466518\n",
      " 0.57119866 0.50773215 0.44426563 0.38079911 0.31733259 0.25386607\n",
      " 0.19039955 0.12693304 0.06346652 0.        ]\n",
      "\n",
      "\n",
      "Vector with condition:\n",
      " [0.76159822 0.82506474 3.87145761 3.93492413]\n"
     ]
    },
    {
     "data": {
      "image/png": "[encoded data removed]",
      "text/plain": [
       "<Figure size 432x288 with 1 Axes>"
      ]
     },
     "metadata": {
      "needs_background": "light"
     },
     "output_type": "display_data"
    }
   ],
   "source": [
    "\n",
    "vect = np.linspace(0,2*mt.pi,100)\n",
    "\n",
    "print(\"Vector:\\n\",vect)\n",
    "\n",
    "print(\"\\n\\nVector every ten element:\\n\",vect[0:100:10])\n",
    "\n",
    "print(\"\\n\\nVector reversed:\\n\", vect[::-1])\n",
    "\n",
    "print(\"\\n\\nVector with condition:\\n\", vect[abs(np.sin(vect)-np.cos(vect))<0.1])\n",
    "\n",
    "plt.plot(np.sin(vect))\n",
    "plt.plot(np.cos(vect))\n",
    "\n",
    "plt.show()"
   ]
  },
  {
   "cell_type": "markdown",
   "metadata": {},
   "source": [
    "5\\. **Matrices**\n",
    "\n",
    "Create a matrix that shows the 10 by 10 multiplication table.\n",
    "\n",
    " * Find the trace of the matrix\n",
    " * Extract the anti-diagonal matrix (this should be ```array([10, 18, 24, 28, 30, 30, 28, 24, 18, 10])```)\n",
    " * Extract the diagonal offset by 1 upwards (this should be ```array([ 2,  6, 12, 20, 30, 42, 56, 72, 90])```)"
   ]
  },
  {
   "cell_type": "code",
   "execution_count": 6,
   "metadata": {},
   "outputs": [
    {
     "name": "stdout",
     "output_type": "stream",
     "text": [
      "[[  1   2   3   4   5   6   7   8   9  10]\n",
      " [  2   4   6   8  10  12  14  16  18  20]\n",
      " [  3   6   9  12  15  18  21  24  27  30]\n",
      " [  4   8  12  16  20  24  28  32  36  40]\n",
      " [  5  10  15  20  25  30  35  40  45  50]\n",
      " [  6  12  18  24  30  36  42  48  54  60]\n",
      " [  7  14  21  28  35  42  49  56  63  70]\n",
      " [  8  16  24  32  40  48  56  64  72  80]\n",
      " [  9  18  27  36  45  54  63  72  81  90]\n",
      " [ 10  20  30  40  50  60  70  80  90 100]]\n",
      "Trace:  385\n",
      "\n",
      "\n",
      "Antidiagonal:  [10 18 24 28 30 30 28 24 18 10]\n"
     ]
    }
   ],
   "source": [
    "ten_matrix = np.arange(1,11)*np.arange(1,11).reshape(10,1)\n",
    "\n",
    "print(ten_matrix)\n",
    "\n",
    "print(\"Trace: \", ten_matrix.trace())\n",
    "\n",
    "print(\"\\n\\nAntidiagonal: \", np.flip(ten_matrix,axis=0).diagonal())"
   ]
  },
  {
   "cell_type": "markdown",
   "metadata": {},
   "source": [
    "6\\. **Broadcasting**\n",
    "\n",
    "Use broadcasting to create a grid of distances.\n",
    "\n",
    "Route 66 crosses the following cities in the US: Chicago, Springfield, Saint-Louis, Tulsa, Oklahoma City, Amarillo, Santa Fe, Albuquerque, Flagstaff, Los Angeles.\n",
    "\n",
    "The corresponding positions in miles are: 0, 198, 303, 736, 871, 1175, 1475, 1544, 1913, 2448\n",
    "\n",
    "  * Build a 2D grid of distances among each city along Route 66\n",
    "  * Convert the distances in km"
   ]
  },
  {
   "cell_type": "code",
   "execution_count": 49,
   "metadata": {},
   "outputs": [
    {
     "name": "stdout",
     "output_type": "stream",
     "text": [
      "Distances in miles:\n",
      " [   0  198  303  736  871 1175 1475 1544 1913 2448]\n",
      "\n",
      "\n",
      "Distances grid in miles:\n",
      " [[   0.  198.  303.  736.  871. 1175. 1475. 1544. 1913. 2448.]\n",
      " [ 198.    0.  105.  538.  673.  977. 1277. 1346. 1715. 2250.]\n",
      " [ 303.  105.    0.  433.  568.  872. 1172. 1241. 1610. 2145.]\n",
      " [ 736.  538.  433.    0.  135.  439.  739.  808. 1177. 1712.]\n",
      " [ 871.  673.  568.  135.    0.  304.  604.  673. 1042. 1577.]\n",
      " [1175.  977.  872.  439.  304.    0.  300.  369.  738. 1273.]\n",
      " [1475. 1277. 1172.  739.  604.  300.    0.   69.  438.  973.]\n",
      " [1544. 1346. 1241.  808.  673.  369.   69.    0.  369.  904.]\n",
      " [1913. 1715. 1610. 1177. 1042.  738.  438.  369.    0.  535.]\n",
      " [2448. 2250. 2145. 1712. 1577. 1273.  973.  904.  535.    0.]]\n",
      "\n",
      "\n",
      "Distances grid in km:\n",
      " [[   0.          318.65021058  487.63138286 1184.47755045 1401.73905766\n",
      "  1890.97978502 2373.78313439 2484.82790475 3078.67602447 3939.67533084]\n",
      " [ 318.65021058    0.          168.98117228  865.82733987 1083.08884708\n",
      "  1572.32957444 2055.13292381 2166.17769416 2760.02581389 3621.02512026]\n",
      " [ 487.63138286  168.98117228    0.          696.84616759  914.1076748\n",
      "  1403.34840216 1886.15175153 1997.19652188 2591.04464161 3452.04394798]\n",
      " [1184.47755045  865.82733987  696.84616759    0.          217.26150722\n",
      "   706.50223457 1189.30558394 1300.3503543  1894.19847402 2755.19778039]\n",
      " [1401.73905766 1083.08884708  914.1076748   217.26150722    0.\n",
      "   489.24072736  972.04407673 1083.08884708 1676.9369668  2537.93627318]\n",
      " [1890.97978502 1572.32957444 1403.34840216  706.50223457  489.24072736\n",
      "     0.          482.80334937  593.84811972 1187.69623944 2048.69554582]\n",
      " [2373.78313439 2055.13292381 1886.15175153 1189.30558394  972.04407673\n",
      "   482.80334937    0.          111.04477035  704.89289008 1565.89219645]\n",
      " [2484.82790475 2166.17769416 1997.19652188 1300.3503543  1083.08884708\n",
      "   593.84811972  111.04477035    0.          593.84811972 1454.84742609]\n",
      " [3078.67602447 2760.02581389 2591.04464161 1894.19847402 1676.9369668\n",
      "  1187.69623944  704.89289008  593.84811972    0.          860.99930637]\n",
      " [3939.67533084 3621.02512026 3452.04394798 2755.19778039 2537.93627318\n",
      "  2048.69554582 1565.89219645 1454.84742609  860.99930637    0.        ]]\n"
     ]
    }
   ],
   "source": [
    "distances = np.array([0,198,303,736,871,1175,1475,1544,1913,2448])\n",
    "\n",
    "print(\"Distances in miles:\\n\",distances)\n",
    "\n",
    "tmp = distances*np.ones((10,10))\n",
    "\n",
    "dist_grid = np.absolute((tmp - distances.reshape((10,1))))\n",
    "\n",
    "print(\"\\n\\nDistances grid in miles:\\n\",dist_grid)\n",
    "\n",
    "      \n",
    "print(\"\\n\\nDistances grid in km:\\n\",dist_grid/0.621371)"
   ]
  },
  {
   "cell_type": "markdown",
   "metadata": {},
   "source": [
    "7\\. **Prime numbers sieve**\n",
    "\n",
    "Compute the prime numbers in the 0-N (start with N=99) range with a sieve (mask).\n",
    "\n",
    "  * Constract a shape (N,) boolean array, which is the mask\n",
    "  * Identify the multiples of each number starting from 2 and set accordingly the corresponding mask element\n",
    "  * Apply the mask to obtain an array of ordered prime numbers\n",
    "  * Check the performances (with `timeit`); how does it scale with N?\n",
    "  * Implement the optimization suggested in the [sieve of Eratosthenes](https://en.wikipedia.org/wiki/Sieve_of_Eratosthenes)"
   ]
  },
  {
   "cell_type": "code",
   "execution_count": 26,
   "metadata": {},
   "outputs": [],
   "source": [
    "def primeNumbers(N):\n",
    "    \n",
    "    if (N <= 1):\n",
    "        return np.array(0)\n",
    "    \n",
    "    N = N + 1 #i need to consider one number more than the maximum value requested in the below code\n",
    "    \n",
    "    numbers = np.arange(0,N)\n",
    "\n",
    "    mask = np.ones(N,dtype=bool) #suppose all prime number\n",
    "\n",
    "    mask[0],mask[1] = False, False #except 0 and 1\n",
    "\n",
    "    i=2 #start from 2\n",
    "    \n",
    "    while(i<N):\n",
    "\n",
    "        if(mask[i] == False): #not a prime number -> we can not use to check the next numbers\n",
    "            i+=1 #next index\n",
    "            continue #skip iteration\n",
    "\n",
    "        j = i + 1 #start from the next number\n",
    "\n",
    "        while(j<N): \n",
    "\n",
    "            if(mask[j] == True and numbers[j]%numbers[i]==0):#if it is not a multiple of the previous number \n",
    "                                                             #already check (-> possible prime number)\n",
    "                                                             # and it is a multiple of the current prime number\n",
    "\n",
    "                mask[j] = False #it is not a prime number \n",
    "\n",
    "\n",
    "            j +=1\n",
    "\n",
    "            #else mask[j]==False it is a position of a number multiple of a prime number seen before\n",
    "\n",
    "        i+=1 #next index\n",
    "        \n",
    "    return numbers[mask] \n",
    "\n",
    "   \n",
    "\n"
   ]
  },
  {
   "cell_type": "code",
   "execution_count": 36,
   "metadata": {},
   "outputs": [
    {
     "name": "stdout",
     "output_type": "stream",
     "text": [
      "Prime numbers in 0-99 are:\n",
      " [ 2  3  5  7 11 13 17 19 23 29 31 37 41 43 47 53 59 61 67 71 73 79 83 89\n",
      " 97] \n",
      " computed in: 0.0016315709999616956 seconds\n"
     ]
    },
    {
     "data": {
      "image/png": "[encoded data removed]",
      "text/plain": [
       "<Figure size 432x288 with 1 Axes>"
      ]
     },
     "metadata": {
      "needs_background": "light"
     },
     "output_type": "display_data"
    }
   ],
   "source": [
    "start = timeit.default_timer()\n",
    "  \n",
    "results = primeNumbers(99)\n",
    "        \n",
    "end = timeit.default_timer() \n",
    "    \n",
    "print(\"Prime numbers in 0-99 are:\\n\", results,\"\\n computed in:\",end-start,\"seconds\")\n",
    "\n",
    "maximum = []\n",
    "time = []\n",
    "\n",
    "for N in range(500):\n",
    "    \n",
    "    maximum.append(N)\n",
    "    start = timeit.default_timer()\n",
    "    results = primeNumbers(N)\n",
    "    end = timeit.default_timer() \n",
    "    \n",
    "    time.append(end-start)\n",
    "    \n",
    "\n",
    "plt.plot(maximum,time)\n",
    "plt.title(\"Prime numbers\")\n",
    "plt.xlabel(\"N\")\n",
    "plt.ylabel(\"Time[s]\")\n",
    "plt.show()    "
   ]
  },
  {
   "cell_type": "code",
   "execution_count": 38,
   "metadata": {},
   "outputs": [],
   "source": [
    "def primeNumbers2(N):\n",
    "    \n",
    "    #initialization as before\n",
    "    N = N + 1 \n",
    "    mask = np.ones(100, dtype=bool)\n",
    "    numbers = np.arange(0,100)\n",
    "\n",
    "    mask[0] = False\n",
    "    mask[1] = False\n",
    "\n",
    "    #the implementation follows the pseudo code in the wikipedia page\n",
    "    for i in range(2,int(mt.sqrt(99))):\n",
    "\n",
    "        if mask[i] == True:\n",
    "\n",
    "            j = i**2\n",
    "            while j<=99:\n",
    "\n",
    "                mask[j] = False\n",
    "                j+=i\n",
    "    \n",
    "    return numbers[mask]   "
   ]
  },
  {
   "cell_type": "code",
   "execution_count": 39,
   "metadata": {},
   "outputs": [
    {
     "name": "stdout",
     "output_type": "stream",
     "text": [
      "Prime numbers in 0-99 (computed with the optimized method) are:\n",
      " [ 2  3  5  7 11 13 17 19 23 29 31 37 41 43 47 53 59 61 67 71 73 79 83 89\n",
      " 97] \n",
      " computed in: 0.000260440000147355 seconds\n"
     ]
    },
    {
     "data": {
      "image/png": "[encoded data removed]",
      "text/plain": [
       "<Figure size 432x288 with 1 Axes>"
      ]
     },
     "metadata": {
      "needs_background": "light"
     },
     "output_type": "display_data"
    }
   ],
   "source": [
    "start = timeit.default_timer()\n",
    "  \n",
    "results = primeNumbers2(99)\n",
    "        \n",
    "end = timeit.default_timer() \n",
    "    \n",
    "print(\"Prime numbers in 0-99 (computed with the optimized method) are:\\n\", results,\"\\n computed in:\",end-start,\"seconds\")\n",
    "\n",
    "maximum = []\n",
    "time = []\n",
    "\n",
    "for N in range(500):\n",
    "    \n",
    "    maximum.append(N)\n",
    "    start = timeit.default_timer()\n",
    "    results = primeNumbers2(N)\n",
    "    end = timeit.default_timer() \n",
    "    \n",
    "    time.append(end-start)\n",
    "    \n",
    "\n",
    "plt.plot(maximum,time)\n",
    "plt.title(\"Prime numbers with optimized method\")\n",
    "plt.xlabel(\"N\")\n",
    "plt.ylabel(\"Time[s]\")\n",
    "plt.show()"
   ]
  },
  {
   "cell_type": "markdown",
   "metadata": {},
   "source": [
    "8\\. **Diffusion using random walk**\n",
    "\n",
    "Consider a simple random walk process: at each step in time, a walker jumps right or left (+1 or -1) with equal probability. The goal is to find the typical distance from the origin of many random walkers after a given amount of time.\n",
    "\n",
    "*Hint*: create a 2D array where each row represents a walker, and each column represents a time step.\n",
    "\n",
    "  * Take 1000 walkers and let them walk for 200 steps\n",
    "  * Use `randint` to create a 2D array of size $walkers \\times steps$ with values -1 or 1\n",
    "  * Calculate the walking distances for each walker (e.g. by summing the elements in each row)\n",
    "  * Take the square of the previously-obtained array (element-wise)\n",
    "  * Compute the mean of the squared distances at each step (i.e. the mean along the columns)\n",
    "  * **Optional**: plot the average distances ($\\sqrt(distance^2)$) as a function of time (step)"
   ]
  },
  {
   "cell_type": "code",
   "execution_count": 56,
   "metadata": {},
   "outputs": [
    {
     "name": "stdout",
     "output_type": "stream",
     "text": [
      "Random walk matrix:\n",
      " [[ 1 -1  1 ... -1 -1 -1]\n",
      " [-1  1  1 ... -1  1 -1]\n",
      " [-1  1 -1 ... -1 -1 -1]\n",
      " ...\n",
      " [-1  1 -1 ...  1 -1 -1]\n",
      " [ 1 -1  1 ...  1  1  1]\n",
      " [-1  1  1 ... -1  1  1]]\n",
      "\n",
      "\n",
      "Distance for each walker:\n",
      " [-12  10  -8  14   2  -4 -34   2 -22 -14 -20  10  10 -18 -14  12  12   0\n",
      "  12 -24 -10 -24  10  10 -36  -4   0   0   2  14  10  12  -6   0 -10  -4\n",
      "  -6  10   0 -10  10 -10  12  10  -4 -20 -22  -2  -8 -14  -6 -12  12  -6\n",
      "  -4  -2 -28  26  14 -14  18  14 -28  18  -8 -12  -2 -28 -26   4  24   2\n",
      "  16 -24  24  20 -18 -22  -6  18 -34 -24   6   8  -4  -2  -6  28  -4 -24\n",
      " -16  24   0  -6   2  12   0  18 -16  14 -10  -4 -32   8  20 -10  -4  16\n",
      "  -6  -4  10  -2  18   2  -8   6  -6   0  18 -10   6  -8   6  -8 -26  -8\n",
      " -14   4   4   8  30 -12 -16  -4 -10 -12   0 -18  -6   2  14  -2 -14  12\n",
      "  -6  -2 -22 -14   8   4  16  16 -28 -22  -8  18  14   6  14 -28   8  22\n",
      " -16  -4  -8 -16 -10   8   4   0 -12 -22   0  -4   4  12   2  -6 -16 -26\n",
      "  12  12 -16   2  12 -12  10   4 -14 -10  14 -32   0  -8  -6 -18   4   8\n",
      "  14  18  24  22  -8 -30  12 -10   4  -4   6   2   2   6  12 -18  -8  22\n",
      "   4  -2  -8  -6 -28  12  -4   4  10  -6  22  12 -24 -10  -4  14 -18 -28\n",
      "  26 -14   2   0   6 -12   6   2  28 -14  18 -12   8 -14  10  14   4  -2\n",
      "  20  20   6   2  12   2  40  10   8 -18   8  26  -4  -6  22  16 -12 -12\n",
      "  10 -16  18  16 -20  10  12   0  12   6 -16  -8 -20  10 -10  10 -14  -4\n",
      "  32  18   8   2  12  -2 -14  -8 -20   6 -20  16   0  12   6  10   2  18\n",
      "  -8  18   6 -10  28   4  -4   0 -16   8  14   0  14  -4  10  40  22   4\n",
      " -14   2 -34 -16  14  -4 -18 -20  18   2   0  12   4  12  -4   8 -20  -2\n",
      "  26 -20   2 -26 -32  -6   4  12   8 -22   4 -18   6   8  -2 -12  18   8\n",
      " -28  12  32   2 -20   6 -10  -8   0   0 -30   8  16 -28  -2   6  10   0\n",
      "  -4   0   2 -10 -12  16   6  18   2 -12 -20 -14   6  20   2   6  26  16\n",
      " -38 -22 -22  -2  14   4  16   2  -8 -24 -12   4   0  -4  10  24 -12 -26\n",
      " -18   6   6  -4   4   6 -46   2   6 -16   0 -22 -12  20 -10 -24  -2  -6\n",
      "  32 -12  30  10  16   4   8  12  -2  14  18  14   2  22  22 -16 -10  14\n",
      "   4   0  -4 -16   2   4 -18   6   8   2  -8 -12  -8  14  18   8  12   4\n",
      "  18   0  -4 -14   0  -2  10 -22   8  20  30   8 -22 -38  18 -18  -6 -14\n",
      "  24  -4  14  22  12   8  16   4  -2   8   4 -20   0   6   2  12 -24 -20\n",
      "  16  16  -8  -8 -14  28   6  16 -12   2  24 -22  -4  10 -14   0  18   4\n",
      " -16  26   4   4 -28 -20  -8   4 -14 -16 -12 -18 -14  -6   0 -18  -4   8\n",
      "   0  -8  22  10  24   4   4  -4   0   6  -8   8   8  38   6  28  14  32\n",
      " -22   0 -28  10   8  28  -2  -8  -4 -18 -12   8   4  -8  10 -10   0   4\n",
      " -14   0   8   4  -8   8   8  -8 -22  36  12   0  -6   8   0 -30  12  10\n",
      "  -6  28   2   4 -12  10 -20   2 -18 -14  -4  14   0 -12   8  12 -20  14\n",
      " -16  12  -4   0   4  14   8  -6  18   2  16   2  -8   0  -4  -4 -20 -10\n",
      "  12   4 -20   2  32  12 -12  -4   2  -8 -24  -8  -6  -2   6  10   4 -12\n",
      " -16  24  -2 -14   8   0   2 -16   6  36 -24 -10   6   6   2  26  16 -12\n",
      "   4  -8 -12  -2  -8  -4  -8  -8  -6   0 -20  14  -2 -20  -2   0 -26  14\n",
      "  24 -12 -12 -14 -10   4  24 -38   6  16  22 -24 -12  -4  -2 -22  14   6\n",
      "   4  -8 -18   4 -14  24   2   4   6  -8   6   0  18 -16  -8 -16 -16  16\n",
      " -10   6 -10   6  10  -4  -8 -16   0   0 -14 -10  10   4   6  10  -6 -22\n",
      " -16  14  -4 -12  12 -34  -8 -10  24 -22  16 -10 -14  26  36   8   4  -6\n",
      "  16  -6   0  -4   0 -20  10   6  30  22   6 -10  -4 -18   2   4   0 -22\n",
      " -36  28  14 -14  18 -14 -14 -16   6  -2  -2   2   8   4  -8  -8  18  12\n",
      "   8 -28   4  12  -6  -4  26  -4 -26  -2   2  -2  -6  16 -20  10 -26   4\n",
      "  28 -10  -4  32 -16 -16 -28  -2   4  14   2  18 -32  -8  -6  10  -4  -6\n",
      "  -2  14  -8 -24 -36   8  14   4  12 -18  22 -26  26  14  12 -34  -8  -8\n",
      " -38 -22   6   4  -2  -4  20   6 -12  -2 -20  -4  22 -18 -18   8  12   2\n",
      "  28   2 -14  22 -12  -6   6   8  -4  -8   0  16  -6  14  -4 -24  -6 -10\n",
      "  -2  12  26 -10   8  20   0  22 -14   0   2   2 -12   0  32   6  14  16\n",
      " -12   4 -14  10  -2  24 -20 -26 -18 -12   4   0  -8  24  -8   0  18  12\n",
      " -10   4  -4  20 -10  16   2 -20  -6  22 -18  16  22 -16 -22  -2  -4  -4\n",
      "  -8   8   8  12  -8 -12   8  -6   0  22 -20  14  -6   2   0   6 -14 -18\n",
      " -12 -10  14 -22   2 -32  12   4   8 -20 -20   4  -6  -6   4   2  12   6\n",
      "  -2  -4  28  -6   6 -10  -2  10  16  10 -16   0  -2   2  -8 -10 -14  -2\n",
      "  26  12  20   0  14  10  -8 -10 -16   2]\n",
      "\n",
      "\n",
      "Square distance for each walker:\n",
      " [ 144  100   64  196    4   16 1156    4  484  196  400  100  100  324\n",
      "  196  144  144    0  144  576  100  576  100  100 1296   16    0    0\n",
      "    4  196  100  144   36    0  100   16   36  100    0  100  100  100\n",
      "  144  100   16  400  484    4   64  196   36  144  144   36   16    4\n",
      "  784  676  196  196  324  196  784  324   64  144    4  784  676   16\n",
      "  576    4  256  576  576  400  324  484   36  324 1156  576   36   64\n",
      "   16    4   36  784   16  576  256  576    0   36    4  144    0  324\n",
      "  256  196  100   16 1024   64  400  100   16  256   36   16  100    4\n",
      "  324    4   64   36   36    0  324  100   36   64   36   64  676   64\n",
      "  196   16   16   64  900  144  256   16  100  144    0  324   36    4\n",
      "  196    4  196  144   36    4  484  196   64   16  256  256  784  484\n",
      "   64  324  196   36  196  784   64  484  256   16   64  256  100   64\n",
      "   16    0  144  484    0   16   16  144    4   36  256  676  144  144\n",
      "  256    4  144  144  100   16  196  100  196 1024    0   64   36  324\n",
      "   16   64  196  324  576  484   64  900  144  100   16   16   36    4\n",
      "    4   36  144  324   64  484   16    4   64   36  784  144   16   16\n",
      "  100   36  484  144  576  100   16  196  324  784  676  196    4    0\n",
      "   36  144   36    4  784  196  324  144   64  196  100  196   16    4\n",
      "  400  400   36    4  144    4 1600  100   64  324   64  676   16   36\n",
      "  484  256  144  144  100  256  324  256  400  100  144    0  144   36\n",
      "  256   64  400  100  100  100  196   16 1024  324   64    4  144    4\n",
      "  196   64  400   36  400  256    0  144   36  100    4  324   64  324\n",
      "   36  100  784   16   16    0  256   64  196    0  196   16  100 1600\n",
      "  484   16  196    4 1156  256  196   16  324  400  324    4    0  144\n",
      "   16  144   16   64  400    4  676  400    4  676 1024   36   16  144\n",
      "   64  484   16  324   36   64    4  144  324   64  784  144 1024    4\n",
      "  400   36  100   64    0    0  900   64  256  784    4   36  100    0\n",
      "   16    0    4  100  144  256   36  324    4  144  400  196   36  400\n",
      "    4   36  676  256 1444  484  484    4  196   16  256    4   64  576\n",
      "  144   16    0   16  100  576  144  676  324   36   36   16   16   36\n",
      " 2116    4   36  256    0  484  144  400  100  576    4   36 1024  144\n",
      "  900  100  256   16   64  144    4  196  324  196    4  484  484  256\n",
      "  100  196   16    0   16  256    4   16  324   36   64    4   64  144\n",
      "   64  196  324   64  144   16  324    0   16  196    0    4  100  484\n",
      "   64  400  900   64  484 1444  324  324   36  196  576   16  196  484\n",
      "  144   64  256   16    4   64   16  400    0   36    4  144  576  400\n",
      "  256  256   64   64  196  784   36  256  144    4  576  484   16  100\n",
      "  196    0  324   16  256  676   16   16  784  400   64   16  196  256\n",
      "  144  324  196   36    0  324   16   64    0   64  484  100  576   16\n",
      "   16   16    0   36   64   64   64 1444   36  784  196 1024  484    0\n",
      "  784  100   64  784    4   64   16  324  144   64   16   64  100  100\n",
      "    0   16  196    0   64   16   64   64   64   64  484 1296  144    0\n",
      "   36   64    0  900  144  100   36  784    4   16  144  100  400    4\n",
      "  324  196   16  196    0  144   64  144  400  196  256  144   16    0\n",
      "   16  196   64   36  324    4  256    4   64    0   16   16  400  100\n",
      "  144   16  400    4 1024  144  144   16    4   64  576   64   36    4\n",
      "   36  100   16  144  256  576    4  196   64    0    4  256   36 1296\n",
      "  576  100   36   36    4  676  256  144   16   64  144    4   64   16\n",
      "   64   64   36    0  400  196    4  400    4    0  676  196  576  144\n",
      "  144  196  100   16  576 1444   36  256  484  576  144   16    4  484\n",
      "  196   36   16   64  324   16  196  576    4   16   36   64   36    0\n",
      "  324  256   64  256  256  256  100   36  100   36  100   16   64  256\n",
      "    0    0  196  100  100   16   36  100   36  484  256  196   16  144\n",
      "  144 1156   64  100  576  484  256  100  196  676 1296   64   16   36\n",
      "  256   36    0   16    0  400  100   36  900  484   36  100   16  324\n",
      "    4   16    0  484 1296  784  196  196  324  196  196  256   36    4\n",
      "    4    4   64   16   64   64  324  144   64  784   16  144   36   16\n",
      "  676   16  676    4    4    4   36  256  400  100  676   16  784  100\n",
      "   16 1024  256  256  784    4   16  196    4  324 1024   64   36  100\n",
      "   16   36    4  196   64  576 1296   64  196   16  144  324  484  676\n",
      "  676  196  144 1156   64   64 1444  484   36   16    4   16  400   36\n",
      "  144    4  400   16  484  324  324   64  144    4  784    4  196  484\n",
      "  144   36   36   64   16   64    0  256   36  196   16  576   36  100\n",
      "    4  144  676  100   64  400    0  484  196    0    4    4  144    0\n",
      " 1024   36  196  256  144   16  196  100    4  576  400  676  324  144\n",
      "   16    0   64  576   64    0  324  144  100   16   16  400  100  256\n",
      "    4  400   36  484  324  256  484  256  484    4   16   16   64   64\n",
      "   64  144   64  144   64   36    0  484  400  196   36    4    0   36\n",
      "  196  324  144  100  196  484    4 1024  144   16   64  400  400   16\n",
      "   36   36   16    4  144   36    4   16  784   36   36  100    4  100\n",
      "  256  100  256    0    4    4   64  100  196    4  676  144  400    0\n",
      "  196  100   64  100  256    4]\n",
      "\n",
      "\n",
      "Mean for each time stamp:\n",
      " -0.3\n"
     ]
    },
    {
     "ename": "AttributeError",
     "evalue": "module 'numpy' has no attribute 'arrange'",
     "output_type": "error",
     "traceback": [
      "\u001b[0;31m---------------------------------------------------------------------------\u001b[0m",
      "\u001b[0;31mAttributeError\u001b[0m                            Traceback (most recent call last)",
      "Input \u001b[0;32mIn [56]\u001b[0m, in \u001b[0;36m<cell line: 14>\u001b[0;34m()\u001b[0m\n\u001b[1;32m     10\u001b[0m mean_steps \u001b[38;5;241m=\u001b[39m distances\u001b[38;5;241m.\u001b[39mmean(axis \u001b[38;5;241m=\u001b[39m \u001b[38;5;241m0\u001b[39m)\n\u001b[1;32m     11\u001b[0m \u001b[38;5;28mprint\u001b[39m(\u001b[38;5;124m\"\u001b[39m\u001b[38;5;130;01m\\n\u001b[39;00m\u001b[38;5;130;01m\\n\u001b[39;00m\u001b[38;5;124mMean for each time stamp:\u001b[39m\u001b[38;5;130;01m\\n\u001b[39;00m\u001b[38;5;124m\"\u001b[39m, mean_steps)\n\u001b[0;32m---> 14\u001b[0m time_stamp \u001b[38;5;241m=\u001b[39m \u001b[43mnp\u001b[49m\u001b[38;5;241;43m.\u001b[39;49m\u001b[43marrange\u001b[49m(\u001b[38;5;241m1\u001b[39m,\u001b[38;5;241m201\u001b[39m)\n",
      "File \u001b[0;32m~/anaconda3/lib/python3.9/site-packages/numpy/__init__.py:313\u001b[0m, in \u001b[0;36m__getattr__\u001b[0;34m(attr)\u001b[0m\n\u001b[1;32m    310\u001b[0m     \u001b[38;5;28;01mfrom\u001b[39;00m \u001b[38;5;21;01m.\u001b[39;00m\u001b[38;5;21;01mtesting\u001b[39;00m \u001b[38;5;28;01mimport\u001b[39;00m Tester\n\u001b[1;32m    311\u001b[0m     \u001b[38;5;28;01mreturn\u001b[39;00m Tester\n\u001b[0;32m--> 313\u001b[0m \u001b[38;5;28;01mraise\u001b[39;00m \u001b[38;5;167;01mAttributeError\u001b[39;00m(\u001b[38;5;124m\"\u001b[39m\u001b[38;5;124mmodule \u001b[39m\u001b[38;5;132;01m{!r}\u001b[39;00m\u001b[38;5;124m has no attribute \u001b[39m\u001b[38;5;124m\"\u001b[39m\n\u001b[1;32m    314\u001b[0m                      \u001b[38;5;124m\"\u001b[39m\u001b[38;5;132;01m{!r}\u001b[39;00m\u001b[38;5;124m\"\u001b[39m\u001b[38;5;241m.\u001b[39mformat(\u001b[38;5;18m__name__\u001b[39m, attr))\n",
      "\u001b[0;31mAttributeError\u001b[0m: module 'numpy' has no attribute 'arrange'"
     ]
    }
   ],
   "source": [
    "random_walk = np.random.choice(np.array([1,-1]),(1000,200)) #np.random.randint(-1,2,(1000,200)) includes also the 0 \n",
    "print(\"Random walk matrix:\\n\",random_walk)\n",
    "\n",
    "distances = random_walk.sum(axis = 1)\n",
    "print(\"\\n\\nDistance for each walker:\\n\",distances)\n",
    "\n",
    "d_square = np.square(distances)\n",
    "print(\"\\n\\nSquare distance for each walker:\\n\",d_square)\n",
    "\n",
    "mean_steps = distances.mean(axis = 0)\n",
    "print(\"\\n\\nMean for each time stamp:\\n\", mean_steps)\n"
   ]
  },
  {
   "cell_type": "raw",
   "metadata": {},
   "source": []
  }
 ],
 "metadata": {
  "kernelspec": {
   "display_name": "Python 3 (ipykernel)",
   "language": "python",
   "name": "python3"
  },
  "language_info": {
   "codemirror_mode": {
    "name": "ipython",
    "version": 3
   },
   "file_extension": ".py",
   "mimetype": "text/x-python",
   "name": "python",
   "nbconvert_exporter": "python",
   "pygments_lexer": "ipython3",
   "version": "3.9.12"
  }
 },
 "nbformat": 4,
 "nbformat_minor": 2
}
