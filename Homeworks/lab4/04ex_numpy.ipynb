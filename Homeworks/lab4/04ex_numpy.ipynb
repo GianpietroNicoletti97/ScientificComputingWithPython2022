{
 "cells": [
  {
   "cell_type": "markdown",
   "metadata": {},
   "source": [
    "**Name-Surname:** Gianpietro Nicoletti <br>\n",
    "**ID**: 2053042"
   ]
  },
  {
   "cell_type": "markdown",
   "metadata": {},
   "source": [
    "1\\. **Reductions**\n",
    "\n",
    "Find the total mean, and the mean for each row and column of the following matrix:\n",
    "\n",
    "```python\n",
    "m = np.arange(12).reshape((3,4))\n",
    "```"
   ]
  },
  {
   "cell_type": "code",
   "execution_count": 1,
   "metadata": {},
   "outputs": [],
   "source": [
    "import numpy as np\n",
    "import math as mt\n",
    "import matplotlib.pyplot as plt\n",
    "import timeit"
   ]
  },
  {
   "cell_type": "code",
   "execution_count": 2,
   "metadata": {},
   "outputs": [
    {
     "name": "stdout",
     "output_type": "stream",
     "text": [
      "[[ 0  1  2  3]\n",
      " [ 4  5  6  7]\n",
      " [ 8  9 10 11]]\n",
      "\n",
      "Row mean: [1.5 5.5 9.5]\n",
      "\n",
      "Comumn mean: [4. 5. 6. 7.]\n",
      "\n",
      "Total mean: 5.5\n"
     ]
    }
   ],
   "source": [
    "m = np.arange(12).reshape((3,4))\n",
    "\n",
    "row_mean = m.mean(axis = 1)\n",
    "column_mean = m.mean(axis = 0)\n",
    "tot_mean = m.mean()\n",
    "\n",
    "print(m)\n",
    "print(\"\\nRow mean:\", row_mean)\n",
    "print(\"\\nComumn mean:\", column_mean)\n",
    "print(\"\\nTotal mean:\", tot_mean)"
   ]
  },
  {
   "cell_type": "markdown",
   "metadata": {},
   "source": [
    "2\\. **Outer product**\n",
    "\n",
    "Find the outer product of the following vectors:\n",
    "\n",
    "```python\n",
    "u = np.array([1, 3, 5, 7])\n",
    "v = np.array([2, 4, 6, 8])\n",
    "```\n",
    "\n",
    "Use different methods to do this:\n",
    "\n",
    "   1. Using the function `outer` in numpy\n",
    "   2. Using a nested `for` loop or a list comprehension\n",
    "   3. Using numpy broadcasting operations"
   ]
  },
  {
   "cell_type": "code",
   "execution_count": 3,
   "metadata": {},
   "outputs": [
    {
     "name": "stdout",
     "output_type": "stream",
     "text": [
      "u =  [1 3 5 7]\n",
      "\n",
      "v =  [2 4 6 8]\n",
      "Outer product with np.outer\n",
      "\n",
      "[[ 2  4  6  8]\n",
      " [ 6 12 18 24]\n",
      " [10 20 30 40]\n",
      " [14 28 42 56]]\n",
      "\n",
      "Outer product with for loop\n",
      "\n",
      "[[ 2.  4.  6.  8.]\n",
      " [ 6. 12. 18. 24.]\n",
      " [10. 20. 30. 40.]\n",
      " [14. 28. 42. 56.]]\n",
      "\n",
      "Outer product with broadcasting\n",
      "\n",
      "[[ 2  6 10 14]\n",
      " [ 4 12 20 28]\n",
      " [ 6 18 30 42]\n",
      " [ 8 24 40 56]]\n"
     ]
    }
   ],
   "source": [
    "u = np.array([1, 3, 5, 7])\n",
    "v = np.array([2, 4, 6, 8])\n",
    "\n",
    "print(\"u = \",u)\n",
    "print(\"\\nv = \",v)\n",
    "outer_np = np.outer(u,v)\n",
    "\n",
    "print(\"Outer product with np.outer\\n\")\n",
    "print(outer_np)\n",
    "\n",
    "print(\"\\nOuter product with for loop\\n\")\n",
    "\n",
    "outer_for = np.zeros((u.shape[0],v.shape[0]))\n",
    "\n",
    "for i in range(u.shape[0]):\n",
    "    for j in range(v.shape[0]):\n",
    "        outer_for[i][j]=u[i]*v[j]\n",
    "        \n",
    "print(outer_for)\n",
    "print(\"\\nOuter product with broadcasting\\n\")\n",
    "\n",
    "outer_broadcasting = u*v.reshape(v.shape[0],1)\n",
    "\n",
    "print(outer_broadcasting)\n"
   ]
  },
  {
   "cell_type": "markdown",
   "metadata": {},
   "source": [
    "3\\. **Matrix masking**\n",
    "\n",
    "Create a 10 by 6 matrix of float random numbers, distributed between 0 and 3 according to a flat distribution.\n",
    "\n",
    "After creating the matrix, set all entries $< 0.3$ to zero using a mask."
   ]
  },
  {
   "cell_type": "code",
   "execution_count": 4,
   "metadata": {},
   "outputs": [
    {
     "name": "stdout",
     "output_type": "stream",
     "text": [
      "Random matrix\n",
      " [[0.11746537 0.88190374 1.26299716 2.6498657  1.35957684 2.17480439]\n",
      " [0.13105963 0.94280092 0.24810243 1.06410573 2.35994082 2.26798744]\n",
      " [1.54345345 0.96023077 1.29272177 2.02342094 0.59840244 0.63979856]\n",
      " [2.06094788 0.29357289 2.76072301 1.41623851 2.99902693 2.64417867]\n",
      " [0.18959425 1.89735732 1.67293038 1.22601998 1.08939744 2.45512529]\n",
      " [1.65186362 1.86451092 0.4245828  2.2405032  2.51886667 2.415737  ]\n",
      " [2.40207362 2.65696614 1.26966051 1.8523755  1.21149303 2.19109723]\n",
      " [1.89991846 0.39885923 2.26161514 2.86229075 2.33040196 1.1640501 ]\n",
      " [1.44486434 1.04077472 0.63810179 0.11176962 0.59326349 2.07299686]\n",
      " [0.10711141 0.89679249 1.53847484 1.70259074 2.23994892 2.53051732]]\n",
      "\n",
      "\n",
      "Mask for value < 3\n",
      " [[ True False False False False False]\n",
      " [ True False  True False False False]\n",
      " [False False False False False False]\n",
      " [False  True False False False False]\n",
      " [ True False False False False False]\n",
      " [False False False False False False]\n",
      " [False False False False False False]\n",
      " [False False False False False False]\n",
      " [False False False  True False False]\n",
      " [ True False False False False False]]\n",
      "\n",
      "\n",
      "Zero after masking\n",
      " [[0.         0.88190374 1.26299716 2.6498657  1.35957684 2.17480439]\n",
      " [0.         0.94280092 0.         1.06410573 2.35994082 2.26798744]\n",
      " [1.54345345 0.96023077 1.29272177 2.02342094 0.59840244 0.63979856]\n",
      " [2.06094788 0.         2.76072301 1.41623851 2.99902693 2.64417867]\n",
      " [0.         1.89735732 1.67293038 1.22601998 1.08939744 2.45512529]\n",
      " [1.65186362 1.86451092 0.4245828  2.2405032  2.51886667 2.415737  ]\n",
      " [2.40207362 2.65696614 1.26966051 1.8523755  1.21149303 2.19109723]\n",
      " [1.89991846 0.39885923 2.26161514 2.86229075 2.33040196 1.1640501 ]\n",
      " [1.44486434 1.04077472 0.63810179 0.         0.59326349 2.07299686]\n",
      " [0.         0.89679249 1.53847484 1.70259074 2.23994892 2.53051732]]\n"
     ]
    }
   ],
   "source": [
    "rand = np.random.uniform(0,3,(10,6)) \n",
    "rand_mask = rand < 0.3\n",
    "print(\"Random matrix\\n\",rand)\n",
    "print(\"\\n\\nMask for value < 3\\n\",rand_mask)\n",
    "\n",
    "rand[rand_mask] = 0\n",
    "print(\"\\n\\nZero after masking\\n\",rand)"
   ]
  },
  {
   "cell_type": "markdown",
   "metadata": {},
   "source": [
    "4\\. **Trigonometric functions**\n",
    "\n",
    "Use `np.linspace` to create an array of 100 numbers between $0$ and $2\\pi$ (inclusive).\n",
    "\n",
    "  * Extract every 10th element using the slice notation\n",
    "  * Reverse the array using the slice notation\n",
    "  * Extract elements where the absolute difference between the `sin` and `cos` functions evaluated for that element is $< 0.1$\n",
    "  * **Optional**: make a plot showing the sin and cos functions and indicate where they are close"
   ]
  },
  {
   "cell_type": "code",
   "execution_count": 5,
   "metadata": {
    "scrolled": false
   },
   "outputs": [
    {
     "name": "stdout",
     "output_type": "stream",
     "text": [
      "Vector:\n",
      " [0.         0.06346652 0.12693304 0.19039955 0.25386607 0.31733259\n",
      " 0.38079911 0.44426563 0.50773215 0.57119866 0.63466518 0.6981317\n",
      " 0.76159822 0.82506474 0.88853126 0.95199777 1.01546429 1.07893081\n",
      " 1.14239733 1.20586385 1.26933037 1.33279688 1.3962634  1.45972992\n",
      " 1.52319644 1.58666296 1.65012947 1.71359599 1.77706251 1.84052903\n",
      " 1.90399555 1.96746207 2.03092858 2.0943951  2.15786162 2.22132814\n",
      " 2.28479466 2.34826118 2.41172769 2.47519421 2.53866073 2.60212725\n",
      " 2.66559377 2.72906028 2.7925268  2.85599332 2.91945984 2.98292636\n",
      " 3.04639288 3.10985939 3.17332591 3.23679243 3.30025895 3.36372547\n",
      " 3.42719199 3.4906585  3.55412502 3.61759154 3.68105806 3.74452458\n",
      " 3.8079911  3.87145761 3.93492413 3.99839065 4.06185717 4.12532369\n",
      " 4.1887902  4.25225672 4.31572324 4.37918976 4.44265628 4.5061228\n",
      " 4.56958931 4.63305583 4.69652235 4.75998887 4.82345539 4.88692191\n",
      " 4.95038842 5.01385494 5.07732146 5.14078798 5.2042545  5.26772102\n",
      " 5.33118753 5.39465405 5.45812057 5.52158709 5.58505361 5.64852012\n",
      " 5.71198664 5.77545316 5.83891968 5.9023862  5.96585272 6.02931923\n",
      " 6.09278575 6.15625227 6.21971879 6.28318531]\n",
      "\n",
      "\n",
      "Vector every ten element:\n",
      " [0.         0.63466518 1.26933037 1.90399555 2.53866073 3.17332591\n",
      " 3.8079911  4.44265628 5.07732146 5.71198664]\n",
      "\n",
      "\n",
      "Vector reversed:\n",
      " [6.28318531 6.21971879 6.15625227 6.09278575 6.02931923 5.96585272\n",
      " 5.9023862  5.83891968 5.77545316 5.71198664 5.64852012 5.58505361\n",
      " 5.52158709 5.45812057 5.39465405 5.33118753 5.26772102 5.2042545\n",
      " 5.14078798 5.07732146 5.01385494 4.95038842 4.88692191 4.82345539\n",
      " 4.75998887 4.69652235 4.63305583 4.56958931 4.5061228  4.44265628\n",
      " 4.37918976 4.31572324 4.25225672 4.1887902  4.12532369 4.06185717\n",
      " 3.99839065 3.93492413 3.87145761 3.8079911  3.74452458 3.68105806\n",
      " 3.61759154 3.55412502 3.4906585  3.42719199 3.36372547 3.30025895\n",
      " 3.23679243 3.17332591 3.10985939 3.04639288 2.98292636 2.91945984\n",
      " 2.85599332 2.7925268  2.72906028 2.66559377 2.60212725 2.53866073\n",
      " 2.47519421 2.41172769 2.34826118 2.28479466 2.22132814 2.15786162\n",
      " 2.0943951  2.03092858 1.96746207 1.90399555 1.84052903 1.77706251\n",
      " 1.71359599 1.65012947 1.58666296 1.52319644 1.45972992 1.3962634\n",
      " 1.33279688 1.26933037 1.20586385 1.14239733 1.07893081 1.01546429\n",
      " 0.95199777 0.88853126 0.82506474 0.76159822 0.6981317  0.63466518\n",
      " 0.57119866 0.50773215 0.44426563 0.38079911 0.31733259 0.25386607\n",
      " 0.19039955 0.12693304 0.06346652 0.        ]\n",
      "\n",
      "\n",
      "Vector with condition:\n",
      " [0.76159822 0.82506474 3.87145761 3.93492413]\n"
     ]
    },
    {
     "data": {
      "image/png": "[encoded data removed]",
      "text/plain": [
       "<Figure size 576x432 with 1 Axes>"
      ]
     },
     "metadata": {
      "needs_background": "light"
     },
     "output_type": "display_data"
    }
   ],
   "source": [
    "\n",
    "vect = np.linspace(0,2*mt.pi,100)\n",
    "\n",
    "print(\"Vector:\\n\",vect)\n",
    "\n",
    "print(\"\\n\\nVector every ten element:\\n\",vect[0:100:10])\n",
    "\n",
    "print(\"\\n\\nVector reversed:\\n\", vect[::-1])\n",
    "\n",
    "print(\"\\n\\nVector with condition:\\n\", vect[abs(np.sin(vect)-np.cos(vect))<0.1])\n",
    "\n",
    "plt.figure(figsize=(8, 6))\n",
    "#dotted style to see the point used to build the curves\n",
    "plt.plot(vect,np.sin(vect), linestyle = \"dotted\")\n",
    "plt.plot(vect,np.cos(vect),linestyle = \"dotted\") \n",
    "plt.vlines(vect[abs(np.sin(vect)-np.cos(vect))<0.1],-1,1) #point where they are close\n",
    "plt.show()"
   ]
  },
  {
   "cell_type": "markdown",
   "metadata": {},
   "source": [
    "5\\. **Matrices**\n",
    "\n",
    "Create a matrix that shows the 10 by 10 multiplication table.\n",
    "\n",
    " * Find the trace of the matrix\n",
    " * Extract the anti-diagonal matrix (this should be ```array([10, 18, 24, 28, 30, 30, 28, 24, 18, 10])```)\n",
    " * Extract the diagonal offset by 1 upwards (this should be ```array([ 2,  6, 12, 20, 30, 42, 56, 72, 90])```)"
   ]
  },
  {
   "cell_type": "code",
   "execution_count": 6,
   "metadata": {},
   "outputs": [
    {
     "name": "stdout",
     "output_type": "stream",
     "text": [
      "[[  1   2   3   4   5   6   7   8   9  10]\n",
      " [  2   4   6   8  10  12  14  16  18  20]\n",
      " [  3   6   9  12  15  18  21  24  27  30]\n",
      " [  4   8  12  16  20  24  28  32  36  40]\n",
      " [  5  10  15  20  25  30  35  40  45  50]\n",
      " [  6  12  18  24  30  36  42  48  54  60]\n",
      " [  7  14  21  28  35  42  49  56  63  70]\n",
      " [  8  16  24  32  40  48  56  64  72  80]\n",
      " [  9  18  27  36  45  54  63  72  81  90]\n",
      " [ 10  20  30  40  50  60  70  80  90 100]]\n",
      "Trace:  385\n",
      "\n",
      "\n",
      "Antidiagonal:  [10 18 24 28 30 30 28 24 18 10]\n",
      "\n",
      "\n",
      "Diagonal with offset 1 upwards:  [ 2  6 12 20 30 42 56 72 90]\n"
     ]
    }
   ],
   "source": [
    "ten_matrix = np.arange(1,11)*np.arange(1,11).reshape(10,1)\n",
    "\n",
    "print(ten_matrix)\n",
    "\n",
    "print(\"Trace: \", ten_matrix.trace())\n",
    "\n",
    "print(\"\\n\\nAntidiagonal: \", np.flip(ten_matrix,axis=0).diagonal()) #antidiagonal = diagonal of the matrix rotated\n",
    "\n",
    "print(\"\\n\\nDiagonal with offset 1 upwards: \",np.diagonal(ten_matrix,1))"
   ]
  },
  {
   "cell_type": "markdown",
   "metadata": {},
   "source": [
    "6\\. **Broadcasting**\n",
    "\n",
    "Use broadcasting to create a grid of distances.\n",
    "\n",
    "Route 66 crosses the following cities in the US: Chicago, Springfield, Saint-Louis, Tulsa, Oklahoma City, Amarillo, Santa Fe, Albuquerque, Flagstaff, Los Angeles.\n",
    "\n",
    "The corresponding positions in miles are: 0, 198, 303, 736, 871, 1175, 1475, 1544, 1913, 2448\n",
    "\n",
    "  * Build a 2D grid of distances among each city along Route 66\n",
    "  * Convert the distances in km"
   ]
  },
  {
   "cell_type": "code",
   "execution_count": 7,
   "metadata": {},
   "outputs": [
    {
     "name": "stdout",
     "output_type": "stream",
     "text": [
      "Distances in miles:\n",
      " [   0  198  303  736  871 1175 1475 1544 1913 2448]\n",
      "\n",
      "\n",
      "Distances grid in miles:\n",
      " [[   0.  198.  303.  736.  871. 1175. 1475. 1544. 1913. 2448.]\n",
      " [ 198.    0.  105.  538.  673.  977. 1277. 1346. 1715. 2250.]\n",
      " [ 303.  105.    0.  433.  568.  872. 1172. 1241. 1610. 2145.]\n",
      " [ 736.  538.  433.    0.  135.  439.  739.  808. 1177. 1712.]\n",
      " [ 871.  673.  568.  135.    0.  304.  604.  673. 1042. 1577.]\n",
      " [1175.  977.  872.  439.  304.    0.  300.  369.  738. 1273.]\n",
      " [1475. 1277. 1172.  739.  604.  300.    0.   69.  438.  973.]\n",
      " [1544. 1346. 1241.  808.  673.  369.   69.    0.  369.  904.]\n",
      " [1913. 1715. 1610. 1177. 1042.  738.  438.  369.    0.  535.]\n",
      " [2448. 2250. 2145. 1712. 1577. 1273.  973.  904.  535.    0.]]\n",
      "\n",
      "\n",
      "Distances grid in km:\n",
      " [[   0.          318.65021058  487.63138286 1184.47755045 1401.73905766\n",
      "  1890.97978502 2373.78313439 2484.82790475 3078.67602447 3939.67533084]\n",
      " [ 318.65021058    0.          168.98117228  865.82733987 1083.08884708\n",
      "  1572.32957444 2055.13292381 2166.17769416 2760.02581389 3621.02512026]\n",
      " [ 487.63138286  168.98117228    0.          696.84616759  914.1076748\n",
      "  1403.34840216 1886.15175153 1997.19652188 2591.04464161 3452.04394798]\n",
      " [1184.47755045  865.82733987  696.84616759    0.          217.26150722\n",
      "   706.50223457 1189.30558394 1300.3503543  1894.19847402 2755.19778039]\n",
      " [1401.73905766 1083.08884708  914.1076748   217.26150722    0.\n",
      "   489.24072736  972.04407673 1083.08884708 1676.9369668  2537.93627318]\n",
      " [1890.97978502 1572.32957444 1403.34840216  706.50223457  489.24072736\n",
      "     0.          482.80334937  593.84811972 1187.69623944 2048.69554582]\n",
      " [2373.78313439 2055.13292381 1886.15175153 1189.30558394  972.04407673\n",
      "   482.80334937    0.          111.04477035  704.89289008 1565.89219645]\n",
      " [2484.82790475 2166.17769416 1997.19652188 1300.3503543  1083.08884708\n",
      "   593.84811972  111.04477035    0.          593.84811972 1454.84742609]\n",
      " [3078.67602447 2760.02581389 2591.04464161 1894.19847402 1676.9369668\n",
      "  1187.69623944  704.89289008  593.84811972    0.          860.99930637]\n",
      " [3939.67533084 3621.02512026 3452.04394798 2755.19778039 2537.93627318\n",
      "  2048.69554582 1565.89219645 1454.84742609  860.99930637    0.        ]]\n"
     ]
    }
   ],
   "source": [
    "distances = np.array([0,198,303,736,871,1175,1475,1544,1913,2448])\n",
    "\n",
    "print(\"Distances in miles:\\n\",distances)\n",
    "\n",
    "tmp = distances*np.ones((10,10)) #duplication of the vector over each row of a 10X10 matrix\n",
    "\n",
    "dist_grid = np.absolute((tmp - distances.reshape((10,1)))) #broadcasting to compute the differences = distances \n",
    "                                                           #between cities\n",
    "\n",
    "print(\"\\n\\nDistances grid in miles:\\n\",dist_grid)\n",
    "\n",
    "      \n",
    "print(\"\\n\\nDistances grid in km:\\n\",dist_grid/0.621371)"
   ]
  },
  {
   "cell_type": "markdown",
   "metadata": {},
   "source": [
    "7\\. **Prime numbers sieve**\n",
    "\n",
    "Compute the prime numbers in the 0-N (start with N=99) range with a sieve (mask).\n",
    "\n",
    "  * Constract a shape (N,) boolean array, which is the mask\n",
    "  * Identify the multiples of each number starting from 2 and set accordingly the corresponding mask element\n",
    "  * Apply the mask to obtain an array of ordered prime numbers\n",
    "  * Check the performances (with `timeit`); how does it scale with N?\n",
    "  * Implement the optimization suggested in the [sieve of Eratosthenes](https://en.wikipedia.org/wiki/Sieve_of_Eratosthenes)"
   ]
  },
  {
   "cell_type": "code",
   "execution_count": 8,
   "metadata": {},
   "outputs": [],
   "source": [
    "def primeNumbers(N):\n",
    "    \n",
    "    if (N <= 1):\n",
    "        return np.array(0)\n",
    "    \n",
    "    N = N + 1 #i need to consider one number more than the maximum value requested in the below code\n",
    "    \n",
    "    numbers = np.arange(0,N)\n",
    "\n",
    "    mask = np.ones(N,dtype=bool) #suppose all prime number\n",
    "\n",
    "    mask[0],mask[1] = False, False #except 0 and 1\n",
    "\n",
    "    i=2 #start from 2\n",
    "    \n",
    "    while(i<N):\n",
    "\n",
    "        if(mask[i] == False): #not a prime number -> we can not use to check the next numbers\n",
    "            i+=1 #next index\n",
    "            continue #skip iteration\n",
    "\n",
    "        j = i + 1 #start from the next number\n",
    "\n",
    "        while(j<N): \n",
    "\n",
    "            if(mask[j] == True and numbers[j]%numbers[i]==0):#if it is not a multiple of the previous number \n",
    "                                                             #already check (-> possible prime number)\n",
    "                                                             # and it is a multiple of the current prime number:\n",
    "                mask[j] = False#<----------------------------  it is not a prime number \n",
    "\n",
    "            j +=1 \n",
    "            \n",
    "\n",
    "        i+=1 #next index\n",
    "        \n",
    "    return numbers[mask] \n",
    "\n",
    "   \n",
    "\n"
   ]
  },
  {
   "cell_type": "code",
   "execution_count": 9,
   "metadata": {},
   "outputs": [
    {
     "name": "stdout",
     "output_type": "stream",
     "text": [
      "Prime numbers in 0-99 are:\n",
      " [ 2  3  5  7 11 13 17 19 23 29 31 37 41 43 47 53 59 61 67 71 73 79 83 89\n",
      " 97] \n",
      " computed in: 0.0015724129999625802 seconds\n"
     ]
    },
    {
     "data": {
      "image/png": "[encoded data removed]",
      "text/plain": [
       "<Figure size 432x288 with 1 Axes>"
      ]
     },
     "metadata": {
      "needs_background": "light"
     },
     "output_type": "display_data"
    }
   ],
   "source": [
    "start = timeit.default_timer() \n",
    "  \n",
    "results = primeNumbers(99)\n",
    "        \n",
    "end = timeit.default_timer() \n",
    "    \n",
    "print(\"Prime numbers in 0-99 are:\\n\", results,\"\\n computed in:\",end-start,\"seconds\")\n",
    "\n",
    "maximum = [] #empty list to save the N value\n",
    "time = [] #empty list to save the time to compute the prime number\n",
    "\n",
    "for N in range(500): #iteration over N\n",
    "    \n",
    "    maximum.append(N) #save the value\n",
    "    \n",
    "    start = timeit.default_timer()\n",
    "    results = primeNumbers(N)\n",
    "    end = timeit.default_timer() \n",
    "    \n",
    "    time.append(end-start)#append the time\n",
    "    \n",
    "\n",
    "#plot\n",
    "plt.plot(maximum,time)\n",
    "plt.title(\"Prime numbers\")\n",
    "plt.xlabel(\"N\")\n",
    "plt.ylabel(\"Time[s]\")\n",
    "plt.show()    "
   ]
  },
  {
   "cell_type": "code",
   "execution_count": 10,
   "metadata": {},
   "outputs": [],
   "source": [
    "def primeNumbers2(N):\n",
    "    \n",
    "    #initialization as before\n",
    "    N = N + 1 \n",
    "    mask = np.ones(100, dtype=bool)\n",
    "    numbers = np.arange(0,100)\n",
    "\n",
    "    mask[0] = False\n",
    "    mask[1] = False\n",
    "\n",
    "    #the implementation follows the pseudo code in the wikipedia page\n",
    "    for i in range(2,int(mt.sqrt(99))):\n",
    "\n",
    "        if mask[i] == True:\n",
    "\n",
    "            j = i**2\n",
    "            \n",
    "            \n",
    "            while j<=99:\n",
    "\n",
    "                mask[j] = False\n",
    "                j+=i\n",
    "    \n",
    "    \n",
    "    return numbers[mask]   "
   ]
  },
  {
   "cell_type": "code",
   "execution_count": 11,
   "metadata": {},
   "outputs": [
    {
     "name": "stdout",
     "output_type": "stream",
     "text": [
      "Prime numbers in 0-99 (computed with the optimized method) are:\n",
      " [ 2  3  5  7 11 13 17 19 23 29 31 37 41 43 47 53 59 61 67 71 73 79 83 89\n",
      " 97] \n",
      " computed in: 0.000326838000034968 seconds\n"
     ]
    },
    {
     "data": {
      "image/png": "[encoded data removed]",
      "text/plain": [
       "<Figure size 432x288 with 1 Axes>"
      ]
     },
     "metadata": {
      "needs_background": "light"
     },
     "output_type": "display_data"
    }
   ],
   "source": [
    "start = timeit.default_timer()\n",
    "  \n",
    "results = primeNumbers2(99)\n",
    "        \n",
    "end = timeit.default_timer() \n",
    "    \n",
    "print(\"Prime numbers in 0-99 (computed with the optimized method) are:\\n\", results,\"\\n computed in:\",end-start,\"seconds\")\n",
    "\n",
    "#same as before\n",
    "\n",
    "maximum = [] \n",
    "time = []\n",
    "\n",
    "for N in range(500):\n",
    "    \n",
    "    maximum.append(N)\n",
    "    start = timeit.default_timer()\n",
    "    results = primeNumbers2(N)\n",
    "    end = timeit.default_timer() \n",
    "    \n",
    "    time.append(end-start)\n",
    "    \n",
    "\n",
    "plt.plot(maximum,time)\n",
    "plt.title(\"Prime numbers with optimized method\")\n",
    "plt.xlabel(\"N\")\n",
    "plt.ylabel(\"Time[s]\")\n",
    "plt.show()"
   ]
  },
  {
   "cell_type": "markdown",
   "metadata": {},
   "source": [
    "8\\. **Diffusion using random walk**\n",
    "\n",
    "Consider a simple random walk process: at each step in time, a walker jumps right or left (+1 or -1) with equal probability. The goal is to find the typical distance from the origin of many random walkers after a given amount of time.\n",
    "\n",
    "*Hint*: create a 2D array where each row represents a walker, and each column represents a time step.\n",
    "\n",
    "  * Take 1000 walkers and let them walk for 200 steps\n",
    "  * Use `randint` to create a 2D array of size $walkers \\times steps$ with values -1 or 1\n",
    "  * Calculate the walking distances for each walker (e.g. by summing the elements in each row)\n",
    "  * Take the square of the previously-obtained array (element-wise)\n",
    "  * Compute the mean of the squared distances at each step (i.e. the mean along the columns)\n",
    "  * **Optional**: plot the average distances ($\\sqrt(distance^2)$) as a function of time (step)"
   ]
  },
  {
   "cell_type": "code",
   "execution_count": 12,
   "metadata": {
    "scrolled": false
   },
   "outputs": [
    {
     "name": "stdout",
     "output_type": "stream",
     "text": [
      "Random walk matrix:\n",
      " [[ 1  1  1 ... -1 -1  1]\n",
      " [-1  1 -1 ... -1 -1  1]\n",
      " [-1  1  1 ... -1 -1 -1]\n",
      " ...\n",
      " [-1  1  1 ...  1 -1 -1]\n",
      " [ 1  1  1 ... -1 -1  1]\n",
      " [-1 -1  1 ... -1  1  1]]\n",
      "\n",
      "\n",
      "Distance for each walker:\n",
      " [ 10  38   2  -8  22  10  -8  12 -16  16 -18  18   0   6   2  -2 -22  22\n",
      " -12   4  -2 -10 -20  -8  14   0  -4   0  -6   2  -2  10 -36  24  24 -20\n",
      " -12  -4  -2  -8   0   4 -16  -4  -6  -6  18  -8  16  18  18  26  10  12\n",
      "  24  -8   6  16   4  20  18   2  26  -8  -6  14  12  -6   4   6  -2  -8\n",
      "   2   2  16  16 -12  20   2  24  -2   6  -2  36  10   8  -4   0  -2  -4\n",
      "  -4   2   6   4   2 -24 -14  18 -20  10 -12  -4 -10  22  -8 -10  -2  14\n",
      "  -8  16   8 -10  18  -4 -14  10  -6  -2  10 -18 -22  -6  -6  10 -14  -4\n",
      "  16  22 -10  18  -8   0  -2   4  10  -2  -6   2  12 -32 -34   0  -8 -20\n",
      "  -2  16   2  10 -12  18  18   0  10  42   4 -36  20 -12  38 -18 -22 -16\n",
      "   2  -2   2 -10  10  28  22 -14  -8  10 -12  -4  14 -24  26  -2   2  -6\n",
      "  18  -6  -6  -8  16  -2  -4  18 -14  24  10   2  20   8 -10  16 -18 -24\n",
      " -18 -18  -4  -4   8  12  -8   8  -6   0  -6   8 -12  20 -24   6   2 -12\n",
      "   4  16  -6  10 -16 -20  20  20  22  20 -14  22 -26   6  18  -4  24  -6\n",
      " -16 -14   0   0 -10 -16  10  14   4  30   2   2 -20  32  -6  -8  -8   4\n",
      "  12  16  16 -22 -18 -20 -14  -8  -8  12  10   4  12 -10  12  -8  -6  -4\n",
      "  -6  -4  18  -2 -16  -2 -16 -16 -34  10 -30  -4   2   6  14   6 -22 -38\n",
      " -10  16  20  20   8 -10 -34  -6  32  16  26  -4  14  20   8  -6  -8 -14\n",
      "   8   2  -2 -14   6 -20  10   6   8  16   6  12  -4 -14   6   0  26   6\n",
      " -16 -18  14  32  12  -2 -10  14   0 -16  -2  28  14   6 -24   4 -32  14\n",
      "  -2   4  16 -12   4   0 -18 -16   0   2  -6  -8  -8  32  16 -10  -4   2\n",
      "   8  -4 -20  20   0 -16 -42  24  18  -4   0 -42  24 -14   2   6 -26 -26\n",
      " -28   0   0 -30 -14  -6   8   2  -6   6   0   6  10 -20   6   4 -22 -20\n",
      "  10   2  -4  -2  22   4  14 -10   2  14 -14  16  -6 -12  38   0  34  -8\n",
      "   2 -12  12 -14   6   8  10 -18  -8  18   6 -10 -18 -26  -6  20  -6  10\n",
      "   2   8  22  16  28  -4   8  -2  10  12 -12 -16   0  -8   0 -14  26  -8\n",
      "  12   6  12  12  -4   4 -12   8  34 -16  -8  -4 -14  24 -28 -10  -6   6\n",
      "  18   0  14 -22  -6 -12  26  -2   0  10  -4 -22  -4   0  -6 -16  12   6\n",
      " -24   4  -4  18   4  18  -4 -22   6  -4 -16 -12 -10  -6   2  -2   2  18\n",
      "   4  14  -4  -8 -12  -8  20   2  22 -12 -26   2  -6  -4  20  -6  42  36\n",
      "  42   4  -8  -8  24  -2 -20  -4  -4   8  18 -10  18   2  30   0 -16   4\n",
      "  10   4  12 -14 -10   0   8   8  -2 -12  -2 -14 -14  10  -8 -38 -14  -2\n",
      "  -2   0 -22 -12  12   2 -10  10  20   6  14 -22   6   8  22   0 -10 -26\n",
      "   2 -10 -36  10  42  18   8  14  16   0  24  -4   6 -22   4  20 -10  -2\n",
      "   6  -2 -22   0  14   6  10 -22   2 -14 -30  18   4   2  24  -2   8  -6\n",
      "   2 -20  12 -30  24  12 -10  -8 -12 -14  10  -2  -2  18  -6 -14   8 -12\n",
      "   0   2  16  22  18 -14  -2  28   0 -12   4  16  14  20   0   2 -22   2\n",
      "   4  -8 -16   2 -10  -8 -22  12  16  -2   0 -28   2   6  -6  28  -2  -2\n",
      "  -2  24 -18  -2   8   2   4  12  10  24   0  -8 -24  -4  -4   4  18 -20\n",
      "  12 -12  22 -10  -2  -8  10 -26   8  14  10  -6  16  18   6  -6   6   0\n",
      " -16 -10   0  14  20 -10   4  16   4  18   4   8  46 -14  18 -16  10  -6\n",
      " -16  -4  14 -20  20   2 -18  22  -8  -6  10   0   2  32  26  -4  -4  16\n",
      "  -2  -8  24  16 -22   6  14  12  14  -6  28  10  30   8  -8  -4  -8 -16\n",
      "  12 -28   6   4  14   4  10  -2   0 -28  18  12  32   6  40  -8  16  14\n",
      "  -4  16   4   2   2  -8 -10   4   0  -4  -8   6  10 -22  22 -24 -28  10\n",
      "  18 -12 -16  44  14  10  26  -8  -4  18  -8   8 -16  12  -8   6   2  -2\n",
      "  18   4  20  -2 -18  18  10  -2 -18  -6  10   0  12  -8   6  10 -12   6\n",
      " -18  10 -10   0   0  10  -4  14   2   2 -14  14 -10 -20  24  -6  20  10\n",
      " -18  14  32 -16 -10   2 -10 -12 -14  -4  12   6  14   2  12  12  -2 -12\n",
      "  10  -4   8   0 -34 -14 -14   8   2 -30   8  -2 -10 -18  14 -16  18  -2\n",
      "  14   0  12  -4  -2  32   0  22  -6  20  14 -18  12  -2   2   2 -14 -16\n",
      "  -4  -2  24   6   8   8  18  20 -32  -2  -4 -38 -18  -2  10  -4   6   6\n",
      " -10  14  12  -8   4  22  -4   6 -10  20  -4  42 -12  -2  10   4  20 -12\n",
      "  -4 -30 -16 -14 -18  14  18   6   8   2  -2  22   0   6   4  10  26  -6\n",
      "  -2  16 -26   4  -8   0  30   4 -18 -28  10   0  12  -2  16 -10 -34  -2\n",
      "  -4   0  28 -36 -16   2 -32 -14  12  -6  -8   4   6  18   4 -20   8   4\n",
      " -16   0  -8 -12 -12   2  18  -6   0  10]\n",
      "\n",
      "\n",
      "Square distance for each walker:\n",
      " [ 100 1444    4   64  484  100   64  144  256  256  324  324    0   36\n",
      "    4    4  484  484  144   16    4  100  400   64  196    0   16    0\n",
      "   36    4    4  100 1296  576  576  400  144   16    4   64    0   16\n",
      "  256   16   36   36  324   64  256  324  324  676  100  144  576   64\n",
      "   36  256   16  400  324    4  676   64   36  196  144   36   16   36\n",
      "    4   64    4    4  256  256  144  400    4  576    4   36    4 1296\n",
      "  100   64   16    0    4   16   16    4   36   16    4  576  196  324\n",
      "  400  100  144   16  100  484   64  100    4  196   64  256   64  100\n",
      "  324   16  196  100   36    4  100  324  484   36   36  100  196   16\n",
      "  256  484  100  324   64    0    4   16  100    4   36    4  144 1024\n",
      " 1156    0   64  400    4  256    4  100  144  324  324    0  100 1764\n",
      "   16 1296  400  144 1444  324  484  256    4    4    4  100  100  784\n",
      "  484  196   64  100  144   16  196  576  676    4    4   36  324   36\n",
      "   36   64  256    4   16  324  196  576  100    4  400   64  100  256\n",
      "  324  576  324  324   16   16   64  144   64   64   36    0   36   64\n",
      "  144  400  576   36    4  144   16  256   36  100  256  400  400  400\n",
      "  484  400  196  484  676   36  324   16  576   36  256  196    0    0\n",
      "  100  256  100  196   16  900    4    4  400 1024   36   64   64   16\n",
      "  144  256  256  484  324  400  196   64   64  144  100   16  144  100\n",
      "  144   64   36   16   36   16  324    4  256    4  256  256 1156  100\n",
      "  900   16    4   36  196   36  484 1444  100  256  400  400   64  100\n",
      " 1156   36 1024  256  676   16  196  400   64   36   64  196   64    4\n",
      "    4  196   36  400  100   36   64  256   36  144   16  196   36    0\n",
      "  676   36  256  324  196 1024  144    4  100  196    0  256    4  784\n",
      "  196   36  576   16 1024  196    4   16  256  144   16    0  324  256\n",
      "    0    4   36   64   64 1024  256  100   16    4   64   16  400  400\n",
      "    0  256 1764  576  324   16    0 1764  576  196    4   36  676  676\n",
      "  784    0    0  900  196   36   64    4   36   36    0   36  100  400\n",
      "   36   16  484  400  100    4   16    4  484   16  196  100    4  196\n",
      "  196  256   36  144 1444    0 1156   64    4  144  144  196   36   64\n",
      "  100  324   64  324   36  100  324  676   36  400   36  100    4   64\n",
      "  484  256  784   16   64    4  100  144  144  256    0   64    0  196\n",
      "  676   64  144   36  144  144   16   16  144   64 1156  256   64   16\n",
      "  196  576  784  100   36   36  324    0  196  484   36  144  676    4\n",
      "    0  100   16  484   16    0   36  256  144   36  576   16   16  324\n",
      "   16  324   16  484   36   16  256  144  100   36    4    4    4  324\n",
      "   16  196   16   64  144   64  400    4  484  144  676    4   36   16\n",
      "  400   36 1764 1296 1764   16   64   64  576    4  400   16   16   64\n",
      "  324  100  324    4  900    0  256   16  100   16  144  196  100    0\n",
      "   64   64    4  144    4  196  196  100   64 1444  196    4    4    0\n",
      "  484  144  144    4  100  100  400   36  196  484   36   64  484    0\n",
      "  100  676    4  100 1296  100 1764  324   64  196  256    0  576   16\n",
      "   36  484   16  400  100    4   36    4  484    0  196   36  100  484\n",
      "    4  196  900  324   16    4  576    4   64   36    4  400  144  900\n",
      "  576  144  100   64  144  196  100    4    4  324   36  196   64  144\n",
      "    0    4  256  484  324  196    4  784    0  144   16  256  196  400\n",
      "    0    4  484    4   16   64  256    4  100   64  484  144  256    4\n",
      "    0  784    4   36   36  784    4    4    4  576  324    4   64    4\n",
      "   16  144  100  576    0   64  576   16   16   16  324  400  144  144\n",
      "  484  100    4   64  100  676   64  196  100   36  256  324   36   36\n",
      "   36    0  256  100    0  196  400  100   16  256   16  324   16   64\n",
      " 2116  196  324  256  100   36  256   16  196  400  400    4  324  484\n",
      "   64   36  100    0    4 1024  676   16   16  256    4   64  576  256\n",
      "  484   36  196  144  196   36  784  100  900   64   64   16   64  256\n",
      "  144  784   36   16  196   16  100    4    0  784  324  144 1024   36\n",
      " 1600   64  256  196   16  256   16    4    4   64  100   16    0   16\n",
      "   64   36  100  484  484  576  784  100  324  144  256 1936  196  100\n",
      "  676   64   16  324   64   64  256  144   64   36    4    4  324   16\n",
      "  400    4  324  324  100    4  324   36  100    0  144   64   36  100\n",
      "  144   36  324  100  100    0    0  100   16  196    4    4  196  196\n",
      "  100  400  576   36  400  100  324  196 1024  256  100    4  100  144\n",
      "  196   16  144   36  196    4  144  144    4  144  100   16   64    0\n",
      " 1156  196  196   64    4  900   64    4  100  324  196  256  324    4\n",
      "  196    0  144   16    4 1024    0  484   36  400  196  324  144    4\n",
      "    4    4  196  256   16    4  576   36   64   64  324  400 1024    4\n",
      "   16 1444  324    4  100   16   36   36  100  196  144   64   16  484\n",
      "   16   36  100  400   16 1764  144    4  100   16  400  144   16  900\n",
      "  256  196  324  196  324   36   64    4    4  484    0   36   16  100\n",
      "  676   36    4  256  676   16   64    0  900   16  324  784  100    0\n",
      "  144    4  256  100 1156    4   16    0  784 1296  256    4 1024  196\n",
      "  144   36   64   16   36  324   16  400   64   16  256    0   64  144\n",
      "  144    4  324   36    0  100]\n",
      "\n",
      "\n",
      "Mean for each time stamp:\n",
      " 1.048\n"
     ]
    },
    {
     "data": {
      "text/plain": [
       "[<matplotlib.lines.Line2D at 0x7f9db8fae1c0>]"
      ]
     },
     "execution_count": 12,
     "metadata": {},
     "output_type": "execute_result"
    },
    {
     "data": {
      "image/png": "[encoded data removed]",
      "text/plain": [
       "<Figure size 576x432 with 1 Axes>"
      ]
     },
     "metadata": {
      "needs_background": "light"
     },
     "output_type": "display_data"
    }
   ],
   "source": [
    "random_walk = np.random.choice(np.array([1,-1]),(1000,200)) #np.random.randint(-1,2,(1000,200)) includes also the 0 \n",
    "print(\"Random walk matrix:\\n\",random_walk)\n",
    "\n",
    "distances = random_walk.sum(axis = 1)\n",
    "print(\"\\n\\nDistance for each walker:\\n\",distances)\n",
    "\n",
    "d_square = np.square(distances)\n",
    "print(\"\\n\\nSquare distance for each walker:\\n\",d_square)\n",
    "\n",
    "mean_steps = distances.mean(axis = 0)\n",
    "print(\"\\n\\nMean for each time stamp:\\n\", mean_steps)\n",
    "\n",
    "time = np.arange(1,201) #generation of a vector of 200 timestamps\n",
    "\n",
    "mean_distance = random_walk.copy() \n",
    "\n",
    "for i in range(1,200): #compute distance of each walker from the origin at each timestamp\n",
    "    mean_distance[:,i] += mean_distance[:,i-1]\n",
    "    \n",
    "mean_distance = mean_distance.mean(axis=0) #mean distance for each step\n",
    "\n",
    "#plot\n",
    "plt.figure(figsize=(8, 6))\n",
    "plt.title(\"Average distance\")\n",
    "plt.xlabel(\"Timestamp\")\n",
    "plt.ylabel(\"Average distance\")\n",
    "plt.plot(time, mean_distance)"
   ]
  }
 ],
 "metadata": {
  "kernelspec": {
   "display_name": "Python 3 (ipykernel)",
   "language": "python",
   "name": "python3"
  },
  "language_info": {
   "codemirror_mode": {
    "name": "ipython",
    "version": 3
   },
   "file_extension": ".py",
   "mimetype": "text/x-python",
   "name": "python",
   "nbconvert_exporter": "python",
   "pygments_lexer": "ipython3",
   "version": "3.9.12"
  }
 },
 "nbformat": 4,
 "nbformat_minor": 2
}
