{
 "cells": [
  {
   "cell_type": "markdown",
   "metadata": {},
   "source": [
    "**Name-Surname:** Gianpietro Nicoletti <br>\n",
    "**ID**: 2053042"
   ]
  },
  {
   "cell_type": "markdown",
   "metadata": {},
   "source": [
    "1\\. **Pandas DataFrame**\n",
    "\n",
    "This exercise consists in analyzing a dataset containg timing information from a series of Time-to-Digital-Converters (TDC) implemented in a pair of FPGAs. Each measurement (i.e. each row of the input file) consists of a flag that specifies the type of message ('HEAD', which in this case is always 1), two addresses of the TDC providing the signal ('FPGA' and 'TDC_CHANNEL'), and the timing information ('ORBIT_CNT', 'BX_COUNTER', and 'TDC_MEAS'). Each TDC count corresponds to 25/30 ns, whereas a unit of BX_COUNTER corresponds to 25 ns, and the ORBIT_CNT is increased every `x` BX_COUNTER. This allows to store the time in a similar way to hours, minutes and seconds."
   ]
  },
  {
   "cell_type": "code",
   "execution_count": 15,
   "metadata": {},
   "outputs": [],
   "source": [
    "import pandas as pd\n",
    "import datetime as dt\n",
    "import numpy as np\n",
    "import matplotlib.pyplot as plt\n",
    "%matplotlib inline"
   ]
  },
  {
   "cell_type": "code",
   "execution_count": 16,
   "metadata": {},
   "outputs": [],
   "source": [
    "BOLD = \"\\033[1m\"\n",
    "END = \"\\033[0m\""
   ]
  },
  {
   "cell_type": "code",
   "execution_count": 17,
   "metadata": {},
   "outputs": [],
   "source": [
    "# If haven't downloaded it yet, please get the data file with wget\n",
    "#!wget https://www.dropbox.com/s/xvjzaxzz3ysphme/data_000637.txt -P ./data/"
   ]
  },
  {
   "cell_type": "markdown",
   "metadata": {},
   "source": [
    "1\\. Create a Pandas DataFrame reading N rows of the `data/data_000637.txt` dataset. Choose N to be smaller than or equal to the maximum number of rows and larger that 10k (check the documentation)."
   ]
  },
  {
   "cell_type": "code",
   "execution_count": 18,
   "metadata": {
    "scrolled": true
   },
   "outputs": [
    {
     "data": {
      "text/html": [
       "<div>\n",
       "<style scoped>\n",
       "    .dataframe tbody tr th:only-of-type {\n",
       "        vertical-align: middle;\n",
       "    }\n",
       "\n",
       "    .dataframe tbody tr th {\n",
       "        vertical-align: top;\n",
       "    }\n",
       "\n",
       "    .dataframe thead th {\n",
       "        text-align: right;\n",
       "    }\n",
       "</style>\n",
       "<table border=\"1\" class=\"dataframe\">\n",
       "  <thead>\n",
       "    <tr style=\"text-align: right;\">\n",
       "      <th></th>\n",
       "      <th>HEAD</th>\n",
       "      <th>FPGA</th>\n",
       "      <th>TDC_CHANNEL</th>\n",
       "      <th>ORBIT_CNT</th>\n",
       "      <th>BX_COUNTER</th>\n",
       "      <th>TDC_MEAS</th>\n",
       "    </tr>\n",
       "  </thead>\n",
       "  <tbody>\n",
       "    <tr>\n",
       "      <th>0</th>\n",
       "      <td>1</td>\n",
       "      <td>0</td>\n",
       "      <td>123</td>\n",
       "      <td>3869200167</td>\n",
       "      <td>2374</td>\n",
       "      <td>26</td>\n",
       "    </tr>\n",
       "    <tr>\n",
       "      <th>1</th>\n",
       "      <td>1</td>\n",
       "      <td>0</td>\n",
       "      <td>124</td>\n",
       "      <td>3869200167</td>\n",
       "      <td>2374</td>\n",
       "      <td>27</td>\n",
       "    </tr>\n",
       "    <tr>\n",
       "      <th>2</th>\n",
       "      <td>1</td>\n",
       "      <td>0</td>\n",
       "      <td>63</td>\n",
       "      <td>3869200167</td>\n",
       "      <td>2553</td>\n",
       "      <td>28</td>\n",
       "    </tr>\n",
       "    <tr>\n",
       "      <th>3</th>\n",
       "      <td>1</td>\n",
       "      <td>0</td>\n",
       "      <td>64</td>\n",
       "      <td>3869200167</td>\n",
       "      <td>2558</td>\n",
       "      <td>19</td>\n",
       "    </tr>\n",
       "    <tr>\n",
       "      <th>4</th>\n",
       "      <td>1</td>\n",
       "      <td>0</td>\n",
       "      <td>64</td>\n",
       "      <td>3869200167</td>\n",
       "      <td>2760</td>\n",
       "      <td>25</td>\n",
       "    </tr>\n",
       "    <tr>\n",
       "      <th>...</th>\n",
       "      <td>...</td>\n",
       "      <td>...</td>\n",
       "      <td>...</td>\n",
       "      <td>...</td>\n",
       "      <td>...</td>\n",
       "      <td>...</td>\n",
       "    </tr>\n",
       "    <tr>\n",
       "      <th>10495</th>\n",
       "      <td>1</td>\n",
       "      <td>1</td>\n",
       "      <td>97</td>\n",
       "      <td>3869200272</td>\n",
       "      <td>867</td>\n",
       "      <td>24</td>\n",
       "    </tr>\n",
       "    <tr>\n",
       "      <th>10496</th>\n",
       "      <td>1</td>\n",
       "      <td>1</td>\n",
       "      <td>98</td>\n",
       "      <td>3869200272</td>\n",
       "      <td>865</td>\n",
       "      <td>7</td>\n",
       "    </tr>\n",
       "    <tr>\n",
       "      <th>10497</th>\n",
       "      <td>1</td>\n",
       "      <td>0</td>\n",
       "      <td>56</td>\n",
       "      <td>3869200272</td>\n",
       "      <td>865</td>\n",
       "      <td>0</td>\n",
       "    </tr>\n",
       "    <tr>\n",
       "      <th>10498</th>\n",
       "      <td>1</td>\n",
       "      <td>1</td>\n",
       "      <td>139</td>\n",
       "      <td>3869200272</td>\n",
       "      <td>871</td>\n",
       "      <td>0</td>\n",
       "    </tr>\n",
       "    <tr>\n",
       "      <th>10499</th>\n",
       "      <td>1</td>\n",
       "      <td>1</td>\n",
       "      <td>47</td>\n",
       "      <td>3869200272</td>\n",
       "      <td>869</td>\n",
       "      <td>18</td>\n",
       "    </tr>\n",
       "  </tbody>\n",
       "</table>\n",
       "<p>10500 rows × 6 columns</p>\n",
       "</div>"
      ],
      "text/plain": [
       "       HEAD  FPGA  TDC_CHANNEL   ORBIT_CNT  BX_COUNTER  TDC_MEAS\n",
       "0         1     0          123  3869200167        2374        26\n",
       "1         1     0          124  3869200167        2374        27\n",
       "2         1     0           63  3869200167        2553        28\n",
       "3         1     0           64  3869200167        2558        19\n",
       "4         1     0           64  3869200167        2760        25\n",
       "...     ...   ...          ...         ...         ...       ...\n",
       "10495     1     1           97  3869200272         867        24\n",
       "10496     1     1           98  3869200272         865         7\n",
       "10497     1     0           56  3869200272         865         0\n",
       "10498     1     1          139  3869200272         871         0\n",
       "10499     1     1           47  3869200272         869        18\n",
       "\n",
       "[10500 rows x 6 columns]"
      ]
     },
     "execution_count": 18,
     "metadata": {},
     "output_type": "execute_result"
    }
   ],
   "source": [
    "df = pd.read_csv(\"data/data_000637.txt\", nrows=10500)\n",
    "df"
   ]
  },
  {
   "cell_type": "markdown",
   "metadata": {},
   "source": [
    "2\\. Estimate the number of BX in a ORBIT (the value `x`).\n",
    "\n",
    "*Hint*: check when the BX counter reaches the maximum value before being reset to 0."
   ]
  },
  {
   "cell_type": "code",
   "execution_count": 19,
   "metadata": {},
   "outputs": [
    {
     "name": "stdout",
     "output_type": "stream",
     "text": [
      "\u001b[1m Inside a orbit there are at least : \u001b[0m 3563  bx\n"
     ]
    }
   ],
   "source": [
    "bx_in_orbit = df[\"BX_COUNTER\"].max() #every each orbit_in_bx we have +1 orbit,\n",
    "                                     #Taking the max is only an aproximation, but this is for sure a lower bound\n",
    "\n",
    "print(BOLD,\"Inside a orbit there are at least :\",END,bx_in_orbit,\" bx\")\n",
    "\n"
   ]
  },
  {
   "cell_type": "markdown",
   "metadata": {},
   "source": [
    "3\\. Create a new column with the absolute time in ns (as a combination of the other three columns with timing information) since the beginning of the data acquisition, and convert the new column to a Time Series."
   ]
  },
  {
   "cell_type": "code",
   "execution_count": 20,
   "metadata": {},
   "outputs": [
    {
     "name": "stdout",
     "output_type": "stream",
     "text": [
      "\u001b[1m The dataframe with the additional row is: \u001b[0m\n"
     ]
    },
    {
     "data": {
      "text/html": [
       "<div>\n",
       "<style scoped>\n",
       "    .dataframe tbody tr th:only-of-type {\n",
       "        vertical-align: middle;\n",
       "    }\n",
       "\n",
       "    .dataframe tbody tr th {\n",
       "        vertical-align: top;\n",
       "    }\n",
       "\n",
       "    .dataframe thead th {\n",
       "        text-align: right;\n",
       "    }\n",
       "</style>\n",
       "<table border=\"1\" class=\"dataframe\">\n",
       "  <thead>\n",
       "    <tr style=\"text-align: right;\">\n",
       "      <th></th>\n",
       "      <th>HEAD</th>\n",
       "      <th>FPGA</th>\n",
       "      <th>TDC_CHANNEL</th>\n",
       "      <th>ORBIT_CNT</th>\n",
       "      <th>BX_COUNTER</th>\n",
       "      <th>TDC_MEAS</th>\n",
       "      <th>ns_COUNT</th>\n",
       "    </tr>\n",
       "  </thead>\n",
       "  <tbody>\n",
       "    <tr>\n",
       "      <th>0</th>\n",
       "      <td>1</td>\n",
       "      <td>0</td>\n",
       "      <td>123</td>\n",
       "      <td>3869200167</td>\n",
       "      <td>2374</td>\n",
       "      <td>26</td>\n",
       "      <td>3.446490e+14</td>\n",
       "    </tr>\n",
       "    <tr>\n",
       "      <th>1</th>\n",
       "      <td>1</td>\n",
       "      <td>0</td>\n",
       "      <td>124</td>\n",
       "      <td>3869200167</td>\n",
       "      <td>2374</td>\n",
       "      <td>27</td>\n",
       "      <td>3.446490e+14</td>\n",
       "    </tr>\n",
       "    <tr>\n",
       "      <th>2</th>\n",
       "      <td>1</td>\n",
       "      <td>0</td>\n",
       "      <td>63</td>\n",
       "      <td>3869200167</td>\n",
       "      <td>2553</td>\n",
       "      <td>28</td>\n",
       "      <td>3.446490e+14</td>\n",
       "    </tr>\n",
       "    <tr>\n",
       "      <th>3</th>\n",
       "      <td>1</td>\n",
       "      <td>0</td>\n",
       "      <td>64</td>\n",
       "      <td>3869200167</td>\n",
       "      <td>2558</td>\n",
       "      <td>19</td>\n",
       "      <td>3.446490e+14</td>\n",
       "    </tr>\n",
       "    <tr>\n",
       "      <th>4</th>\n",
       "      <td>1</td>\n",
       "      <td>0</td>\n",
       "      <td>64</td>\n",
       "      <td>3869200167</td>\n",
       "      <td>2760</td>\n",
       "      <td>25</td>\n",
       "      <td>3.446490e+14</td>\n",
       "    </tr>\n",
       "    <tr>\n",
       "      <th>...</th>\n",
       "      <td>...</td>\n",
       "      <td>...</td>\n",
       "      <td>...</td>\n",
       "      <td>...</td>\n",
       "      <td>...</td>\n",
       "      <td>...</td>\n",
       "      <td>...</td>\n",
       "    </tr>\n",
       "    <tr>\n",
       "      <th>10495</th>\n",
       "      <td>1</td>\n",
       "      <td>1</td>\n",
       "      <td>97</td>\n",
       "      <td>3869200272</td>\n",
       "      <td>867</td>\n",
       "      <td>24</td>\n",
       "      <td>3.446490e+14</td>\n",
       "    </tr>\n",
       "    <tr>\n",
       "      <th>10496</th>\n",
       "      <td>1</td>\n",
       "      <td>1</td>\n",
       "      <td>98</td>\n",
       "      <td>3869200272</td>\n",
       "      <td>865</td>\n",
       "      <td>7</td>\n",
       "      <td>3.446490e+14</td>\n",
       "    </tr>\n",
       "    <tr>\n",
       "      <th>10497</th>\n",
       "      <td>1</td>\n",
       "      <td>0</td>\n",
       "      <td>56</td>\n",
       "      <td>3869200272</td>\n",
       "      <td>865</td>\n",
       "      <td>0</td>\n",
       "      <td>3.446490e+14</td>\n",
       "    </tr>\n",
       "    <tr>\n",
       "      <th>10498</th>\n",
       "      <td>1</td>\n",
       "      <td>1</td>\n",
       "      <td>139</td>\n",
       "      <td>3869200272</td>\n",
       "      <td>871</td>\n",
       "      <td>0</td>\n",
       "      <td>3.446490e+14</td>\n",
       "    </tr>\n",
       "    <tr>\n",
       "      <th>10499</th>\n",
       "      <td>1</td>\n",
       "      <td>1</td>\n",
       "      <td>47</td>\n",
       "      <td>3869200272</td>\n",
       "      <td>869</td>\n",
       "      <td>18</td>\n",
       "      <td>3.446490e+14</td>\n",
       "    </tr>\n",
       "  </tbody>\n",
       "</table>\n",
       "<p>10500 rows × 7 columns</p>\n",
       "</div>"
      ],
      "text/plain": [
       "       HEAD  FPGA  TDC_CHANNEL   ORBIT_CNT  BX_COUNTER  TDC_MEAS      ns_COUNT\n",
       "0         1     0          123  3869200167        2374        26  3.446490e+14\n",
       "1         1     0          124  3869200167        2374        27  3.446490e+14\n",
       "2         1     0           63  3869200167        2553        28  3.446490e+14\n",
       "3         1     0           64  3869200167        2558        19  3.446490e+14\n",
       "4         1     0           64  3869200167        2760        25  3.446490e+14\n",
       "...     ...   ...          ...         ...         ...       ...           ...\n",
       "10495     1     1           97  3869200272         867        24  3.446490e+14\n",
       "10496     1     1           98  3869200272         865         7  3.446490e+14\n",
       "10497     1     0           56  3869200272         865         0  3.446490e+14\n",
       "10498     1     1          139  3869200272         871         0  3.446490e+14\n",
       "10499     1     1           47  3869200272         869        18  3.446490e+14\n",
       "\n",
       "[10500 rows x 7 columns]"
      ]
     },
     "execution_count": 20,
     "metadata": {},
     "output_type": "execute_result"
    }
   ],
   "source": [
    "orbit_ns = bx_in_orbit*25 #number of ns in a orbit\n",
    "\n",
    "#adding the additional column:\n",
    "#TCD = 25/30ns, BC = 25ns, ORBIT = x*25ns\n",
    "#nanoseconds = TCT*(25/30) + BC*25 + ORBIT*x*25\n",
    "\n",
    "df[\"ns_COUNT\"] = df[\"TDC_MEAS\"]*(25/30) + df[\"BX_COUNTER\"]*25 + df[\"ORBIT_CNT\"]*orbit_ns\n",
    "\n",
    "print(BOLD,\"The dataframe with the additional row is:\",END)\n",
    "\n",
    "df\n"
   ]
  },
  {
   "cell_type": "code",
   "execution_count": 21,
   "metadata": {},
   "outputs": [
    {
     "name": "stdout",
     "output_type": "stream",
     "text": [
      "\u001b[1m TDataframe with a serie of timedelta: \u001b[0m\n"
     ]
    },
    {
     "data": {
      "text/html": [
       "<div>\n",
       "<style scoped>\n",
       "    .dataframe tbody tr th:only-of-type {\n",
       "        vertical-align: middle;\n",
       "    }\n",
       "\n",
       "    .dataframe tbody tr th {\n",
       "        vertical-align: top;\n",
       "    }\n",
       "\n",
       "    .dataframe thead th {\n",
       "        text-align: right;\n",
       "    }\n",
       "</style>\n",
       "<table border=\"1\" class=\"dataframe\">\n",
       "  <thead>\n",
       "    <tr style=\"text-align: right;\">\n",
       "      <th></th>\n",
       "      <th>HEAD</th>\n",
       "      <th>FPGA</th>\n",
       "      <th>TDC_CHANNEL</th>\n",
       "      <th>ORBIT_CNT</th>\n",
       "      <th>BX_COUNTER</th>\n",
       "      <th>TDC_MEAS</th>\n",
       "      <th>ns_COUNT</th>\n",
       "      <th>Time</th>\n",
       "    </tr>\n",
       "  </thead>\n",
       "  <tbody>\n",
       "    <tr>\n",
       "      <th>0</th>\n",
       "      <td>1</td>\n",
       "      <td>0</td>\n",
       "      <td>123</td>\n",
       "      <td>3869200167</td>\n",
       "      <td>2374</td>\n",
       "      <td>26</td>\n",
       "      <td>3.446490e+14</td>\n",
       "      <td>3 days 23:44:09.004934896</td>\n",
       "    </tr>\n",
       "    <tr>\n",
       "      <th>1</th>\n",
       "      <td>1</td>\n",
       "      <td>0</td>\n",
       "      <td>124</td>\n",
       "      <td>3869200167</td>\n",
       "      <td>2374</td>\n",
       "      <td>27</td>\n",
       "      <td>3.446490e+14</td>\n",
       "      <td>3 days 23:44:09.004934897</td>\n",
       "    </tr>\n",
       "    <tr>\n",
       "      <th>2</th>\n",
       "      <td>1</td>\n",
       "      <td>0</td>\n",
       "      <td>63</td>\n",
       "      <td>3869200167</td>\n",
       "      <td>2553</td>\n",
       "      <td>28</td>\n",
       "      <td>3.446490e+14</td>\n",
       "      <td>3 days 23:44:09.004939373</td>\n",
       "    </tr>\n",
       "    <tr>\n",
       "      <th>3</th>\n",
       "      <td>1</td>\n",
       "      <td>0</td>\n",
       "      <td>64</td>\n",
       "      <td>3869200167</td>\n",
       "      <td>2558</td>\n",
       "      <td>19</td>\n",
       "      <td>3.446490e+14</td>\n",
       "      <td>3 days 23:44:09.004939490</td>\n",
       "    </tr>\n",
       "    <tr>\n",
       "      <th>4</th>\n",
       "      <td>1</td>\n",
       "      <td>0</td>\n",
       "      <td>64</td>\n",
       "      <td>3869200167</td>\n",
       "      <td>2760</td>\n",
       "      <td>25</td>\n",
       "      <td>3.446490e+14</td>\n",
       "      <td>3 days 23:44:09.004944545</td>\n",
       "    </tr>\n",
       "    <tr>\n",
       "      <th>...</th>\n",
       "      <td>...</td>\n",
       "      <td>...</td>\n",
       "      <td>...</td>\n",
       "      <td>...</td>\n",
       "      <td>...</td>\n",
       "      <td>...</td>\n",
       "      <td>...</td>\n",
       "      <td>...</td>\n",
       "    </tr>\n",
       "    <tr>\n",
       "      <th>10495</th>\n",
       "      <td>1</td>\n",
       "      <td>1</td>\n",
       "      <td>97</td>\n",
       "      <td>3869200272</td>\n",
       "      <td>867</td>\n",
       "      <td>24</td>\n",
       "      <td>3.446490e+14</td>\n",
       "      <td>3 days 23:44:09.014250095</td>\n",
       "    </tr>\n",
       "    <tr>\n",
       "      <th>10496</th>\n",
       "      <td>1</td>\n",
       "      <td>1</td>\n",
       "      <td>98</td>\n",
       "      <td>3869200272</td>\n",
       "      <td>865</td>\n",
       "      <td>7</td>\n",
       "      <td>3.446490e+14</td>\n",
       "      <td>3 days 23:44:09.014250030</td>\n",
       "    </tr>\n",
       "    <tr>\n",
       "      <th>10497</th>\n",
       "      <td>1</td>\n",
       "      <td>0</td>\n",
       "      <td>56</td>\n",
       "      <td>3869200272</td>\n",
       "      <td>865</td>\n",
       "      <td>0</td>\n",
       "      <td>3.446490e+14</td>\n",
       "      <td>3 days 23:44:09.014250025</td>\n",
       "    </tr>\n",
       "    <tr>\n",
       "      <th>10498</th>\n",
       "      <td>1</td>\n",
       "      <td>1</td>\n",
       "      <td>139</td>\n",
       "      <td>3869200272</td>\n",
       "      <td>871</td>\n",
       "      <td>0</td>\n",
       "      <td>3.446490e+14</td>\n",
       "      <td>3 days 23:44:09.014250175</td>\n",
       "    </tr>\n",
       "    <tr>\n",
       "      <th>10499</th>\n",
       "      <td>1</td>\n",
       "      <td>1</td>\n",
       "      <td>47</td>\n",
       "      <td>3869200272</td>\n",
       "      <td>869</td>\n",
       "      <td>18</td>\n",
       "      <td>3.446490e+14</td>\n",
       "      <td>3 days 23:44:09.014250140</td>\n",
       "    </tr>\n",
       "  </tbody>\n",
       "</table>\n",
       "<p>10500 rows × 8 columns</p>\n",
       "</div>"
      ],
      "text/plain": [
       "       HEAD  FPGA  TDC_CHANNEL   ORBIT_CNT  BX_COUNTER  TDC_MEAS  \\\n",
       "0         1     0          123  3869200167        2374        26   \n",
       "1         1     0          124  3869200167        2374        27   \n",
       "2         1     0           63  3869200167        2553        28   \n",
       "3         1     0           64  3869200167        2558        19   \n",
       "4         1     0           64  3869200167        2760        25   \n",
       "...     ...   ...          ...         ...         ...       ...   \n",
       "10495     1     1           97  3869200272         867        24   \n",
       "10496     1     1           98  3869200272         865         7   \n",
       "10497     1     0           56  3869200272         865         0   \n",
       "10498     1     1          139  3869200272         871         0   \n",
       "10499     1     1           47  3869200272         869        18   \n",
       "\n",
       "           ns_COUNT                      Time  \n",
       "0      3.446490e+14 3 days 23:44:09.004934896  \n",
       "1      3.446490e+14 3 days 23:44:09.004934897  \n",
       "2      3.446490e+14 3 days 23:44:09.004939373  \n",
       "3      3.446490e+14 3 days 23:44:09.004939490  \n",
       "4      3.446490e+14 3 days 23:44:09.004944545  \n",
       "...             ...                       ...  \n",
       "10495  3.446490e+14 3 days 23:44:09.014250095  \n",
       "10496  3.446490e+14 3 days 23:44:09.014250030  \n",
       "10497  3.446490e+14 3 days 23:44:09.014250025  \n",
       "10498  3.446490e+14 3 days 23:44:09.014250175  \n",
       "10499  3.446490e+14 3 days 23:44:09.014250140  \n",
       "\n",
       "[10500 rows x 8 columns]"
      ]
     },
     "execution_count": 21,
     "metadata": {},
     "output_type": "execute_result"
    }
   ],
   "source": [
    "values = df[\"ns_COUNT\"].values #extracting the ns from the dataframe\n",
    "\n",
    "time = pd.to_timedelta(values) #series of timedelta object\n",
    "\n",
    "df[\"Time\"] = time\n",
    "\n",
    "print(BOLD,\"TDataframe with a serie of timedelta:\",END)\n",
    "\n",
    "df"
   ]
  },
  {
   "cell_type": "markdown",
   "metadata": {},
   "source": [
    "4\\. Find out the duration of the data taking in hours, minutes and seconds, by using the features of the Time Series. Perform this check reading the whole dataset."
   ]
  },
  {
   "cell_type": "code",
   "execution_count": 24,
   "metadata": {},
   "outputs": [
    {
     "name": "stdout",
     "output_type": "stream",
     "text": [
      "\u001b[1m \n",
      " Duration of the data taking \u001b[0m 0 days 00:00:00.980140994\n"
     ]
    }
   ],
   "source": [
    "#Reading the entire dataset \n",
    "df = pd.read_csv(\"data/data_000637.txt\")\n",
    "\n",
    "#adding the additional column as before\n",
    "df[\"Time\"] = pd.to_timedelta(df[\"TDC_MEAS\"]*(25/30) + df[\"BX_COUNTER\"]*25 + df[\"ORBIT_CNT\"]*orbit_ns)\n",
    "\n",
    "#saving the initial time and the last time\n",
    "start = df[\"Time\"] .head(1)\n",
    "end = df[\"Time\"] .tail(1)\n",
    "\n",
    "#difference of the time = duration of the transimition\n",
    "delta = end.values[0] - start.values[0]\n",
    "\n",
    "print(BOLD,\"\\n Duration of the data taking\",END, pd.Timedelta(delta, unit='ns'))"
   ]
  },
  {
   "cell_type": "markdown",
   "metadata": {},
   "source": [
    "5\\. Use the `.groupby()` method to find out the noisy channels, i.e. the TDC channels with most counts (print to screen the top 3 and the corresponding counts)"
   ]
  },
  {
   "cell_type": "code",
   "execution_count": 25,
   "metadata": {},
   "outputs": [
    {
     "name": "stdout",
     "output_type": "stream",
     "text": [
      "\u001b[1m The top 3 noisy channel are: \u001b[0m\n"
     ]
    },
    {
     "data": {
      "text/plain": [
       "array([139,  64,  63])"
      ]
     },
     "execution_count": 25,
     "metadata": {},
     "output_type": "execute_result"
    }
   ],
   "source": [
    "#counting the row for each channel -> the other columns will have the same value insie (= count of rows)\n",
    "#so i picked one random column and i order the dataframe according to it (in descending order)\n",
    "df_TMP = df.groupby(\"TDC_CHANNEL\").count().sort_values(\"Time\",ascending=False)\n",
    "\n",
    "print(BOLD,\"The top 3 noisy channel are:\",END)\n",
    "\n",
    "#extracting the 3 channels with most count\n",
    "df_TMP.head(3).index.values\n"
   ]
  },
  {
   "cell_type": "markdown",
   "metadata": {},
   "source": [
    "6\\. Count the number of non-empty orbits (i.e. the number of orbits with at least one hit)."
   ]
  },
  {
   "cell_type": "code",
   "execution_count": 26,
   "metadata": {},
   "outputs": [
    {
     "data": {
      "text/plain": [
       "11001"
      ]
     },
     "execution_count": 26,
     "metadata": {},
     "output_type": "execute_result"
    }
   ],
   "source": [
    "#counting the rows for a specific ORBIT and saving the number of rows of the obtained dataframe\n",
    "#i.e. the number of non-empty orbits\n",
    "num_orbits=len(df.groupby(\"ORBIT_CNT\").count())\n",
    "\n",
    "num_orbits"
   ]
  },
  {
   "cell_type": "markdown",
   "metadata": {},
   "source": [
    "7\\. Count the number of unique orbits with at least one measurement from TDC_CHANNEL=139."
   ]
  },
  {
   "cell_type": "code",
   "execution_count": 29,
   "metadata": {},
   "outputs": [
    {
     "name": "stdout",
     "output_type": "stream",
     "text": [
      "\u001b[1m Number of unique orbits from channel 139: \u001b[0m 10976\n"
     ]
    }
   ],
   "source": [
    "#same as before but i consider only the channels with index = 139\n",
    "num_unique = len(df[df[\"TDC_CHANNEL\"]==139].groupby(\"ORBIT_CNT\").count())\n",
    "\n",
    "print(BOLD,\"Number of unique orbits from channel 139:\",END,num_unique)"
   ]
  },
  {
   "cell_type": "markdown",
   "metadata": {},
   "source": [
    "8\\. Create two Series (one for each FPGA) that have the TDC channel as index, and the number of counts for the corresponding TDC channel as values."
   ]
  },
  {
   "cell_type": "code",
   "execution_count": 31,
   "metadata": {},
   "outputs": [
    {
     "name": "stdout",
     "output_type": "stream",
     "text": [
      "\u001b[1m The dataframes for each fpga:  \u001b[0m\n",
      "\u001b[1m \n",
      "\n",
      "Fpga index: 0 \n",
      " \u001b[0m \n",
      "              COUNT\n",
      "TDC_CHANNEL       \n",
      "1             1215\n",
      "2             1602\n",
      "3             1493\n",
      "4             2352\n",
      "5             1432\n",
      "...            ...\n",
      "129              2\n",
      "130             33\n",
      "137             32\n",
      "138             34\n",
      "139          75617\n",
      "\n",
      "[124 rows x 1 columns]\n",
      "\u001b[1m \n",
      "\n",
      "Fpga index: 1 \n",
      " \u001b[0m \n",
      "              COUNT\n",
      "TDC_CHANNEL       \n",
      "1            28438\n",
      "2            32669\n",
      "3            21970\n",
      "4            26403\n",
      "5            15003\n",
      "...            ...\n",
      "129             35\n",
      "130             38\n",
      "137             36\n",
      "138             36\n",
      "139          32442\n",
      "\n",
      "[132 rows x 1 columns]\n"
     ]
    }
   ],
   "source": [
    "fpga = []#list that contains the dataframes for each fpga index\n",
    " \n",
    "group = df.groupby([\"FPGA\",\"TDC_CHANNEL\"]).count()#multindex datafram that alreary count the number of rows\n",
    "                                                  #for that specific channel divided by the index of the fpga\n",
    "\n",
    "\n",
    "i=0#keeping track of the number of the current iteration in order to read from the list the element \n",
    "\n",
    "for index1 in group.index[0]:#for each different first index(=index of the fpga)\n",
    "      \n",
    "    fpga.append(group.loc[index1])#extract the rows with that index\n",
    "    fpga[i][\"COUNT\"]=fpga[i][\"ORBIT_CNT\"].values #adding a new row with the count (= walues in one random column,\n",
    "                                                                                  #  as before)\n",
    "        \n",
    "    fpga[i]= fpga[i].loc[:,[\"COUNT\"]] #slicing the dafaframe (=removing all the columns except count)\n",
    "    i+=1\n",
    "    \n",
    "\n",
    "print(BOLD,\"The dataframes for each fpga: \",END)\n",
    "\n",
    "for i in range(len(fpga)):\n",
    "   \n",
    "    print(BOLD,\"\\n\\nFpga index: \"+str(i),\"\\n\",END,\"\\n\",fpga[i])\n"
   ]
  },
  {
   "cell_type": "markdown",
   "metadata": {},
   "source": [
    "9\\. **Optional:** Create two histograms (one for each FPGA) that show the number of counts for each TDC channel."
   ]
  },
  {
   "cell_type": "code",
   "execution_count": 48,
   "metadata": {
    "scrolled": false
   },
   "outputs": [
    {
     "data": {
      "image/png": "[encoded data removed]",
      "text/plain": [
       "<Figure size 3600x2160 with 1 Axes>"
      ]
     },
     "metadata": {
      "needs_background": "light"
     },
     "output_type": "display_data"
    },
    {
     "data": {
      "image/png": "[encoded data removed]",
      "text/plain": [
       "<Figure size 3600x2160 with 1 Axes>"
      ]
     },
     "metadata": {
      "needs_background": "light"
     },
     "output_type": "display_data"
    }
   ],
   "source": [
    "#since the data are already counted i can not use the bins to count the values inside the intervals.\n",
    "#i set as x values the indexes of the dataframe, the bins are setted with a dimension of 1 and then i assigned\n",
    "#a weights to each bins equal to the count extracted from the dataframe\n",
    "\n",
    "i=0 #used to set the title of the plots\n",
    "\n",
    "for data in fpga: #iterating over the dataframes in the list\n",
    "    plt.figure(figsize=(50,30))\n",
    "    plt.xlabel(\"TDC CHANNEL\")\n",
    "    plt.ylabel(\"COUNT\")\n",
    "    plt.xticks(range(1,len(data)+1))\n",
    "    #plt.yticks(data[\"COUNT\"].values) # => need a big size for a better visualization\n",
    "    plt.title(\"Dataframe {}\".format(i))\n",
    "    plt.hist(data.index, bins = range(1,len(data)+1), weights = data[\"COUNT\"].values) #explained before\n",
    "    plt.show()\n",
    "    i+=1"
   ]
  },
  {
   "cell_type": "code",
   "execution_count": null,
   "metadata": {},
   "outputs": [],
   "source": []
  }
 ],
 "metadata": {
  "kernelspec": {
   "display_name": "Python 3 (ipykernel)",
   "language": "python",
   "name": "python3"
  },
  "language_info": {
   "codemirror_mode": {
    "name": "ipython",
    "version": 3
   },
   "file_extension": ".py",
   "mimetype": "text/x-python",
   "name": "python",
   "nbconvert_exporter": "python",
   "pygments_lexer": "ipython3",
   "version": "3.9.12"
  }
 },
 "nbformat": 4,
 "nbformat_minor": 2
}
